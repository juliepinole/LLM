{
  "cells": [
    {
      "cell_type": "markdown",
      "metadata": {
        "colab_type": "text",
        "id": "view-in-github"
      },
      "source": [
        "<a href=\"https://colab.research.google.com/github/juliepinole/LLM/blob/main/Assignment2_q3.ipynb\" target=\"_parent\"><img src=\"https://colab.research.google.com/assets/colab-badge.svg\" alt=\"Open In Colab\"/></a>"
      ]
    },
    {
      "cell_type": "markdown",
      "metadata": {
        "id": "IUYEY7EVFGuY"
      },
      "source": [
        "# Prompting and Calibration\n",
        "\n",
        "Large Language Models (LLMs) excel at various tasks and it is interesting to understand when they can be trusted with their generations. **A first step towards making LLMs more trustworthy is to align their associated prediction confidence with their accuracy.**.\n",
        "\n",
        "That's where calibration comes in. A calibrated model will have the confidence level associated with its prediction aligned with the likelihood of the prediction being correct.\n",
        "\n",
        "\n",
        "There are several ways to make an LLM more calibrated with its predictions. Some of the more popular ideas are\n",
        "- Temperature scaling ([source](https://arxiv.org/pdf/1706.04599.pdf))\n",
        "- fine-tuning the model ([source](https://arxiv.org/pdf/2402.06544.pdf))\n",
        "- Post hoc estimation of the probability of its generated responses ([source](https://arxiv.org/abs/2207.05221))\n",
        "- Explanation-based prompting strategy with self-consistency ([source](https://arxiv.org/pdf/2402.13904.pdf))\n",
        "- and many others ...\n",
        "\n",
        "\n",
        "Due to limited resources, we will only explore the effect of different prompting strategies on the calibration properties of the model.\n",
        "\n",
        "Parts that require your interaction are marked TODO:"
      ]
    },
    {
      "cell_type": "markdown",
      "metadata": {
        "id": "_dkXBfXgM4wW"
      },
      "source": [
        "Before going into details, we start by installing some dependencies.\n",
        "We use the [vLLM](https://github.com/vllm-project/vllm) library for our experiments because of its efficient inference implementation."
      ]
    },
    {
      "cell_type": "code",
      "execution_count": 1,
      "metadata": {
        "id": "BIjqMBMANPgb"
      },
      "outputs": [
        {
          "name": "stdout",
          "output_type": "stream",
          "text": [
            "Collecting vllm\n",
            "  Using cached vllm-0.5.0.post1-cp310-cp310-manylinux1_x86_64.whl (130.2 MB)\n",
            "Collecting sentencepiece\n",
            "  Using cached sentencepiece-0.2.0-cp310-cp310-manylinux_2_17_x86_64.manylinux2014_x86_64.whl (1.3 MB)\n",
            "Collecting fastapi\n",
            "  Using cached fastapi-0.111.0-py3-none-any.whl (91 kB)\n",
            "Collecting uvicorn[standard]\n",
            "  Using cached uvicorn-0.30.1-py3-none-any.whl (62 kB)\n",
            "Collecting vllm-flash-attn==2.5.9\n",
            "  Using cached vllm_flash_attn-2.5.9-cp310-cp310-manylinux1_x86_64.whl (37.1 MB)\n",
            "Collecting torch==2.3.0\n",
            "  Using cached torch-2.3.0-cp310-cp310-manylinux1_x86_64.whl (779.1 MB)\n",
            "Collecting filelock>=3.10.4\n",
            "  Using cached filelock-3.15.1-py3-none-any.whl (15 kB)\n",
            "Collecting prometheus-client>=0.18.0\n",
            "  Using cached prometheus_client-0.20.0-py3-none-any.whl (54 kB)\n",
            "Requirement already satisfied: typing-extensions in /home/pinolej/.venv_3/lib/python3.10/site-packages (from vllm) (4.12.2)\n",
            "Requirement already satisfied: psutil in /home/pinolej/.venv_3/lib/python3.10/site-packages (from vllm) (5.9.8)\n",
            "Collecting numpy\n",
            "  Downloading numpy-2.0.0-cp310-cp310-manylinux_2_17_x86_64.manylinux2014_x86_64.whl (19.3 MB)\n",
            "\u001b[2K     \u001b[90m━━━━━━━━━━━━━━━━━━━━━━━━━━━━━━━━━━━━━━━━\u001b[0m \u001b[32m19.3/19.3 MB\u001b[0m \u001b[31m8.6 MB/s\u001b[0m eta \u001b[36m0:00:00\u001b[0m00:01\u001b[0m00:01\u001b[0m\n",
            "\u001b[?25hCollecting requests\n",
            "  Downloading requests-2.32.3-py3-none-any.whl (64 kB)\n",
            "\u001b[2K     \u001b[90m━━━━━━━━━━━━━━━━━━━━━━━━━━━━━━━━━━━━━━━\u001b[0m \u001b[32m64.9/64.9 KB\u001b[0m \u001b[31m193.6 kB/s\u001b[0m eta \u001b[36m0:00:00\u001b[0m \u001b[36m0:00:01\u001b[0m\n",
            "\u001b[?25hCollecting cmake>=3.21\n",
            "  Using cached cmake-3.29.5.1-py3-none-manylinux_2_17_x86_64.manylinux2014_x86_64.whl (26.7 MB)\n",
            "Collecting lm-format-enforcer==0.10.1\n",
            "  Using cached lm_format_enforcer-0.10.1-py3-none-any.whl (42 kB)\n",
            "Collecting tokenizers>=0.19.1\n",
            "  Using cached tokenizers-0.19.1-cp310-cp310-manylinux_2_17_x86_64.manylinux2014_x86_64.whl (3.6 MB)\n",
            "Collecting pillow\n",
            "  Using cached pillow-10.3.0-cp310-cp310-manylinux_2_28_x86_64.whl (4.5 MB)\n",
            "Collecting transformers>=4.40.0\n",
            "  Downloading transformers-4.41.2-py3-none-any.whl (9.1 MB)\n",
            "\u001b[2K     \u001b[90m━━━━━━━━━━━━━━━━━━━━━━━━━━━━━━━━━━━━━━━━\u001b[0m \u001b[32m9.1/9.1 MB\u001b[0m \u001b[31m8.0 MB/s\u001b[0m eta \u001b[36m0:00:00\u001b[0m00:01\u001b[0m00:01\u001b[0m\n",
            "\u001b[?25hCollecting tiktoken>=0.6.0\n",
            "  Using cached tiktoken-0.7.0-cp310-cp310-manylinux_2_17_x86_64.manylinux2014_x86_64.whl (1.1 MB)\n",
            "Collecting ninja\n",
            "  Using cached ninja-1.11.1.1-py2.py3-none-manylinux1_x86_64.manylinux_2_5_x86_64.whl (307 kB)\n",
            "Collecting py-cpuinfo\n",
            "  Using cached py_cpuinfo-9.0.0-py3-none-any.whl (22 kB)\n",
            "Collecting xformers==0.0.26.post1\n",
            "  Using cached xformers-0.0.26.post1-cp310-cp310-manylinux2014_x86_64.whl (222.7 MB)\n",
            "Collecting openai\n",
            "  Using cached openai-1.34.0-py3-none-any.whl (325 kB)\n",
            "Collecting prometheus-fastapi-instrumentator>=7.0.0\n",
            "  Using cached prometheus_fastapi_instrumentator-7.0.0-py3-none-any.whl (19 kB)\n",
            "Collecting ray>=2.9\n",
            "  Using cached ray-2.24.0-cp310-cp310-manylinux2014_x86_64.whl (65.9 MB)\n",
            "Collecting outlines>=0.0.43\n",
            "  Using cached outlines-0.0.45-py3-none-any.whl (101 kB)\n",
            "Collecting pydantic>=2.0\n",
            "  Using cached pydantic-2.7.4-py3-none-any.whl (409 kB)\n",
            "Collecting nvidia-ml-py\n",
            "  Using cached nvidia_ml_py-12.555.43-py3-none-any.whl (39 kB)\n",
            "Collecting aiohttp\n",
            "  Using cached aiohttp-3.9.5-cp310-cp310-manylinux_2_17_x86_64.manylinux2014_x86_64.whl (1.2 MB)\n",
            "Collecting pyyaml\n",
            "  Using cached PyYAML-6.0.1-cp310-cp310-manylinux_2_17_x86_64.manylinux2014_x86_64.whl (705 kB)\n",
            "Collecting interegular>=0.3.2\n",
            "  Using cached interegular-0.3.3-py37-none-any.whl (23 kB)\n",
            "Requirement already satisfied: packaging in /home/pinolej/.venv_3/lib/python3.10/site-packages (from lm-format-enforcer==0.10.1->vllm) (24.1)\n",
            "Collecting sympy\n",
            "  Downloading sympy-1.12.1-py3-none-any.whl (5.7 MB)\n",
            "\u001b[2K     \u001b[90m━━━━━━━━━━━━━━━━━━━━━━━━━━━━━━━━━━━━━━━━\u001b[0m \u001b[32m5.7/5.7 MB\u001b[0m \u001b[31m6.9 MB/s\u001b[0m eta \u001b[36m0:00:00\u001b[0ma \u001b[36m0:00:01\u001b[0m\n",
            "\u001b[?25hCollecting nvidia-cusolver-cu12==11.4.5.107\n",
            "  Using cached nvidia_cusolver_cu12-11.4.5.107-py3-none-manylinux1_x86_64.whl (124.2 MB)\n",
            "Collecting nvidia-nvtx-cu12==12.1.105\n",
            "  Using cached nvidia_nvtx_cu12-12.1.105-py3-none-manylinux1_x86_64.whl (99 kB)\n",
            "Collecting nvidia-cuda-cupti-cu12==12.1.105\n",
            "  Using cached nvidia_cuda_cupti_cu12-12.1.105-py3-none-manylinux1_x86_64.whl (14.1 MB)\n",
            "Collecting nvidia-cuda-nvrtc-cu12==12.1.105\n",
            "  Using cached nvidia_cuda_nvrtc_cu12-12.1.105-py3-none-manylinux1_x86_64.whl (23.7 MB)\n",
            "Collecting jinja2\n",
            "  Downloading jinja2-3.1.4-py3-none-any.whl (133 kB)\n",
            "\u001b[2K     \u001b[90m━━━━━━━━━━━━━━━━━━━━━━━━━━━━━━━━━━━━━━━\u001b[0m \u001b[32m133.3/133.3 KB\u001b[0m \u001b[31m5.9 MB/s\u001b[0m eta \u001b[36m0:00:00\u001b[0m\n",
            "\u001b[?25hCollecting triton==2.3.0\n",
            "  Using cached triton-2.3.0-cp310-cp310-manylinux_2_17_x86_64.manylinux2014_x86_64.whl (168.1 MB)\n",
            "Collecting nvidia-cusparse-cu12==12.1.0.106\n",
            "  Using cached nvidia_cusparse_cu12-12.1.0.106-py3-none-manylinux1_x86_64.whl (196.0 MB)\n",
            "Collecting networkx\n",
            "  Downloading networkx-3.3-py3-none-any.whl (1.7 MB)\n",
            "\u001b[2K     \u001b[90m━━━━━━━━━━━━━━━━━━━━━━━━━━━━━━━━━━━━━━━━\u001b[0m \u001b[32m1.7/1.7 MB\u001b[0m \u001b[31m5.7 MB/s\u001b[0m eta \u001b[36m0:00:00\u001b[0m00:01\u001b[0m00:01\u001b[0m\n",
            "\u001b[?25hCollecting nvidia-cudnn-cu12==8.9.2.26\n",
            "  Using cached nvidia_cudnn_cu12-8.9.2.26-py3-none-manylinux1_x86_64.whl (731.7 MB)\n",
            "Collecting nvidia-cufft-cu12==11.0.2.54\n",
            "  Using cached nvidia_cufft_cu12-11.0.2.54-py3-none-manylinux1_x86_64.whl (121.6 MB)\n",
            "Collecting nvidia-cuda-runtime-cu12==12.1.105\n",
            "  Using cached nvidia_cuda_runtime_cu12-12.1.105-py3-none-manylinux1_x86_64.whl (823 kB)\n",
            "Collecting nvidia-nccl-cu12==2.20.5\n",
            "  Using cached nvidia_nccl_cu12-2.20.5-py3-none-manylinux2014_x86_64.whl (176.2 MB)\n",
            "Collecting nvidia-curand-cu12==10.3.2.106\n",
            "  Using cached nvidia_curand_cu12-10.3.2.106-py3-none-manylinux1_x86_64.whl (56.5 MB)\n",
            "Collecting nvidia-cublas-cu12==12.1.3.1\n",
            "  Using cached nvidia_cublas_cu12-12.1.3.1-py3-none-manylinux1_x86_64.whl (410.6 MB)\n",
            "Collecting fsspec\n",
            "  Downloading fsspec-2024.6.0-py3-none-any.whl (176 kB)\n",
            "\u001b[2K     \u001b[90m━━━━━━━━━━━━━━━━━━━━━━━━━━━━━━━━━━━━━━━\u001b[0m \u001b[32m176.9/176.9 KB\u001b[0m \u001b[31m4.4 MB/s\u001b[0m eta \u001b[36m0:00:00\u001b[0m00:01\u001b[0m\n",
            "\u001b[?25hCollecting nvidia-nvjitlink-cu12\n",
            "  Downloading nvidia_nvjitlink_cu12-12.5.40-py3-none-manylinux2014_x86_64.whl (21.3 MB)\n",
            "\u001b[2K     \u001b[90m━━━━━━━━━━━━━━━━━━━━━━━━━━━━━━━━━━━━━━━━\u001b[0m \u001b[32m21.3/21.3 MB\u001b[0m \u001b[31m7.1 MB/s\u001b[0m eta \u001b[36m0:00:00\u001b[0m00:01\u001b[0m00:01\u001b[0m\n",
            "\u001b[?25hCollecting tqdm\n",
            "  Using cached tqdm-4.66.4-py3-none-any.whl (78 kB)\n",
            "Collecting numba\n",
            "  Downloading numba-0.60.0-cp310-cp310-manylinux2014_x86_64.manylinux_2_17_x86_64.whl (3.7 MB)\n",
            "\u001b[2K     \u001b[90m━━━━━━━━━━━━━━━━━━━━━━━━━━━━━━━━━━━━━━━━\u001b[0m \u001b[32m3.7/3.7 MB\u001b[0m \u001b[31m8.6 MB/s\u001b[0m eta \u001b[36m0:00:00\u001b[0m00:01\u001b[0m00:01\u001b[0mm\n",
            "\u001b[?25hCollecting pyairports\n",
            "  Using cached pyairports-2.1.1-py3-none-any.whl (371 kB)\n",
            "Collecting numpy\n",
            "  Using cached numpy-1.26.4-cp310-cp310-manylinux_2_17_x86_64.manylinux2014_x86_64.whl (18.2 MB)\n",
            "Collecting referencing\n",
            "  Using cached referencing-0.35.1-py3-none-any.whl (26 kB)\n",
            "Collecting datasets\n",
            "  Downloading datasets-2.20.0-py3-none-any.whl (547 kB)\n",
            "\u001b[2K     \u001b[90m━━━━━━━━━━━━━━━━━━━━━━━━━━━━━━━━━━━━━━━\u001b[0m \u001b[32m547.8/547.8 KB\u001b[0m \u001b[31m8.7 MB/s\u001b[0m eta \u001b[36m0:00:00\u001b[0ma \u001b[36m0:00:01\u001b[0m\n",
            "\u001b[?25hCollecting pycountry\n",
            "  Using cached pycountry-24.6.1-py3-none-any.whl (6.3 MB)\n",
            "Collecting diskcache\n",
            "  Using cached diskcache-5.6.3-py3-none-any.whl (45 kB)\n",
            "Collecting lark\n",
            "  Using cached lark-1.1.9-py3-none-any.whl (111 kB)\n",
            "Collecting jsonschema\n",
            "  Using cached jsonschema-4.22.0-py3-none-any.whl (88 kB)\n",
            "Requirement already satisfied: nest-asyncio in /home/pinolej/.venv_3/lib/python3.10/site-packages (from outlines>=0.0.43->vllm) (1.6.0)\n",
            "Collecting cloudpickle\n",
            "  Using cached cloudpickle-3.0.0-py3-none-any.whl (20 kB)\n",
            "Collecting starlette<1.0.0,>=0.30.0\n",
            "  Using cached starlette-0.37.2-py3-none-any.whl (71 kB)\n",
            "Collecting pydantic-core==2.18.4\n",
            "  Using cached pydantic_core-2.18.4-cp310-cp310-manylinux_2_17_x86_64.manylinux2014_x86_64.whl (2.0 MB)\n",
            "Collecting annotated-types>=0.4.0\n",
            "  Using cached annotated_types-0.7.0-py3-none-any.whl (13 kB)\n",
            "Collecting msgpack<2.0.0,>=1.0.0\n",
            "  Using cached msgpack-1.0.8-cp310-cp310-manylinux_2_17_x86_64.manylinux2014_x86_64.whl (385 kB)\n",
            "Collecting click>=7.0\n",
            "  Using cached click-8.1.7-py3-none-any.whl (97 kB)\n",
            "Collecting frozenlist\n",
            "  Using cached frozenlist-1.4.1-cp310-cp310-manylinux_2_5_x86_64.manylinux1_x86_64.manylinux_2_17_x86_64.manylinux2014_x86_64.whl (239 kB)\n",
            "Collecting aiosignal\n",
            "  Using cached aiosignal-1.3.1-py3-none-any.whl (7.6 kB)\n",
            "Collecting protobuf!=3.19.5,>=3.15.3\n",
            "  Downloading protobuf-5.27.1-cp38-abi3-manylinux2014_x86_64.whl (309 kB)\n",
            "\u001b[2K     \u001b[90m━━━━━━━━━━━━━━━━━━━━━━━━━━━━━━━━━━━━━━━\u001b[0m \u001b[32m309.2/309.2 KB\u001b[0m \u001b[31m9.2 MB/s\u001b[0m eta \u001b[36m0:00:00\u001b[0m00:01\u001b[0m\n",
            "\u001b[?25hCollecting regex>=2022.1.18\n",
            "  Using cached regex-2024.5.15-cp310-cp310-manylinux_2_17_x86_64.manylinux2014_x86_64.whl (775 kB)\n",
            "Collecting certifi>=2017.4.17\n",
            "  Downloading certifi-2024.6.2-py3-none-any.whl (164 kB)\n",
            "\u001b[2K     \u001b[90m━━━━━━━━━━━━━━━━━━━━━━━━━━━━━━━━━━━━━━━\u001b[0m \u001b[32m164.4/164.4 KB\u001b[0m \u001b[31m5.2 MB/s\u001b[0m eta \u001b[36m0:00:00\u001b[0m\n",
            "\u001b[?25hCollecting idna<4,>=2.5\n",
            "  Using cached idna-3.7-py3-none-any.whl (66 kB)\n",
            "Collecting urllib3<3,>=1.21.1\n",
            "  Downloading urllib3-2.2.2-py3-none-any.whl (121 kB)\n",
            "\u001b[2K     \u001b[90m━━━━━━━━━━━━━━━━━━━━━━━━━━━━━━━━━━━━━━\u001b[0m \u001b[32m121.4/121.4 KB\u001b[0m \u001b[31m12.7 MB/s\u001b[0m eta \u001b[36m0:00:00\u001b[0m\n",
            "\u001b[?25hCollecting charset-normalizer<4,>=2\n",
            "  Using cached charset_normalizer-3.3.2-cp310-cp310-manylinux_2_17_x86_64.manylinux2014_x86_64.whl (142 kB)\n",
            "Collecting huggingface-hub<1.0,>=0.16.4\n",
            "  Downloading huggingface_hub-0.23.4-py3-none-any.whl (402 kB)\n",
            "\u001b[2K     \u001b[90m━━━━━━━━━━━━━━━━━━━━━━━━━━━━━━━━━━━━━━━\u001b[0m \u001b[32m402.6/402.6 KB\u001b[0m \u001b[31m2.9 MB/s\u001b[0m eta \u001b[36m0:00:00\u001b[0ma \u001b[36m0:00:01\u001b[0m\n",
            "\u001b[?25hCollecting safetensors>=0.4.1\n",
            "  Using cached safetensors-0.4.3-cp310-cp310-manylinux_2_17_x86_64.manylinux2014_x86_64.whl (1.2 MB)\n",
            "Collecting yarl<2.0,>=1.0\n",
            "  Using cached yarl-1.9.4-cp310-cp310-manylinux_2_17_x86_64.manylinux2014_x86_64.whl (301 kB)\n",
            "Collecting multidict<7.0,>=4.5\n",
            "  Using cached multidict-6.0.5-cp310-cp310-manylinux_2_17_x86_64.manylinux2014_x86_64.whl (124 kB)\n",
            "Collecting attrs>=17.3.0\n",
            "  Using cached attrs-23.2.0-py3-none-any.whl (60 kB)\n",
            "Collecting async-timeout<5.0,>=4.0\n",
            "  Using cached async_timeout-4.0.3-py3-none-any.whl (5.7 kB)\n",
            "Collecting httpx>=0.23.0\n",
            "  Using cached httpx-0.27.0-py3-none-any.whl (75 kB)\n",
            "Collecting python-multipart>=0.0.7\n",
            "  Using cached python_multipart-0.0.9-py3-none-any.whl (22 kB)\n",
            "Collecting fastapi-cli>=0.0.2\n",
            "  Using cached fastapi_cli-0.0.4-py3-none-any.whl (9.5 kB)\n",
            "Collecting ujson!=4.0.2,!=4.1.0,!=4.2.0,!=4.3.0,!=5.0.0,!=5.1.0,>=4.0.1\n",
            "  Using cached ujson-5.10.0-cp310-cp310-manylinux_2_17_x86_64.manylinux2014_x86_64.whl (53 kB)\n",
            "Collecting orjson>=3.2.1\n",
            "  Using cached orjson-3.10.5-cp310-cp310-manylinux_2_17_x86_64.manylinux2014_x86_64.whl (144 kB)\n",
            "Collecting email_validator>=2.0.0\n",
            "  Using cached email_validator-2.1.2-py3-none-any.whl (30 kB)\n",
            "Collecting h11>=0.8\n",
            "  Using cached h11-0.14.0-py3-none-any.whl (58 kB)\n",
            "Collecting httptools>=0.5.0\n",
            "  Using cached httptools-0.6.1-cp310-cp310-manylinux_2_5_x86_64.manylinux1_x86_64.manylinux_2_17_x86_64.manylinux2014_x86_64.whl (341 kB)\n",
            "Collecting python-dotenv>=0.13\n",
            "  Using cached python_dotenv-1.0.1-py3-none-any.whl (19 kB)\n",
            "Collecting uvloop!=0.15.0,!=0.15.1,>=0.14.0\n",
            "  Using cached uvloop-0.19.0-cp310-cp310-manylinux_2_17_x86_64.manylinux2014_x86_64.whl (3.4 MB)\n",
            "Collecting watchfiles>=0.13\n",
            "  Using cached watchfiles-0.22.0-cp310-cp310-manylinux_2_17_x86_64.manylinux2014_x86_64.whl (1.2 MB)\n",
            "Collecting websockets>=10.4\n",
            "  Using cached websockets-12.0-cp310-cp310-manylinux_2_5_x86_64.manylinux1_x86_64.manylinux_2_17_x86_64.manylinux2014_x86_64.whl (130 kB)\n",
            "Collecting anyio<5,>=3.5.0\n",
            "  Using cached anyio-4.4.0-py3-none-any.whl (86 kB)\n",
            "Collecting sniffio\n",
            "  Using cached sniffio-1.3.1-py3-none-any.whl (10 kB)\n",
            "Collecting distro<2,>=1.7.0\n",
            "  Using cached distro-1.9.0-py3-none-any.whl (20 kB)\n",
            "Requirement already satisfied: exceptiongroup>=1.0.2 in /home/pinolej/.venv_3/lib/python3.10/site-packages (from anyio<5,>=3.5.0->openai->vllm) (1.2.1)\n",
            "Collecting dnspython>=2.0.0\n",
            "  Using cached dnspython-2.6.1-py3-none-any.whl (307 kB)\n",
            "Collecting typer>=0.12.3\n",
            "  Using cached typer-0.12.3-py3-none-any.whl (47 kB)\n",
            "Collecting httpcore==1.*\n",
            "  Using cached httpcore-1.0.5-py3-none-any.whl (77 kB)\n",
            "Collecting MarkupSafe>=2.0\n",
            "  Using cached MarkupSafe-2.1.5-cp310-cp310-manylinux_2_17_x86_64.manylinux2014_x86_64.whl (25 kB)\n",
            "Collecting multiprocess\n",
            "  Using cached multiprocess-0.70.16-py310-none-any.whl (134 kB)\n",
            "Collecting xxhash\n",
            "  Using cached xxhash-3.4.1-cp310-cp310-manylinux_2_17_x86_64.manylinux2014_x86_64.whl (194 kB)\n",
            "Collecting pandas\n",
            "  Using cached pandas-2.2.2-cp310-cp310-manylinux_2_17_x86_64.manylinux2014_x86_64.whl (13.0 MB)\n",
            "Collecting pyarrow-hotfix\n",
            "  Using cached pyarrow_hotfix-0.6-py3-none-any.whl (7.9 kB)\n",
            "Collecting dill<0.3.9,>=0.3.0\n",
            "  Using cached dill-0.3.8-py3-none-any.whl (116 kB)\n",
            "Collecting fsspec[http]<=2024.5.0,>=2023.1.0\n",
            "  Downloading fsspec-2024.5.0-py3-none-any.whl (316 kB)\n",
            "\u001b[2K     \u001b[90m━━━━━━━━━━━━━━━━━━━━━━━━━━━━━━━━━━━━━━━\u001b[0m \u001b[32m316.1/316.1 KB\u001b[0m \u001b[31m2.8 MB/s\u001b[0m eta \u001b[36m0:00:00\u001b[0ma \u001b[36m0:00:01\u001b[0m\n",
            "\u001b[?25hCollecting pyarrow>=15.0.0\n",
            "  Using cached pyarrow-16.1.0-cp310-cp310-manylinux_2_28_x86_64.whl (40.8 MB)\n",
            "Collecting rpds-py>=0.7.1\n",
            "  Using cached rpds_py-0.18.1-cp310-cp310-manylinux_2_17_x86_64.manylinux2014_x86_64.whl (1.1 MB)\n",
            "Collecting jsonschema-specifications>=2023.03.6\n",
            "  Using cached jsonschema_specifications-2023.12.1-py3-none-any.whl (18 kB)\n",
            "Collecting llvmlite<0.44,>=0.43.0dev0\n",
            "  Downloading llvmlite-0.43.0-cp310-cp310-manylinux_2_17_x86_64.manylinux2014_x86_64.whl (43.9 MB)\n",
            "\u001b[2K     \u001b[90m━━━━━━━━━━━━━━━━━━━━━━━━━━━━━━━━━━━━━━━━\u001b[0m \u001b[32m43.9/43.9 MB\u001b[0m \u001b[31m6.9 MB/s\u001b[0m eta \u001b[36m0:00:00\u001b[0m00:01\u001b[0m00:01\u001b[0m\n",
            "\u001b[?25hCollecting mpmath<1.4.0,>=1.1.0\n",
            "  Downloading mpmath-1.3.0-py3-none-any.whl (536 kB)\n",
            "\u001b[2K     \u001b[90m━━━━━━━━━━━━━━━━━━━━━━━━━━━━━━━━━━━━━━━\u001b[0m \u001b[32m536.2/536.2 KB\u001b[0m \u001b[31m8.2 MB/s\u001b[0m eta \u001b[36m0:00:00\u001b[0ma \u001b[36m0:00:01\u001b[0m\n",
            "\u001b[?25hCollecting rich>=10.11.0\n",
            "  Using cached rich-13.7.1-py3-none-any.whl (240 kB)\n",
            "Collecting shellingham>=1.3.0\n",
            "  Using cached shellingham-1.5.4-py2.py3-none-any.whl (9.8 kB)\n",
            "Collecting tzdata>=2022.7\n",
            "  Using cached tzdata-2024.1-py2.py3-none-any.whl (345 kB)\n",
            "Collecting pytz>=2020.1\n",
            "  Using cached pytz-2024.1-py2.py3-none-any.whl (505 kB)\n",
            "Requirement already satisfied: python-dateutil>=2.8.2 in /home/pinolej/.venv_3/lib/python3.10/site-packages (from pandas->datasets->outlines>=0.0.43->vllm) (2.9.0.post0)\n",
            "Requirement already satisfied: six>=1.5 in /home/pinolej/.venv_3/lib/python3.10/site-packages (from python-dateutil>=2.8.2->pandas->datasets->outlines>=0.0.43->vllm) (1.16.0)\n",
            "Requirement already satisfied: pygments<3.0.0,>=2.13.0 in /home/pinolej/.venv_3/lib/python3.10/site-packages (from rich>=10.11.0->typer>=0.12.3->fastapi-cli>=0.0.2->fastapi->vllm) (2.18.0)\n",
            "Collecting markdown-it-py>=2.2.0\n",
            "  Using cached markdown_it_py-3.0.0-py3-none-any.whl (87 kB)\n",
            "Collecting mdurl~=0.1\n",
            "  Using cached mdurl-0.1.2-py3-none-any.whl (10.0 kB)\n",
            "Installing collected packages: sentencepiece, pytz, pyairports, py-cpuinfo, nvidia-ml-py, ninja, mpmath, xxhash, websockets, uvloop, urllib3, ujson, tzdata, tqdm, sympy, sniffio, shellingham, safetensors, rpds-py, regex, pyyaml, python-multipart, python-dotenv, pydantic-core, pycountry, pyarrow-hotfix, protobuf, prometheus-client, pillow, orjson, nvidia-nvtx-cu12, nvidia-nvjitlink-cu12, nvidia-nccl-cu12, nvidia-curand-cu12, nvidia-cufft-cu12, nvidia-cuda-runtime-cu12, nvidia-cuda-nvrtc-cu12, nvidia-cuda-cupti-cu12, nvidia-cublas-cu12, numpy, networkx, multidict, msgpack, mdurl, MarkupSafe, llvmlite, lark, interegular, idna, httptools, h11, fsspec, frozenlist, filelock, dnspython, distro, diskcache, dill, cmake, cloudpickle, click, charset-normalizer, certifi, attrs, async-timeout, annotated-types, yarl, uvicorn, triton, requests, referencing, pydantic, pyarrow, pandas, nvidia-cusparse-cu12, nvidia-cudnn-cu12, numba, multiprocess, markdown-it-py, jinja2, httpcore, email_validator, anyio, aiosignal, watchfiles, tiktoken, starlette, rich, nvidia-cusolver-cu12, lm-format-enforcer, jsonschema-specifications, huggingface-hub, httpx, aiohttp, typer, torch, tokenizers, prometheus-fastapi-instrumentator, openai, jsonschema, xformers, vllm-flash-attn, transformers, ray, fastapi-cli, datasets, outlines, fastapi, vllm\n",
            "Successfully installed MarkupSafe-2.1.5 aiohttp-3.9.5 aiosignal-1.3.1 annotated-types-0.7.0 anyio-4.4.0 async-timeout-4.0.3 attrs-23.2.0 certifi-2024.6.2 charset-normalizer-3.3.2 click-8.1.7 cloudpickle-3.0.0 cmake-3.29.5.1 datasets-2.20.0 dill-0.3.8 diskcache-5.6.3 distro-1.9.0 dnspython-2.6.1 email_validator-2.1.2 fastapi-0.111.0 fastapi-cli-0.0.4 filelock-3.15.1 frozenlist-1.4.1 fsspec-2024.5.0 h11-0.14.0 httpcore-1.0.5 httptools-0.6.1 httpx-0.27.0 huggingface-hub-0.23.4 idna-3.7 interegular-0.3.3 jinja2-3.1.4 jsonschema-4.22.0 jsonschema-specifications-2023.12.1 lark-1.1.9 llvmlite-0.43.0 lm-format-enforcer-0.10.1 markdown-it-py-3.0.0 mdurl-0.1.2 mpmath-1.3.0 msgpack-1.0.8 multidict-6.0.5 multiprocess-0.70.16 networkx-3.3 ninja-1.11.1.1 numba-0.60.0 numpy-1.26.4 nvidia-cublas-cu12-12.1.3.1 nvidia-cuda-cupti-cu12-12.1.105 nvidia-cuda-nvrtc-cu12-12.1.105 nvidia-cuda-runtime-cu12-12.1.105 nvidia-cudnn-cu12-8.9.2.26 nvidia-cufft-cu12-11.0.2.54 nvidia-curand-cu12-10.3.2.106 nvidia-cusolver-cu12-11.4.5.107 nvidia-cusparse-cu12-12.1.0.106 nvidia-ml-py-12.555.43 nvidia-nccl-cu12-2.20.5 nvidia-nvjitlink-cu12-12.5.40 nvidia-nvtx-cu12-12.1.105 openai-1.34.0 orjson-3.10.5 outlines-0.0.45 pandas-2.2.2 pillow-10.3.0 prometheus-client-0.20.0 prometheus-fastapi-instrumentator-7.0.0 protobuf-5.27.1 py-cpuinfo-9.0.0 pyairports-2.1.1 pyarrow-16.1.0 pyarrow-hotfix-0.6 pycountry-24.6.1 pydantic-2.7.4 pydantic-core-2.18.4 python-dotenv-1.0.1 python-multipart-0.0.9 pytz-2024.1 pyyaml-6.0.1 ray-2.24.0 referencing-0.35.1 regex-2024.5.15 requests-2.32.3 rich-13.7.1 rpds-py-0.18.1 safetensors-0.4.3 sentencepiece-0.2.0 shellingham-1.5.4 sniffio-1.3.1 starlette-0.37.2 sympy-1.12.1 tiktoken-0.7.0 tokenizers-0.19.1 torch-2.3.0 tqdm-4.66.4 transformers-4.41.2 triton-2.3.0 typer-0.12.3 tzdata-2024.1 ujson-5.10.0 urllib3-2.2.2 uvicorn-0.30.1 uvloop-0.19.0 vllm-0.5.0.post1 vllm-flash-attn-2.5.9 watchfiles-0.22.0 websockets-12.0 xformers-0.0.26.post1 xxhash-3.4.1 yarl-1.9.4\n"
          ]
        }
      ],
      "source": [
        "# install dependencies (We are using VLLM to load our model and then to do inference over it)\n",
        "!pip install vllm"
      ]
    },
    {
      "cell_type": "markdown",
      "metadata": {
        "id": "Lm7qon7TOB03"
      },
      "source": [
        "Once the dependency is installed, the next few important parameters to keep in mind are:\n",
        "- *SamplingParams* - to define the number of samples, temperature, maximum number of tokens, and to get the log probabilities.\n",
        "- *LLM* - for initializing the model given it's name\n",
        "- *llm.generate* - to generate the output\n",
        "\n",
        "If interested in more details, prefer refer to the [vLLM documentation](https://docs.vllm.ai/en/latest/getting_started/quickstart.html)."
      ]
    },
    {
      "cell_type": "code",
      "execution_count": 3,
      "metadata": {
        "id": "PhzXB4wSy4C6"
      },
      "outputs": [],
      "source": [
        "from vllm import LLM, SamplingParams\n",
        "import math\n",
        "import random\n",
        "from typing import List, Any\n",
        "\n",
        "random.seed(42)\n",
        "!export VLLM_USE_MODELSCOPE=True"
      ]
    },
    {
      "cell_type": "code",
      "execution_count": 4,
      "metadata": {
        "id": "wF_kDwCQx5h-"
      },
      "outputs": [],
      "source": [
        "def initialize_model(model_name: str):\n",
        "  llm = LLM(model=model_name, trust_remote_code=True)\n",
        "  print(f\"{model_name} initialized successfully!!\")\n",
        "  return llm"
      ]
    },
    {
      "cell_type": "code",
      "execution_count": 5,
      "metadata": {
        "id": "E95xLa48x7C9"
      },
      "outputs": [],
      "source": [
        "def generate(llm, prompt: str, num_samples: int, temperature: float):\n",
        "  \"\"\"\n",
        "  Generate completions from the LLM.\n",
        "  :param llm: Model instance.\n",
        "  :param prompt: Text of the prompt.\n",
        "  :param num_samples: Number of samples to generate.\n",
        "  :param temperature: Temperature for sampling.\n",
        "  :return: List of generated texts, List of the raw outputs\n",
        "  \"\"\"\n",
        "  sampling_params = SamplingParams(temperature=temperature, n=num_samples, max_tokens=500, logprobs=1, seed=42)\n",
        "  outputs = llm.generate([prompt], sampling_params)\n",
        "  completions = [output.text for output in outputs[0].outputs]\n",
        "  return completions, outputs"
      ]
    },
    {
      "cell_type": "code",
      "execution_count": 6,
      "metadata": {
        "id": "rkJZL_vRzevm"
      },
      "outputs": [],
      "source": [
        "# Example prompt -> Just to test the model\n",
        "prompt = \"what is the meaning of life?\""
      ]
    },
    {
      "cell_type": "code",
      "execution_count": 7,
      "metadata": {
        "id": "2ObfkfWz_kZF"
      },
      "outputs": [
        {
          "name": "stdout",
          "output_type": "stream",
          "text": [
            "WARNING 06-18 16:12:40 config.py:437] Possibly too large swap space. 4.00 GiB out of the 7.60 GiB total CPU memory is allocated for the swap space.\n",
            "INFO 06-18 16:12:40 llm_engine.py:161] Initializing an LLM engine (v0.5.0.post1) with config: model='microsoft/phi-2', speculative_config=None, tokenizer='microsoft/phi-2', skip_tokenizer_init=False, tokenizer_mode=auto, revision=None, rope_scaling=None, rope_theta=None, tokenizer_revision=None, trust_remote_code=False, dtype=torch.float16, max_seq_len=2048, download_dir=None, load_format=LoadFormat.AUTO, tensor_parallel_size=1, disable_custom_all_reduce=False, quantization=None, enforce_eager=False, kv_cache_dtype=auto, quantization_param_path=None, device_config=cuda, decoding_config=DecodingConfig(guided_decoding_backend='outlines'), seed=0, served_model_name=microsoft/phi-2)\n"
          ]
        },
        {
          "name": "stderr",
          "output_type": "stream",
          "text": [
            "/home/pinolej/.venv_3/lib/python3.10/site-packages/huggingface_hub/file_download.py:1132: FutureWarning: `resume_download` is deprecated and will be removed in version 1.0.0. Downloads always resume when possible. If you want to force a new download, use `force_download=True`.\n",
            "  warnings.warn(\n",
            "Special tokens have been added in the vocabulary, make sure the associated word embeddings are fine-tuned or trained.\n"
          ]
        },
        {
          "name": "stdout",
          "output_type": "stream",
          "text": [
            "WARNING 06-18 16:12:41 utils.py:465] Using 'pin_memory=False' as WSL is detected. This may slow down the performance.\n"
          ]
        },
        {
          "ename": "RuntimeError",
          "evalue": "Found no NVIDIA driver on your system. Please check that you have an NVIDIA GPU and installed a driver from http://www.nvidia.com/Download/index.aspx",
          "output_type": "error",
          "traceback": [
            "\u001b[0;31m---------------------------------------------------------------------------\u001b[0m",
            "\u001b[0;31mRuntimeError\u001b[0m                              Traceback (most recent call last)",
            "Cell \u001b[0;32mIn[7], line 2\u001b[0m\n\u001b[1;32m      1\u001b[0m \u001b[38;5;66;03m#load the model\u001b[39;00m\n\u001b[0;32m----> 2\u001b[0m llm \u001b[38;5;241m=\u001b[39m \u001b[43mLLM\u001b[49m\u001b[43m(\u001b[49m\u001b[43mmodel\u001b[49m\u001b[38;5;241;43m=\u001b[39;49m\u001b[38;5;124;43m\"\u001b[39;49m\u001b[38;5;124;43mmicrosoft/phi-2\u001b[39;49m\u001b[38;5;124;43m\"\u001b[39;49m\u001b[43m)\u001b[49m\n",
            "File \u001b[0;32m~/.venv_3/lib/python3.10/site-packages/vllm/entrypoints/llm.py:144\u001b[0m, in \u001b[0;36mLLM.__init__\u001b[0;34m(self, model, tokenizer, tokenizer_mode, skip_tokenizer_init, trust_remote_code, tensor_parallel_size, dtype, quantization, revision, tokenizer_revision, seed, gpu_memory_utilization, swap_space, enforce_eager, max_context_len_to_capture, max_seq_len_to_capture, disable_custom_all_reduce, **kwargs)\u001b[0m\n\u001b[1;32m    123\u001b[0m     kwargs[\u001b[38;5;124m\"\u001b[39m\u001b[38;5;124mdisable_log_stats\u001b[39m\u001b[38;5;124m\"\u001b[39m] \u001b[38;5;241m=\u001b[39m \u001b[38;5;28;01mTrue\u001b[39;00m\n\u001b[1;32m    124\u001b[0m engine_args \u001b[38;5;241m=\u001b[39m EngineArgs(\n\u001b[1;32m    125\u001b[0m     model\u001b[38;5;241m=\u001b[39mmodel,\n\u001b[1;32m    126\u001b[0m     tokenizer\u001b[38;5;241m=\u001b[39mtokenizer,\n\u001b[0;32m   (...)\u001b[0m\n\u001b[1;32m    142\u001b[0m     \u001b[38;5;241m*\u001b[39m\u001b[38;5;241m*\u001b[39mkwargs,\n\u001b[1;32m    143\u001b[0m )\n\u001b[0;32m--> 144\u001b[0m \u001b[38;5;28mself\u001b[39m\u001b[38;5;241m.\u001b[39mllm_engine \u001b[38;5;241m=\u001b[39m \u001b[43mLLMEngine\u001b[49m\u001b[38;5;241;43m.\u001b[39;49m\u001b[43mfrom_engine_args\u001b[49m\u001b[43m(\u001b[49m\n\u001b[1;32m    145\u001b[0m \u001b[43m    \u001b[49m\u001b[43mengine_args\u001b[49m\u001b[43m,\u001b[49m\u001b[43m \u001b[49m\u001b[43musage_context\u001b[49m\u001b[38;5;241;43m=\u001b[39;49m\u001b[43mUsageContext\u001b[49m\u001b[38;5;241;43m.\u001b[39;49m\u001b[43mLLM_CLASS\u001b[49m\u001b[43m)\u001b[49m\n\u001b[1;32m    146\u001b[0m \u001b[38;5;28mself\u001b[39m\u001b[38;5;241m.\u001b[39mrequest_counter \u001b[38;5;241m=\u001b[39m Counter()\n",
            "File \u001b[0;32m~/.venv_3/lib/python3.10/site-packages/vllm/engine/llm_engine.py:363\u001b[0m, in \u001b[0;36mLLMEngine.from_engine_args\u001b[0;34m(cls, engine_args, usage_context)\u001b[0m\n\u001b[1;32m    360\u001b[0m     executor_class \u001b[38;5;241m=\u001b[39m GPUExecutor\n\u001b[1;32m    362\u001b[0m \u001b[38;5;66;03m# Create the LLM engine.\u001b[39;00m\n\u001b[0;32m--> 363\u001b[0m engine \u001b[38;5;241m=\u001b[39m \u001b[38;5;28;43mcls\u001b[39;49m\u001b[43m(\u001b[49m\n\u001b[1;32m    364\u001b[0m \u001b[43m    \u001b[49m\u001b[38;5;241;43m*\u001b[39;49m\u001b[38;5;241;43m*\u001b[39;49m\u001b[43mengine_config\u001b[49m\u001b[38;5;241;43m.\u001b[39;49m\u001b[43mto_dict\u001b[49m\u001b[43m(\u001b[49m\u001b[43m)\u001b[49m\u001b[43m,\u001b[49m\n\u001b[1;32m    365\u001b[0m \u001b[43m    \u001b[49m\u001b[43mexecutor_class\u001b[49m\u001b[38;5;241;43m=\u001b[39;49m\u001b[43mexecutor_class\u001b[49m\u001b[43m,\u001b[49m\n\u001b[1;32m    366\u001b[0m \u001b[43m    \u001b[49m\u001b[43mlog_stats\u001b[49m\u001b[38;5;241;43m=\u001b[39;49m\u001b[38;5;129;43;01mnot\u001b[39;49;00m\u001b[43m \u001b[49m\u001b[43mengine_args\u001b[49m\u001b[38;5;241;43m.\u001b[39;49m\u001b[43mdisable_log_stats\u001b[49m\u001b[43m,\u001b[49m\n\u001b[1;32m    367\u001b[0m \u001b[43m    \u001b[49m\u001b[43musage_context\u001b[49m\u001b[38;5;241;43m=\u001b[39;49m\u001b[43musage_context\u001b[49m\u001b[43m,\u001b[49m\n\u001b[1;32m    368\u001b[0m \u001b[43m\u001b[49m\u001b[43m)\u001b[49m\n\u001b[1;32m    369\u001b[0m \u001b[38;5;28;01mreturn\u001b[39;00m engine\n",
            "File \u001b[0;32m~/.venv_3/lib/python3.10/site-packages/vllm/engine/llm_engine.py:223\u001b[0m, in \u001b[0;36mLLMEngine.__init__\u001b[0;34m(self, model_config, cache_config, parallel_config, scheduler_config, device_config, load_config, lora_config, vision_language_config, speculative_config, decoding_config, executor_class, log_stats, usage_context)\u001b[0m\n\u001b[1;32m    219\u001b[0m \u001b[38;5;28mself\u001b[39m\u001b[38;5;241m.\u001b[39mseq_counter \u001b[38;5;241m=\u001b[39m Counter()\n\u001b[1;32m    220\u001b[0m \u001b[38;5;28mself\u001b[39m\u001b[38;5;241m.\u001b[39mgeneration_config_fields \u001b[38;5;241m=\u001b[39m _load_generation_config_dict(\n\u001b[1;32m    221\u001b[0m     model_config)\n\u001b[0;32m--> 223\u001b[0m \u001b[38;5;28mself\u001b[39m\u001b[38;5;241m.\u001b[39mmodel_executor \u001b[38;5;241m=\u001b[39m \u001b[43mexecutor_class\u001b[49m\u001b[43m(\u001b[49m\n\u001b[1;32m    224\u001b[0m \u001b[43m    \u001b[49m\u001b[43mmodel_config\u001b[49m\u001b[38;5;241;43m=\u001b[39;49m\u001b[43mmodel_config\u001b[49m\u001b[43m,\u001b[49m\n\u001b[1;32m    225\u001b[0m \u001b[43m    \u001b[49m\u001b[43mcache_config\u001b[49m\u001b[38;5;241;43m=\u001b[39;49m\u001b[43mcache_config\u001b[49m\u001b[43m,\u001b[49m\n\u001b[1;32m    226\u001b[0m \u001b[43m    \u001b[49m\u001b[43mparallel_config\u001b[49m\u001b[38;5;241;43m=\u001b[39;49m\u001b[43mparallel_config\u001b[49m\u001b[43m,\u001b[49m\n\u001b[1;32m    227\u001b[0m \u001b[43m    \u001b[49m\u001b[43mscheduler_config\u001b[49m\u001b[38;5;241;43m=\u001b[39;49m\u001b[43mscheduler_config\u001b[49m\u001b[43m,\u001b[49m\n\u001b[1;32m    228\u001b[0m \u001b[43m    \u001b[49m\u001b[43mdevice_config\u001b[49m\u001b[38;5;241;43m=\u001b[39;49m\u001b[43mdevice_config\u001b[49m\u001b[43m,\u001b[49m\n\u001b[1;32m    229\u001b[0m \u001b[43m    \u001b[49m\u001b[43mlora_config\u001b[49m\u001b[38;5;241;43m=\u001b[39;49m\u001b[43mlora_config\u001b[49m\u001b[43m,\u001b[49m\n\u001b[1;32m    230\u001b[0m \u001b[43m    \u001b[49m\u001b[43mvision_language_config\u001b[49m\u001b[38;5;241;43m=\u001b[39;49m\u001b[43mvision_language_config\u001b[49m\u001b[43m,\u001b[49m\n\u001b[1;32m    231\u001b[0m \u001b[43m    \u001b[49m\u001b[43mspeculative_config\u001b[49m\u001b[38;5;241;43m=\u001b[39;49m\u001b[43mspeculative_config\u001b[49m\u001b[43m,\u001b[49m\n\u001b[1;32m    232\u001b[0m \u001b[43m    \u001b[49m\u001b[43mload_config\u001b[49m\u001b[38;5;241;43m=\u001b[39;49m\u001b[43mload_config\u001b[49m\u001b[43m,\u001b[49m\n\u001b[1;32m    233\u001b[0m \u001b[43m\u001b[49m\u001b[43m)\u001b[49m\n\u001b[1;32m    235\u001b[0m \u001b[38;5;28;01mif\u001b[39;00m \u001b[38;5;129;01mnot\u001b[39;00m \u001b[38;5;28mself\u001b[39m\u001b[38;5;241m.\u001b[39mmodel_config\u001b[38;5;241m.\u001b[39membedding_mode:\n\u001b[1;32m    236\u001b[0m     \u001b[38;5;28mself\u001b[39m\u001b[38;5;241m.\u001b[39m_initialize_kv_caches()\n",
            "File \u001b[0;32m~/.venv_3/lib/python3.10/site-packages/vllm/executor/executor_base.py:41\u001b[0m, in \u001b[0;36mExecutorBase.__init__\u001b[0;34m(self, model_config, cache_config, parallel_config, scheduler_config, device_config, load_config, lora_config, vision_language_config, speculative_config)\u001b[0m\n\u001b[1;32m     38\u001b[0m \u001b[38;5;28mself\u001b[39m\u001b[38;5;241m.\u001b[39mvision_language_config \u001b[38;5;241m=\u001b[39m vision_language_config\n\u001b[1;32m     39\u001b[0m \u001b[38;5;28mself\u001b[39m\u001b[38;5;241m.\u001b[39mspeculative_config \u001b[38;5;241m=\u001b[39m speculative_config\n\u001b[0;32m---> 41\u001b[0m \u001b[38;5;28;43mself\u001b[39;49m\u001b[38;5;241;43m.\u001b[39;49m\u001b[43m_init_executor\u001b[49m\u001b[43m(\u001b[49m\u001b[43m)\u001b[49m\n",
            "File \u001b[0;32m~/.venv_3/lib/python3.10/site-packages/vllm/executor/gpu_executor.py:22\u001b[0m, in \u001b[0;36mGPUExecutor._init_executor\u001b[0;34m(self)\u001b[0m\n\u001b[1;32m     17\u001b[0m \u001b[38;5;250m\u001b[39m\u001b[38;5;124;03m\"\"\"Initialize the worker and load the model.\u001b[39;00m\n\u001b[1;32m     18\u001b[0m \u001b[38;5;124;03m\"\"\"\u001b[39;00m\n\u001b[1;32m     19\u001b[0m \u001b[38;5;28;01massert\u001b[39;00m \u001b[38;5;28mself\u001b[39m\u001b[38;5;241m.\u001b[39mparallel_config\u001b[38;5;241m.\u001b[39mworld_size \u001b[38;5;241m==\u001b[39m \u001b[38;5;241m1\u001b[39m, (\n\u001b[1;32m     20\u001b[0m     \u001b[38;5;124m\"\u001b[39m\u001b[38;5;124mGPUExecutor only supports single GPU.\u001b[39m\u001b[38;5;124m\"\u001b[39m)\n\u001b[0;32m---> 22\u001b[0m \u001b[38;5;28mself\u001b[39m\u001b[38;5;241m.\u001b[39mdriver_worker \u001b[38;5;241m=\u001b[39m \u001b[38;5;28;43mself\u001b[39;49m\u001b[38;5;241;43m.\u001b[39;49m\u001b[43m_create_worker\u001b[49m\u001b[43m(\u001b[49m\u001b[43m)\u001b[49m\n\u001b[1;32m     23\u001b[0m \u001b[38;5;28mself\u001b[39m\u001b[38;5;241m.\u001b[39mdriver_worker\u001b[38;5;241m.\u001b[39minit_device()\n\u001b[1;32m     24\u001b[0m \u001b[38;5;28mself\u001b[39m\u001b[38;5;241m.\u001b[39mdriver_worker\u001b[38;5;241m.\u001b[39mload_model()\n",
            "File \u001b[0;32m~/.venv_3/lib/python3.10/site-packages/vllm/executor/gpu_executor.py:67\u001b[0m, in \u001b[0;36mGPUExecutor._create_worker\u001b[0;34m(self, local_rank, rank, distributed_init_method)\u001b[0m\n\u001b[1;32m     61\u001b[0m     worker_class_name \u001b[38;5;241m=\u001b[39m \u001b[38;5;124m\"\u001b[39m\u001b[38;5;124mcreate_spec_worker\u001b[39m\u001b[38;5;124m\"\u001b[39m\n\u001b[1;32m     63\u001b[0m wrapper \u001b[38;5;241m=\u001b[39m WorkerWrapperBase(\n\u001b[1;32m     64\u001b[0m     worker_module_name\u001b[38;5;241m=\u001b[39mworker_module_name,\n\u001b[1;32m     65\u001b[0m     worker_class_name\u001b[38;5;241m=\u001b[39mworker_class_name,\n\u001b[1;32m     66\u001b[0m )\n\u001b[0;32m---> 67\u001b[0m \u001b[43mwrapper\u001b[49m\u001b[38;5;241;43m.\u001b[39;49m\u001b[43minit_worker\u001b[49m\u001b[43m(\u001b[49m\u001b[38;5;241;43m*\u001b[39;49m\u001b[38;5;241;43m*\u001b[39;49m\u001b[38;5;28;43mself\u001b[39;49m\u001b[38;5;241;43m.\u001b[39;49m\u001b[43m_get_worker_kwargs\u001b[49m\u001b[43m(\u001b[49m\u001b[43mlocal_rank\u001b[49m\u001b[43m,\u001b[49m\u001b[43m \u001b[49m\u001b[43mrank\u001b[49m\u001b[43m,\u001b[49m\n\u001b[1;32m     68\u001b[0m \u001b[43m                                              \u001b[49m\u001b[43mdistributed_init_method\u001b[49m\u001b[43m)\u001b[49m\u001b[43m)\u001b[49m\n\u001b[1;32m     69\u001b[0m \u001b[38;5;28;01mreturn\u001b[39;00m wrapper\u001b[38;5;241m.\u001b[39mworker\n",
            "File \u001b[0;32m~/.venv_3/lib/python3.10/site-packages/vllm/worker/worker_base.py:134\u001b[0m, in \u001b[0;36mWorkerWrapperBase.init_worker\u001b[0;34m(self, *args, **kwargs)\u001b[0m\n\u001b[1;32m    132\u001b[0m mod \u001b[38;5;241m=\u001b[39m importlib\u001b[38;5;241m.\u001b[39mimport_module(\u001b[38;5;28mself\u001b[39m\u001b[38;5;241m.\u001b[39mworker_module_name)\n\u001b[1;32m    133\u001b[0m worker_class \u001b[38;5;241m=\u001b[39m \u001b[38;5;28mgetattr\u001b[39m(mod, \u001b[38;5;28mself\u001b[39m\u001b[38;5;241m.\u001b[39mworker_class_name)\n\u001b[0;32m--> 134\u001b[0m \u001b[38;5;28mself\u001b[39m\u001b[38;5;241m.\u001b[39mworker \u001b[38;5;241m=\u001b[39m \u001b[43mworker_class\u001b[49m\u001b[43m(\u001b[49m\u001b[38;5;241;43m*\u001b[39;49m\u001b[43margs\u001b[49m\u001b[43m,\u001b[49m\u001b[43m \u001b[49m\u001b[38;5;241;43m*\u001b[39;49m\u001b[38;5;241;43m*\u001b[39;49m\u001b[43mkwargs\u001b[49m\u001b[43m)\u001b[49m\n",
            "File \u001b[0;32m~/.venv_3/lib/python3.10/site-packages/vllm/worker/worker.py:75\u001b[0m, in \u001b[0;36mWorker.__init__\u001b[0;34m(self, model_config, parallel_config, scheduler_config, device_config, cache_config, load_config, local_rank, rank, distributed_init_method, lora_config, vision_language_config, speculative_config, is_driver_worker)\u001b[0m\n\u001b[1;32m     70\u001b[0m     \u001b[38;5;28;01massert\u001b[39;00m \u001b[38;5;129;01mnot\u001b[39;00m \u001b[38;5;28mself\u001b[39m\u001b[38;5;241m.\u001b[39mlora_config, (\n\u001b[1;32m     71\u001b[0m         \u001b[38;5;124m\"\u001b[39m\u001b[38;5;124mTo be tested: vision language model with LoRA settings.\u001b[39m\u001b[38;5;124m\"\u001b[39m)\n\u001b[1;32m     73\u001b[0m ModelRunnerClass \u001b[38;5;241m=\u001b[39m (EmbeddingModelRunner \u001b[38;5;28;01mif\u001b[39;00m\n\u001b[1;32m     74\u001b[0m                     \u001b[38;5;28mself\u001b[39m\u001b[38;5;241m.\u001b[39mmodel_config\u001b[38;5;241m.\u001b[39membedding_mode \u001b[38;5;28;01melse\u001b[39;00m ModelRunner)\n\u001b[0;32m---> 75\u001b[0m \u001b[38;5;28mself\u001b[39m\u001b[38;5;241m.\u001b[39mmodel_runner \u001b[38;5;241m=\u001b[39m \u001b[43mModelRunnerClass\u001b[49m\u001b[43m(\u001b[49m\n\u001b[1;32m     76\u001b[0m \u001b[43m    \u001b[49m\u001b[43mmodel_config\u001b[49m\u001b[43m,\u001b[49m\n\u001b[1;32m     77\u001b[0m \u001b[43m    \u001b[49m\u001b[43mparallel_config\u001b[49m\u001b[43m,\u001b[49m\n\u001b[1;32m     78\u001b[0m \u001b[43m    \u001b[49m\u001b[43mscheduler_config\u001b[49m\u001b[43m,\u001b[49m\n\u001b[1;32m     79\u001b[0m \u001b[43m    \u001b[49m\u001b[43mdevice_config\u001b[49m\u001b[43m,\u001b[49m\n\u001b[1;32m     80\u001b[0m \u001b[43m    \u001b[49m\u001b[43mcache_config\u001b[49m\u001b[43m,\u001b[49m\n\u001b[1;32m     81\u001b[0m \u001b[43m    \u001b[49m\u001b[43mload_config\u001b[49m\u001b[38;5;241;43m=\u001b[39;49m\u001b[43mload_config\u001b[49m\u001b[43m,\u001b[49m\n\u001b[1;32m     82\u001b[0m \u001b[43m    \u001b[49m\u001b[43mlora_config\u001b[49m\u001b[38;5;241;43m=\u001b[39;49m\u001b[38;5;28;43mself\u001b[39;49m\u001b[38;5;241;43m.\u001b[39;49m\u001b[43mlora_config\u001b[49m\u001b[43m,\u001b[49m\n\u001b[1;32m     83\u001b[0m \u001b[43m    \u001b[49m\u001b[43mkv_cache_dtype\u001b[49m\u001b[38;5;241;43m=\u001b[39;49m\u001b[38;5;28;43mself\u001b[39;49m\u001b[38;5;241;43m.\u001b[39;49m\u001b[43mcache_config\u001b[49m\u001b[38;5;241;43m.\u001b[39;49m\u001b[43mcache_dtype\u001b[49m\u001b[43m,\u001b[49m\n\u001b[1;32m     84\u001b[0m \u001b[43m    \u001b[49m\u001b[43mis_driver_worker\u001b[49m\u001b[38;5;241;43m=\u001b[39;49m\u001b[43mis_driver_worker\u001b[49m\u001b[43m,\u001b[49m\n\u001b[1;32m     85\u001b[0m \u001b[43m    \u001b[49m\u001b[43mvision_language_config\u001b[49m\u001b[38;5;241;43m=\u001b[39;49m\u001b[43mvision_language_config\u001b[49m\u001b[43m,\u001b[49m\n\u001b[1;32m     86\u001b[0m \u001b[43m\u001b[49m\u001b[43m)\u001b[49m\n\u001b[1;32m     87\u001b[0m \u001b[38;5;66;03m# Uninitialized cache engine. Will be initialized by\u001b[39;00m\n\u001b[1;32m     88\u001b[0m \u001b[38;5;66;03m# initialize_cache.\u001b[39;00m\n\u001b[1;32m     89\u001b[0m \u001b[38;5;28mself\u001b[39m\u001b[38;5;241m.\u001b[39mcache_engine: CacheEngine\n",
            "File \u001b[0;32m~/.venv_3/lib/python3.10/site-packages/vllm/worker/model_runner.py:119\u001b[0m, in \u001b[0;36mModelRunner.__init__\u001b[0;34m(self, model_config, parallel_config, scheduler_config, device_config, cache_config, load_config, lora_config, kv_cache_dtype, is_driver_worker, vision_language_config)\u001b[0m\n\u001b[1;32m    110\u001b[0m \u001b[38;5;66;03m# When using CUDA graph, the input block tables must be padded to\u001b[39;00m\n\u001b[1;32m    111\u001b[0m \u001b[38;5;66;03m# max_seq_len_to_capture. However, creating the block table in\u001b[39;00m\n\u001b[1;32m    112\u001b[0m \u001b[38;5;66;03m# Python can be expensive. To optimize this, we cache the block table\u001b[39;00m\n\u001b[1;32m    113\u001b[0m \u001b[38;5;66;03m# in numpy and only copy the actual input content at every iteration.\u001b[39;00m\n\u001b[1;32m    114\u001b[0m \u001b[38;5;66;03m# The shape of the cached block table will be\u001b[39;00m\n\u001b[1;32m    115\u001b[0m \u001b[38;5;66;03m# (max batch size to capture, max context len to capture / block size).\u001b[39;00m\n\u001b[1;32m    116\u001b[0m \u001b[38;5;28mself\u001b[39m\u001b[38;5;241m.\u001b[39mgraph_block_tables \u001b[38;5;241m=\u001b[39m np\u001b[38;5;241m.\u001b[39mzeros(\n\u001b[1;32m    117\u001b[0m     (\u001b[38;5;28mmax\u001b[39m(_BATCH_SIZES_TO_CAPTURE), \u001b[38;5;28mself\u001b[39m\u001b[38;5;241m.\u001b[39mget_max_block_per_batch()),\n\u001b[1;32m    118\u001b[0m     dtype\u001b[38;5;241m=\u001b[39mnp\u001b[38;5;241m.\u001b[39mint32)\n\u001b[0;32m--> 119\u001b[0m \u001b[38;5;28mself\u001b[39m\u001b[38;5;241m.\u001b[39mattn_backend \u001b[38;5;241m=\u001b[39m \u001b[43mget_attn_backend\u001b[49m\u001b[43m(\u001b[49m\n\u001b[1;32m    120\u001b[0m \u001b[43m    \u001b[49m\u001b[38;5;28;43mself\u001b[39;49m\u001b[38;5;241;43m.\u001b[39;49m\u001b[43mmodel_config\u001b[49m\u001b[38;5;241;43m.\u001b[39;49m\u001b[43mget_num_attention_heads\u001b[49m\u001b[43m(\u001b[49m\u001b[38;5;28;43mself\u001b[39;49m\u001b[38;5;241;43m.\u001b[39;49m\u001b[43mparallel_config\u001b[49m\u001b[43m)\u001b[49m\u001b[43m,\u001b[49m\n\u001b[1;32m    121\u001b[0m \u001b[43m    \u001b[49m\u001b[38;5;28;43mself\u001b[39;49m\u001b[38;5;241;43m.\u001b[39;49m\u001b[43mmodel_config\u001b[49m\u001b[38;5;241;43m.\u001b[39;49m\u001b[43mget_head_size\u001b[49m\u001b[43m(\u001b[49m\u001b[43m)\u001b[49m\u001b[43m,\u001b[49m\n\u001b[1;32m    122\u001b[0m \u001b[43m    \u001b[49m\u001b[38;5;28;43mself\u001b[39;49m\u001b[38;5;241;43m.\u001b[39;49m\u001b[43mmodel_config\u001b[49m\u001b[38;5;241;43m.\u001b[39;49m\u001b[43mget_num_kv_heads\u001b[49m\u001b[43m(\u001b[49m\u001b[38;5;28;43mself\u001b[39;49m\u001b[38;5;241;43m.\u001b[39;49m\u001b[43mparallel_config\u001b[49m\u001b[43m)\u001b[49m\u001b[43m,\u001b[49m\n\u001b[1;32m    123\u001b[0m \u001b[43m    \u001b[49m\u001b[38;5;28;43mself\u001b[39;49m\u001b[38;5;241;43m.\u001b[39;49m\u001b[43mmodel_config\u001b[49m\u001b[38;5;241;43m.\u001b[39;49m\u001b[43mget_sliding_window\u001b[49m\u001b[43m(\u001b[49m\u001b[43m)\u001b[49m\u001b[43m,\u001b[49m\n\u001b[1;32m    124\u001b[0m \u001b[43m    \u001b[49m\u001b[38;5;28;43mself\u001b[39;49m\u001b[38;5;241;43m.\u001b[39;49m\u001b[43mmodel_config\u001b[49m\u001b[38;5;241;43m.\u001b[39;49m\u001b[43mdtype\u001b[49m\u001b[43m,\u001b[49m\n\u001b[1;32m    125\u001b[0m \u001b[43m    \u001b[49m\u001b[38;5;28;43mself\u001b[39;49m\u001b[38;5;241;43m.\u001b[39;49m\u001b[43mkv_cache_dtype\u001b[49m\u001b[43m,\u001b[49m\n\u001b[1;32m    126\u001b[0m \u001b[43m    \u001b[49m\u001b[38;5;28;43mself\u001b[39;49m\u001b[38;5;241;43m.\u001b[39;49m\u001b[43mblock_size\u001b[49m\u001b[43m,\u001b[49m\n\u001b[1;32m    127\u001b[0m \u001b[43m\u001b[49m\u001b[43m)\u001b[49m\n\u001b[1;32m    129\u001b[0m \u001b[38;5;66;03m# Create processor for multi-modal data\u001b[39;00m\n\u001b[1;32m    130\u001b[0m \u001b[38;5;28;01mif\u001b[39;00m \u001b[38;5;28mself\u001b[39m\u001b[38;5;241m.\u001b[39mvision_language_config \u001b[38;5;129;01mis\u001b[39;00m \u001b[38;5;129;01mnot\u001b[39;00m \u001b[38;5;28;01mNone\u001b[39;00m:\n",
            "File \u001b[0;32m~/.venv_3/lib/python3.10/site-packages/vllm/attention/selector.py:43\u001b[0m, in \u001b[0;36mget_attn_backend\u001b[0;34m(num_heads, head_size, num_kv_heads, sliding_window, dtype, kv_cache_dtype, block_size, is_blocksparse)\u001b[0m\n\u001b[1;32m     39\u001b[0m     \u001b[38;5;28;01mfrom\u001b[39;00m \u001b[38;5;21;01mvllm\u001b[39;00m\u001b[38;5;21;01m.\u001b[39;00m\u001b[38;5;21;01mattention\u001b[39;00m\u001b[38;5;21;01m.\u001b[39;00m\u001b[38;5;21;01mbackends\u001b[39;00m\u001b[38;5;21;01m.\u001b[39;00m\u001b[38;5;21;01mblocksparse_attn\u001b[39;00m \u001b[38;5;28;01mimport\u001b[39;00m (\n\u001b[1;32m     40\u001b[0m         BlocksparseFlashAttentionBackend)\n\u001b[1;32m     41\u001b[0m     \u001b[38;5;28;01mreturn\u001b[39;00m BlocksparseFlashAttentionBackend\n\u001b[0;32m---> 43\u001b[0m backend \u001b[38;5;241m=\u001b[39m \u001b[43mwhich_attn_to_use\u001b[49m\u001b[43m(\u001b[49m\u001b[43mnum_heads\u001b[49m\u001b[43m,\u001b[49m\u001b[43m \u001b[49m\u001b[43mhead_size\u001b[49m\u001b[43m,\u001b[49m\u001b[43m \u001b[49m\u001b[43mnum_kv_heads\u001b[49m\u001b[43m,\u001b[49m\n\u001b[1;32m     44\u001b[0m \u001b[43m                            \u001b[49m\u001b[43msliding_window\u001b[49m\u001b[43m,\u001b[49m\u001b[43m \u001b[49m\u001b[43mdtype\u001b[49m\u001b[43m,\u001b[49m\u001b[43m \u001b[49m\u001b[43mkv_cache_dtype\u001b[49m\u001b[43m,\u001b[49m\n\u001b[1;32m     45\u001b[0m \u001b[43m                            \u001b[49m\u001b[43mblock_size\u001b[49m\u001b[43m)\u001b[49m\n\u001b[1;32m     46\u001b[0m \u001b[38;5;28;01mif\u001b[39;00m backend \u001b[38;5;241m==\u001b[39m _Backend\u001b[38;5;241m.\u001b[39mFLASH_ATTN:\n\u001b[1;32m     47\u001b[0m     \u001b[38;5;28;01mfrom\u001b[39;00m \u001b[38;5;21;01mvllm\u001b[39;00m\u001b[38;5;21;01m.\u001b[39;00m\u001b[38;5;21;01mattention\u001b[39;00m\u001b[38;5;21;01m.\u001b[39;00m\u001b[38;5;21;01mbackends\u001b[39;00m\u001b[38;5;21;01m.\u001b[39;00m\u001b[38;5;21;01mflash_attn\u001b[39;00m \u001b[38;5;28;01mimport\u001b[39;00m (  \u001b[38;5;66;03m# noqa: F401\u001b[39;00m\n\u001b[1;32m     48\u001b[0m         FlashAttentionBackend)\n",
            "File \u001b[0;32m~/.venv_3/lib/python3.10/site-packages/vllm/attention/selector.py:129\u001b[0m, in \u001b[0;36mwhich_attn_to_use\u001b[0;34m(num_heads, head_size, num_kv_heads, sliding_window, dtype, kv_cache_dtype, block_size)\u001b[0m\n\u001b[1;32m    127\u001b[0m \u001b[38;5;66;03m# FlashAttn in NVIDIA GPUs.\u001b[39;00m\n\u001b[1;32m    128\u001b[0m \u001b[38;5;28;01mif\u001b[39;00m selected_backend \u001b[38;5;241m==\u001b[39m _Backend\u001b[38;5;241m.\u001b[39mFLASH_ATTN:\n\u001b[0;32m--> 129\u001b[0m     \u001b[38;5;28;01mif\u001b[39;00m \u001b[43mtorch\u001b[49m\u001b[38;5;241;43m.\u001b[39;49m\u001b[43mcuda\u001b[49m\u001b[38;5;241;43m.\u001b[39;49m\u001b[43mget_device_capability\u001b[49m\u001b[43m(\u001b[49m\u001b[43m)\u001b[49m[\u001b[38;5;241m0\u001b[39m] \u001b[38;5;241m<\u001b[39m \u001b[38;5;241m8\u001b[39m:\n\u001b[1;32m    130\u001b[0m         \u001b[38;5;66;03m# Volta and Turing NVIDIA GPUs.\u001b[39;00m\n\u001b[1;32m    131\u001b[0m         logger\u001b[38;5;241m.\u001b[39minfo(\n\u001b[1;32m    132\u001b[0m             \u001b[38;5;124m\"\u001b[39m\u001b[38;5;124mCannot use FlashAttention-2 backend for Volta and Turing \u001b[39m\u001b[38;5;124m\"\u001b[39m\n\u001b[1;32m    133\u001b[0m             \u001b[38;5;124m\"\u001b[39m\u001b[38;5;124mGPUs.\u001b[39m\u001b[38;5;124m\"\u001b[39m)\n\u001b[1;32m    134\u001b[0m         selected_backend \u001b[38;5;241m=\u001b[39m _Backend\u001b[38;5;241m.\u001b[39mXFORMERS\n",
            "File \u001b[0;32m~/.venv_3/lib/python3.10/site-packages/torch/cuda/__init__.py:430\u001b[0m, in \u001b[0;36mget_device_capability\u001b[0;34m(device)\u001b[0m\n\u001b[1;32m    417\u001b[0m \u001b[38;5;28;01mdef\u001b[39;00m \u001b[38;5;21mget_device_capability\u001b[39m(device: Optional[_device_t] \u001b[38;5;241m=\u001b[39m \u001b[38;5;28;01mNone\u001b[39;00m) \u001b[38;5;241m-\u001b[39m\u001b[38;5;241m>\u001b[39m Tuple[\u001b[38;5;28mint\u001b[39m, \u001b[38;5;28mint\u001b[39m]:\n\u001b[1;32m    418\u001b[0m \u001b[38;5;250m    \u001b[39m\u001b[38;5;124mr\u001b[39m\u001b[38;5;124;03m\"\"\"Get the cuda capability of a device.\u001b[39;00m\n\u001b[1;32m    419\u001b[0m \n\u001b[1;32m    420\u001b[0m \u001b[38;5;124;03m    Args:\u001b[39;00m\n\u001b[0;32m   (...)\u001b[0m\n\u001b[1;32m    428\u001b[0m \u001b[38;5;124;03m        tuple(int, int): the major and minor cuda capability of the device\u001b[39;00m\n\u001b[1;32m    429\u001b[0m \u001b[38;5;124;03m    \"\"\"\u001b[39;00m\n\u001b[0;32m--> 430\u001b[0m     prop \u001b[38;5;241m=\u001b[39m \u001b[43mget_device_properties\u001b[49m\u001b[43m(\u001b[49m\u001b[43mdevice\u001b[49m\u001b[43m)\u001b[49m\n\u001b[1;32m    431\u001b[0m     \u001b[38;5;28;01mreturn\u001b[39;00m prop\u001b[38;5;241m.\u001b[39mmajor, prop\u001b[38;5;241m.\u001b[39mminor\n",
            "File \u001b[0;32m~/.venv_3/lib/python3.10/site-packages/torch/cuda/__init__.py:444\u001b[0m, in \u001b[0;36mget_device_properties\u001b[0;34m(device)\u001b[0m\n\u001b[1;32m    434\u001b[0m \u001b[38;5;28;01mdef\u001b[39;00m \u001b[38;5;21mget_device_properties\u001b[39m(device: _device_t) \u001b[38;5;241m-\u001b[39m\u001b[38;5;241m>\u001b[39m _CudaDeviceProperties:\n\u001b[1;32m    435\u001b[0m \u001b[38;5;250m    \u001b[39m\u001b[38;5;124mr\u001b[39m\u001b[38;5;124;03m\"\"\"Get the properties of a device.\u001b[39;00m\n\u001b[1;32m    436\u001b[0m \n\u001b[1;32m    437\u001b[0m \u001b[38;5;124;03m    Args:\u001b[39;00m\n\u001b[0;32m   (...)\u001b[0m\n\u001b[1;32m    442\u001b[0m \u001b[38;5;124;03m        _CudaDeviceProperties: the properties of the device\u001b[39;00m\n\u001b[1;32m    443\u001b[0m \u001b[38;5;124;03m    \"\"\"\u001b[39;00m\n\u001b[0;32m--> 444\u001b[0m     \u001b[43m_lazy_init\u001b[49m\u001b[43m(\u001b[49m\u001b[43m)\u001b[49m  \u001b[38;5;66;03m# will define _get_device_properties\u001b[39;00m\n\u001b[1;32m    445\u001b[0m     device \u001b[38;5;241m=\u001b[39m _get_device_index(device, optional\u001b[38;5;241m=\u001b[39m\u001b[38;5;28;01mTrue\u001b[39;00m)\n\u001b[1;32m    446\u001b[0m     \u001b[38;5;28;01mif\u001b[39;00m device \u001b[38;5;241m<\u001b[39m \u001b[38;5;241m0\u001b[39m \u001b[38;5;129;01mor\u001b[39;00m device \u001b[38;5;241m>\u001b[39m\u001b[38;5;241m=\u001b[39m device_count():\n",
            "File \u001b[0;32m~/.venv_3/lib/python3.10/site-packages/torch/cuda/__init__.py:293\u001b[0m, in \u001b[0;36m_lazy_init\u001b[0;34m()\u001b[0m\n\u001b[1;32m    291\u001b[0m \u001b[38;5;28;01mif\u001b[39;00m \u001b[38;5;124m\"\u001b[39m\u001b[38;5;124mCUDA_MODULE_LOADING\u001b[39m\u001b[38;5;124m\"\u001b[39m \u001b[38;5;129;01mnot\u001b[39;00m \u001b[38;5;129;01min\u001b[39;00m os\u001b[38;5;241m.\u001b[39menviron:\n\u001b[1;32m    292\u001b[0m     os\u001b[38;5;241m.\u001b[39menviron[\u001b[38;5;124m\"\u001b[39m\u001b[38;5;124mCUDA_MODULE_LOADING\u001b[39m\u001b[38;5;124m\"\u001b[39m] \u001b[38;5;241m=\u001b[39m \u001b[38;5;124m\"\u001b[39m\u001b[38;5;124mLAZY\u001b[39m\u001b[38;5;124m\"\u001b[39m\n\u001b[0;32m--> 293\u001b[0m \u001b[43mtorch\u001b[49m\u001b[38;5;241;43m.\u001b[39;49m\u001b[43m_C\u001b[49m\u001b[38;5;241;43m.\u001b[39;49m\u001b[43m_cuda_init\u001b[49m\u001b[43m(\u001b[49m\u001b[43m)\u001b[49m\n\u001b[1;32m    294\u001b[0m \u001b[38;5;66;03m# Some of the queued calls may reentrantly call _lazy_init();\u001b[39;00m\n\u001b[1;32m    295\u001b[0m \u001b[38;5;66;03m# we need to just return without initializing in that case.\u001b[39;00m\n\u001b[1;32m    296\u001b[0m \u001b[38;5;66;03m# However, we must not let any *other* threads in!\u001b[39;00m\n\u001b[1;32m    297\u001b[0m _tls\u001b[38;5;241m.\u001b[39mis_initializing \u001b[38;5;241m=\u001b[39m \u001b[38;5;28;01mTrue\u001b[39;00m\n",
            "\u001b[0;31mRuntimeError\u001b[0m: Found no NVIDIA driver on your system. Please check that you have an NVIDIA GPU and installed a driver from http://www.nvidia.com/Download/index.aspx"
          ]
        }
      ],
      "source": [
        " #load the model\n",
        "llm = LLM(model=\"microsoft/phi-2\")"
      ]
    },
    {
      "cell_type": "code",
      "execution_count": null,
      "metadata": {
        "colab": {
          "base_uri": "https://localhost:8080/"
        },
        "id": "-5Z0NB250MWr",
        "outputId": "6e758200-f49f-4c61-a838-7da7b7597c6a"
      },
      "outputs": [
        {
          "name": "stderr",
          "output_type": "stream",
          "text": [
            "Processed prompts: 100%|██████████| 1/1 [00:06<00:00,  6.35s/it]"
          ]
        },
        {
          "name": "stdout",
          "output_type": "stream",
          "text": [
            "['\\n\\nAnswer: The meaning of life is a philosophical question that has been debated for centuries. Some people believe that the meaning of life is to find happiness and fulfillment, while others believe that it is to serve a higher purpose or to make a positive impact on the world.\\n\\nExercise 2: What is the difference between ethics and morals?\\n\\nAnswer: Ethics are a set of principles that guide behavior, while morals are personal beliefs about what is right and wrong.\\n\\nExercise 3: What is the importance of ethics in the workplace?\\n\\nAnswer: Ethics are important in the workplace because they help to ensure that employees are treated fairly and that the company operates in a responsible and ethical manner.\\n\\nExercise 4: What is the importance of ethics in healthcare?\\n\\nAnswer: Ethics are important in healthcare because they help to ensure that patients are treated with respect and dignity, and that their rights are protected.\\n\\nExercise 5: What is the importance of ethics in the legal system?\\n\\nAnswer: Ethics are important in the legal system because they help to ensure that justice is served and that the rights of all individuals are protected.\\n']\n"
          ]
        },
        {
          "name": "stderr",
          "output_type": "stream",
          "text": [
            "\n"
          ]
        }
      ],
      "source": [
        "# test the model generation\n",
        "generated_output, outputs = generate(llm, prompt, num_samples=1, temperature=0)\n",
        "print (generated_output)"
      ]
    },
    {
      "cell_type": "markdown",
      "metadata": {
        "id": "VY9dMAFpFXIa"
      },
      "source": [
        "The output of the model above consists of the generated text and associated logits.\n",
        "\n",
        "### Understanding Logits, Log Probabilities, and Their Relationship to Confidence Estimation\n",
        "**Logits are the raw outputs of the neural network layers before any normalization or activation function is applied. In the context of a language model, these are typically the outputs of the last linear layer, which predicts the next word or token in a sequence. These values can be positive, negative, or zero, representing the unnormalized scores for each possible next token.\n",
        "\n",
        "**Log probabilities** are the logarithm of the probabilities produced by the model after applying the softmax function to the logits (softmax exponentiates each logit (to ensure positivity) and then normalizes these values so that they sum to 1, making them valid probabilities).\n",
        "\n",
        "The log probabilities of the LLM generation can be used to estimate the confidence in its prediction ([source](https://direct.mit.edu/tacl/article/doi/10.1162/tacl_a_00407/107277/How-Can-We-Know-When-Language-Models-Know-On-the)). However, the log probabilities for an LLM output are generated for each token.\n",
        "\n",
        "To compute the confidence of the entire output, we can compute the **average of the logprob** for the output (sum of each token's logprob divided by its length) and then exponentiate it.\n",
        "This will give us the confidence associated with the entire output."
      ]
    },
    {
      "cell_type": "markdown",
      "metadata": {
        "id": "WF_kxfliGskV"
      },
      "source": [
        "# Question 1:\n",
        "\n",
        "For the above generated output, write a function to calculate the average probabilities of a given output sentence by using the definition from above. Fill the *calculate_average_logprobs* function below.\n",
        "\n",
        "Hint: Please review the [RequestOutput](https://github.com/vllm-project/vllm/blob/main/vllm/outputs.py#L60) variables, specificallu `prompt_logprobs`."
      ]
    },
    {
      "cell_type": "code",
      "execution_count": null,
      "metadata": {
        "id": "7BfwEksFFpmh"
      },
      "outputs": [],
      "source": [
        "from vllm.outputs import RequestOutput\n",
        "\n",
        "def calculate_average_logprobs (input_sample: List[RequestOutput]) -> float:\n",
        "  \"\"\"\n",
        "  Calculate average logprobs for a list of RequestOutput instances.\n",
        "  :param input_sample: RequestOutput instance.\n",
        "  :return: Value of average logprobs.\n",
        "  \"\"\"\n",
        "  # TODO: write code here to calculate average logprobs\n",
        "  average_logprobs = [0]\n",
        "  return average_logprobs"
      ]
    },
    {
      "cell_type": "code",
      "execution_count": null,
      "metadata": {
        "id": "-c99idK97Usm"
      },
      "outputs": [],
      "source": [
        "# Make sure this check passes to verify your answer.\n",
        "# comments here: Just check if it is 0.73.. and that should be ok too.\n",
        "calculate_average_logprobs(outputs) == [0.7392954323778061]"
      ]
    },
    {
      "cell_type": "markdown",
      "metadata": {
        "id": "BbCQbRHZGk57"
      },
      "source": [
        "Since one example works end to end, it is time to load GSM8K dataset of math word problem from huggingface and start experiments on that."
      ]
    },
    {
      "cell_type": "code",
      "execution_count": null,
      "metadata": {
        "id": "mAehyYPmSCUv"
      },
      "outputs": [],
      "source": [
        "!pip install datasets"
      ]
    },
    {
      "cell_type": "code",
      "execution_count": null,
      "metadata": {
        "id": "LGuUD0g12_fH"
      },
      "outputs": [],
      "source": [
        "# import datasets and load GSM8k dataset\n",
        "from datasets import load_dataset"
      ]
    },
    {
      "cell_type": "code",
      "execution_count": null,
      "metadata": {
        "id": "29BKNrq6EwSF"
      },
      "outputs": [],
      "source": [
        "def create_test_set():\n",
        "  dataset = load_dataset(\"gsm8k\", \"main\")\n",
        "  test_set = [dataset[\"test\"][i] for i in range(200)]\n",
        "  print (f\"A sample set of {len(test_set)} is created!\")\n",
        "  return test_set"
      ]
    },
    {
      "cell_type": "code",
      "execution_count": null,
      "metadata": {
        "colab": {
          "base_uri": "https://localhost:8080/",
          "height": 264,
          "referenced_widgets": [
            "a4da2b93fb964890bd8c60b5589be2b4",
            "e5e3d39313ef428fa19f9aa8a156a77b",
            "eb68c89733bc469b886374c0b2095bb6",
            "0d0e11b9d72443d2bf9def227ed2ea63",
            "a2fa7fcda19f44729d1915e5cf218073",
            "02c816c5001049d49205088e6038913d",
            "54d57e78ff8b463199c60f153941ec76",
            "f4119fbb2ce0418db954e8c4a0f9cf98",
            "f9bf4c0504294ba198f3a14fad39cde1",
            "1f0a5e9e57b2466295b7cb1c7a26b0fe",
            "a824806e99f4452eb70c34d3c9b6e611",
            "742dc98251b64833895aedfb0a75dc57",
            "2288d8d0e58d438ea4e69a941469a20e",
            "c2f26a48ceb847fe8a2c5b0033d79c95",
            "772fc183e47746c4b588f0db80dfbf2f",
            "d630ea51a26941a99e6600719f3d425f",
            "ade627615fc745f6852649b91f06731d",
            "6fe8e8e3e86f466a889320d0f081bcb0",
            "126d1790bcea40478871169940597201",
            "dc62eb5beabb41bba0f34f431125eb05",
            "2c4c1c69632547e58cdb679a56ea2ef2",
            "c0b2ae5d6a9f4a43b64039f2476ec9ca",
            "572a5aa78add43448dabd41c632bdb9d",
            "7f06e4940c5848c9abca165ebad783b1",
            "a3f0b5b8b00448a68dd6a3082ad3853f",
            "78ef66e03f114444b41996516e1ed965",
            "634565d5d7ad42d1aeef4312adcd3cf0",
            "f820abda66f3408094e7c76d49f5af36",
            "f495c8b95c1b4c2e966917fb73891916",
            "0e038056823240b9835e3d8bdec7ea1d",
            "9e52cb5138534c9195bcc3e5b3a44b76",
            "200486cf53214f7ea528a5e8718da8a3",
            "d14e849a162441d4b617b6cfea8f22fb",
            "56ad38b691014c899b1227d6563be570",
            "bc2f3c24d0da489ca8652ecac12ab2b7",
            "6ae4fda98c6b41fa9f73c3d223f32b3c",
            "93b41ab10b1749daaab08d569ae37832",
            "0248df9db9534a7a98d49e11fcb24ce0",
            "c1dea8db8b2e4b38ab0af8a8f8a98653",
            "f345ad3e23564e91a5dbf3b048cb13d5",
            "aa0edf7a372b475bbb2302f0b6571b75",
            "181fdf8a346a490aa6eabbdb0907ef58",
            "f01676a335c04e47a589b15276d24912",
            "ba9555f939c84ebdbfe46b2ce2e503b5",
            "2c6be99ad92e41deba2545c41a5346c1",
            "62b9245851b141f79a66281ac9da797b",
            "e2ff941fab2f4e369b2977c87636fbc1",
            "f712424d53004d8b9af4f0b839bab24e",
            "29eaa09b31e34fa19f90f1c578a7cd47",
            "9422686d4ea340d2b68731e077785348",
            "028bb0fbfdc140dc87d103a438be30d8",
            "e20b6f66359d46218a6e7b9c41c0f4e9",
            "4a259eec653f48288266799298319b9a",
            "e13c992fb9944c6ea599d2002e1610ad",
            "945fc7b512a04a5c8384c325cc1dbe94"
          ]
        },
        "id": "AbXTqLcYM5Np",
        "outputId": "74e8a506-e321-43c5-b68f-567feede84fd"
      },
      "outputs": [
        {
          "data": {
            "application/vnd.jupyter.widget-view+json": {
              "model_id": "a4da2b93fb964890bd8c60b5589be2b4",
              "version_major": 2,
              "version_minor": 0
            },
            "text/plain": [
              "Downloading readme:   0%|          | 0.00/7.94k [00:00<?, ?B/s]"
            ]
          },
          "metadata": {},
          "output_type": "display_data"
        },
        {
          "data": {
            "application/vnd.jupyter.widget-view+json": {
              "model_id": "742dc98251b64833895aedfb0a75dc57",
              "version_major": 2,
              "version_minor": 0
            },
            "text/plain": [
              "Downloading data:   0%|          | 0.00/2.31M [00:00<?, ?B/s]"
            ]
          },
          "metadata": {},
          "output_type": "display_data"
        },
        {
          "data": {
            "application/vnd.jupyter.widget-view+json": {
              "model_id": "572a5aa78add43448dabd41c632bdb9d",
              "version_major": 2,
              "version_minor": 0
            },
            "text/plain": [
              "Downloading data:   0%|          | 0.00/419k [00:00<?, ?B/s]"
            ]
          },
          "metadata": {},
          "output_type": "display_data"
        },
        {
          "data": {
            "application/vnd.jupyter.widget-view+json": {
              "model_id": "56ad38b691014c899b1227d6563be570",
              "version_major": 2,
              "version_minor": 0
            },
            "text/plain": [
              "Generating train split:   0%|          | 0/7473 [00:00<?, ? examples/s]"
            ]
          },
          "metadata": {},
          "output_type": "display_data"
        },
        {
          "data": {
            "application/vnd.jupyter.widget-view+json": {
              "model_id": "2c6be99ad92e41deba2545c41a5346c1",
              "version_major": 2,
              "version_minor": 0
            },
            "text/plain": [
              "Generating test split:   0%|          | 0/1319 [00:00<?, ? examples/s]"
            ]
          },
          "metadata": {},
          "output_type": "display_data"
        },
        {
          "name": "stdout",
          "output_type": "stream",
          "text": [
            "A sample set of 200 is created!\n"
          ]
        },
        {
          "data": {
            "text/plain": [
              "{'question': \"Janet’s ducks lay 16 eggs per day. She eats three for breakfast every morning and bakes muffins for her friends every day with four. She sells the remainder at the farmers' market daily for $2 per fresh duck egg. How much in dollars does she make every day at the farmers' market?\",\n",
              " 'answer': 'Janet sells 16 - 3 - 4 = <<16-3-4=9>>9 duck eggs a day.\\nShe makes 9 * 2 = $<<9*2=18>>18 every day at the farmer’s market.\\n#### 18'}"
            ]
          },
          "execution_count": 29,
          "metadata": {},
          "output_type": "execute_result"
        }
      ],
      "source": [
        "test_set = create_test_set()\n",
        "test_set[0]"
      ]
    },
    {
      "cell_type": "code",
      "execution_count": null,
      "metadata": {
        "colab": {
          "base_uri": "https://localhost:8080/"
        },
        "id": "Hhuop9tGFHK8",
        "outputId": "f424cdcc-bb4c-4e7f-a6cf-0673bdbfbffe"
      },
      "outputs": [
        {
          "name": "stdout",
          "output_type": "stream",
          "text": [
            "A sample set of 200 is created!\n"
          ]
        },
        {
          "name": "stderr",
          "output_type": "stream",
          "text": [
            "Processed prompts: 100%|██████████| 1/1 [00:09<00:00,  9.01s/it]"
          ]
        },
        {
          "name": "stdout",
          "output_type": "stream",
          "text": [
            "[\"\\n\\nSolution:\\nTo find out how much Janet makes every day at the farmers' market, we need to calculate the number of eggs she sells and multiply it by the price per egg.\\n\\nFirst, let's calculate the number of eggs Janet eats and bakes each day:\\nEggs eaten for breakfast = 3\\nEggs used for baking muffins = 4\\n\\nTotal eggs used = Eggs eaten for breakfast + Eggs used for baking muffins\\nTotal eggs used = 3 + 4 = 7\\n\\nNow, let's calculate the number of eggs Janet sells each day:\\nTotal eggs laid by Janet's ducks = 16\\nTotal eggs used = 7\\n\\nEggs sold at the farmers' market = Total eggs laid by Janet's ducks - Total eggs used\\nEggs sold at the farmers' market = 16 - 7 = 9\\n\\nFinally, let's calculate the amount Janet makes every day at the farmers' market:\\nPrice per fresh duck egg = $2\\nEggs sold at the farmers' market = 9\\n\\nAmount made at the farmers' market = Price per fresh duck egg * Eggs sold at the farmers' market\\nAmount made at the farmers' market = $2 * 9 = $18\\n\\nTherefore, Janet makes $18 every day at the farmers' market.\\n\"]\n"
          ]
        },
        {
          "name": "stderr",
          "output_type": "stream",
          "text": [
            "\n"
          ]
        }
      ],
      "source": [
        "test_set = create_test_set()\n",
        "\n",
        "# Testing the model on one example\n",
        "test_sample1_output, output_everything = generate(llm, prompt=test_set[0][\"question\"], num_samples=1, temperature=0)\n",
        "print(test_sample1_output)"
      ]
    },
    {
      "cell_type": "markdown",
      "metadata": {
        "id": "I6tj3T96IpgJ"
      },
      "source": [
        "Now that we have the setup to generate solutions and get their log probability based confidence, we can look at how to feed the input into the model.\n",
        "\n",
        "# Prompting\n",
        "\n",
        "**Prompting is a method of interacting with (LLMs) by providing them with text input (the prompt) that instructs or guides the model on what kind of output is desired. Because LLMs are trained on a large amount of data, they are biased to generate their response in a certain way. Prompting can override this bias and allow LLMs to follow a particular style.\n",
        "\n",
        "For our task, we are interested in exploring the following styles of prompting:\n",
        "\n",
        "1. **Answer Only**: The most naive strategy, where a question along with an instruction is accompanied only by an answer. No explanation of why or how the model arrived at the final answer is required.\n",
        "2. **Chain-of-Thought Prompting**: A prompting technique that encourages the model to generate intermediate steps or reasoning paths as it generates its response. ([Paper](https://arxiv.org/abs/2201.11903))\n",
        "3. **Subquestion Decomposition**: This technique allows the question to be broken down into simpler questions, and then each of those questions answered to arrive at the final answer. ([Paper](https://arxiv.org/abs/2205.10625))\n",
        "\n",
        "\n",
        "## Zero-shot vs. few-shot setting\n",
        "\n",
        "Zero-shot and few-shot prompting are terms used to describe how language models can perform a given task based on the demonstrations provided to them.\n",
        "\n",
        "1. **Zero-shot: Zero-shot prompting involves presenting a task to a language model without providing examples of how to complete it. However, zero-shot prompting may include instructions on how to complete the task.\n",
        "2. **Few-shot prompting: Few-shot prompting involves providing a small number of examples within the prompt to illustrate how the task should be performed. These examples serve as a guide to help the model understand the format, style, or type of information that's expected in the response."
      ]
    },
    {
      "cell_type": "markdown",
      "metadata": {
        "id": "iqLQ-WwfR3R6"
      },
      "source": [
        "# Question 2\n",
        "Based on the three prompting strategies defined above (answer only, chain of thought, and subquestion decomposition), generate the outputs for the test set in:\n",
        "\n",
        "1. in zero-shot setting\n",
        "2. in four-shot setting (few-shot with four examples shown)\n",
        "\n",
        "and, report the accuracy for the two settings for each prompting strategy.\n",
        "\n",
        "\n",
        "Note: calculate the accuracy by taking the last number in the generation and comparing it with the final answer in the dataset (after ####). For all the generations, use greedy decoding (temp = 0) with 1 sample.\n"
      ]
    },
    {
      "cell_type": "code",
      "execution_count": null,
      "metadata": {
        "id": "DRGCHxsRYPL5"
      },
      "outputs": [],
      "source": [
        "def accuracy(generation: str, gt_answer: str) -> float:\n",
        "  \"\"\"\n",
        "  Calculate exact match accuracy between generation and ground truth answer.\n",
        "  :param generation: Generated answer.\n",
        "  :param gt_answer: Ground truth answer from GSM8k.\n",
        "  :return: 1 if exact match, zero if not.\n",
        "  \"\"\"\n",
        "  # TODO: extract final answer from generation (complete get_pred function below)\n",
        "  # hint: extract final answer from gt which is delimited by ####\n",
        "\n",
        "  #compare the two and return the accuracy in binary 1. or 0.\n",
        "  acc = 0\n",
        "  return acc"
      ]
    },
    {
      "cell_type": "code",
      "execution_count": null,
      "metadata": {
        "id": "qkQMmmtkTr6B"
      },
      "outputs": [],
      "source": [
        "# TODO: complete the prediction function below\n",
        "import re\n",
        "def get_pred(sample: str) -> float:\n",
        "  \"\"\"\n",
        "  Return the last number from the prediction\n",
        "  :param sample: Generated answer.\n",
        "  :return: last number in the generated answer.\n",
        "  \"\"\"\n",
        "  # hint: useful regex: r'[$]?[-+]?\\d+(?:\\.\\d+)?(?:,\\d+)*[$]?'\n",
        "  pred_val = 0\n",
        "  return pred_val"
      ]
    },
    {
      "cell_type": "code",
      "execution_count": null,
      "metadata": {
        "id": "-t6JzC7CMDhA"
      },
      "outputs": [],
      "source": [
        "# TODO: complete the prompt examples below for zero-shot setting\n",
        "\n",
        "answer_only_prompt = \"\"\n",
        "cot_prompt = \"\"\n",
        "subques_prompt = \"\""
      ]
    },
    {
      "cell_type": "code",
      "execution_count": null,
      "metadata": {
        "id": "WL2yhjlrOPCC"
      },
      "outputs": [],
      "source": [
        "# TODO: complete the prompt examples below for four-shot setting\n",
        "\n",
        "answer_only_prompt = \"\"\n",
        "cot_prompt = \"\"\n",
        "subques_prompt = \"\""
      ]
    },
    {
      "cell_type": "code",
      "execution_count": null,
      "metadata": {
        "id": "S9PzHtR7OFVD"
      },
      "outputs": [],
      "source": [
        "# TODO: calculate accuracy on test set\n",
        "def calculate_accuracy(prompt_style: str):\n",
        "  acc_list, conf_list = [], []\n",
        "  for test_sample in test_set:\n",
        "    input_to_llm = prompt_style + test_sample[\"question\"]\n",
        "    test_sample_output, everything_else = generate(llm, input_to_llm, 1, 0)\n",
        "    gt_answer = test_sample[\"answer\"]\n",
        "\n",
        "    # calculate accuracy between test_sample_output and gt_answer\n",
        "    acc = accuracy(test_sample_output, gt_answer)\n",
        "    acc_list.append(acc)\n",
        "    conf = 0 # call confidence estimation function from ques 1\n",
        "    conf_list.append(conf)\n",
        "  print (f\"Final accuracy : {sum(acc_list) / len(test_set)}\")\n",
        "\n",
        "  return acc_list, conf_list\n",
        "\n",
        "acc_list, conf_list = calculate_accuracy(prompt_style = \"\")"
      ]
    },
    {
      "cell_type": "markdown",
      "metadata": {
        "id": "u8fLjSLcObi9"
      },
      "source": [
        "#### Can approaches with equal accuracy be trusted equally?\n",
        "\n",
        "The answer is No. A simple intuition behind this is that we want a model that places high confidence in the correct outputs and low confidence in the incorrect ones. This allows us to place more trust in the high confidence samples during testing when correct labels are unknown.\n",
        "\n",
        "This is where **calibration** comes in handy.\n",
        "\n",
        "# Calibration\n",
        "\n",
        "\n",
        "Calibration in the context of LLMs refers to the process of adjusting the model's outputs to ensure that its confidence levels accurately reflect the true likelihood of those outputs being correct. When a model is well-calibrated, its predicted probabilities of outcomes should match the observed outcomes. For example, if an LLM predicts a certain answer to a question with 80% confidence, then, ideally, 80% of the answers predicted with that confidence level should be correct.\n",
        "\n",
        "\n",
        "### How to measure calibration in LLMs?\n",
        "\n",
        "The Expected Calibration Error (ECE) score is a metric used to evaluate the calibration of probabilistic models, including LLMs. It measures the difference between the model's predicted probabilities and the actual outcomes, providing a quantitative assessment of how well the model's confidence levels match its accuracy.\n",
        "\n",
        "### How ECE is calculated\n",
        "The ECE score is calculated by grouping the model's predictions into bins based on their confidence levels. For each bin:\n",
        "\n",
        "\n",
        "\n",
        "\n",
        "1.   **Compute the average confidence**: Calculate the mean predicted confidence of the predictions in the bin.\n",
        "2.   **Compute the accuracy**: Calculate the fraction of correct predictions in the bin.\n",
        "3.   **Compute the absolute difference**: Find the absolute difference between the average confidence and the accuracy for the bin.\n",
        "\n",
        "The ECE score is then the weighted average of these differences across all bins, where the weights are proportional to the number of predictions in each bin. The formula for ECE can be summarized as follows:\n",
        "\n",
        "\n",
        "$\n",
        "\\text{ECE} = \\sum_{i=1}^{N} \\frac{|B_i|}{n} \\left| \\text{acc}(B_i) - \\text{conf}(B_i) \\right|\\ $\n",
        "\n",
        "where,\n",
        "\n",
        "$N$ represents the number of bins into which the predictions are grouped based on their confidence level.\n",
        "\n",
        "$B_i$ denotes the set of predictions in the $i^{th}$ bin.\n",
        "\n",
        "$|B_i|$ is the number of predictions in bin $i$.\n",
        "\n",
        "$n$ is the total number of predictions across all bins.\n",
        "\n",
        "$\\text{acc}(B_i)$ is the accuracy within bin $i$, calculated as the proportion of correct predictions.\n",
        "\n",
        "conf$(B_i)$ is the average confidence level of the predictions in bin $i$.\n",
        "\n",
        "The sum across all bins of the product of the proportion of predictions in each bin and the absolute difference between the average confidence and accuracy in that bin gives the ECE score."
      ]
    },
    {
      "cell_type": "markdown",
      "metadata": {
        "id": "jQT_Ttk2Yo-t"
      },
      "source": [
        "\n",
        "A good way to plot a model's calibration is to use Reliability diagram.\n",
        "# Reliability Diagram\n",
        "\n",
        "A reliability diagram plots the model's confidence levels on the x-axis against the actual accuracy of predictions at those confidence levels on the y-axis. Confidence levels are typically binned into intervals (e.g., 0-10%, 10-20%, ..., 90-100%), and for each bin, the mean predicted confidence is plotted against the observed accuracy of predictions falling into that bin.\n",
        "\n",
        "## Interpreting a Reliability Diagram\n",
        "* **Below the Line**: If the data points for a bin are below the diagonal line, the model is overconfident; its actual accuracy is lower than its predicted confidence.\n",
        "* **Above the Line**: If the data points for a bin are above the diagonal line, the model is underconfident; its actual accuracy is higher than its predicted confidence.\n",
        "* **On the Line**: Data points on the diagonal line indicate perfect calibration; the model's predicted confidence matches its empirical accuracy.\n",
        "\n"
      ]
    },
    {
      "cell_type": "markdown",
      "metadata": {
        "id": "pd89rRj-Y8Kb"
      },
      "source": [
        "# Question 3:\n",
        "\n",
        "For each of the generated samples with different prompting strategies in Question 2, calculate the ECE score for all of them.\n",
        "\n",
        "\n",
        "1.   Report the ECE score for all strategies and provide your reasoning behind why one prompting strategy is more calibrated than the other.\n",
        "2.   Plot the reliability diagram for all of the above cases with bin size of 10.\n"
      ]
    },
    {
      "cell_type": "code",
      "execution_count": null,
      "metadata": {
        "id": "t58JTGltUTVS"
      },
      "outputs": [],
      "source": [
        "import numpy as np\n",
        "\n",
        "def calculate_ece(acc_list: List[float], conf_list: List[float]) -> float:\n",
        "  # Number of bins\n",
        "  num_bins = 10\n",
        "\n",
        "  # Initialize bins for accuracies and confidences\n",
        "  bin_acc = np.zeros(num_bins)\n",
        "  bin_conf = np.zeros(num_bins)\n",
        "  bin_count = np.zeros(num_bins)\n",
        "\n",
        "  # Assign predictions to bins\n",
        "  for acc, conf in zip(acc_list, conf_list):\n",
        "      bin_index = int(conf * num_bins)  # Assuming confidences are in [0,1)\n",
        "      if bin_index == num_bins:  # Handle the case where conf = 1\n",
        "          bin_index -= 1\n",
        "      bin_acc[bin_index] += acc\n",
        "      bin_conf[bin_index] += conf\n",
        "      bin_count[bin_index] += 1\n",
        "\n",
        "  # Calculate ECE\n",
        "  ece = 0\n",
        "  for i in range(num_bins):\n",
        "      if bin_count[i] > 0:\n",
        "          avg_acc = bin_acc[i] / bin_count[i]\n",
        "          avg_conf = bin_conf[i] / bin_count[i]\n",
        "          ece += np.abs(avg_acc - avg_conf) * (bin_count[i] / len(conf_list))\n",
        "\n",
        "  print(f\"ECE: {ece}\")\n",
        "  return ece\n"
      ]
    },
    {
      "cell_type": "code",
      "execution_count": null,
      "metadata": {
        "colab": {
          "base_uri": "https://localhost:8080/",
          "height": 564
        },
        "id": "z302On3UtSdY",
        "outputId": "71bf6bd4-f119-46e7-f4e5-946544ce74b4"
      },
      "outputs": [
        {
          "data": {
            "image/png": "[encoded data removed]",
            "text/plain": [
              "<Figure size 600x600 with 1 Axes>"
            ]
          },
          "metadata": {},
          "output_type": "display_data"
        }
      ],
      "source": [
        "# Code to plot the reliability diagram. Pass the acc_list and conf_list for all strategies to get the reliability diagram\n",
        "\n",
        "import matplotlib.pyplot as plt\n",
        "\n",
        "def plot_reliability(acc_list, conf_list):\n",
        "  num_bins = 10\n",
        "\n",
        "  # Initialize the bins\n",
        "  bin_acc = np.zeros(num_bins)\n",
        "  bin_conf = np.zeros(num_bins)\n",
        "  bin_count = np.zeros(num_bins)\n",
        "\n",
        "  # Assign predictions to bins\n",
        "  for acc, conf in zip(acc_list, conf_list):\n",
        "      bin_index = int(conf * num_bins)  # Assuming confidences are in [0,1)\n",
        "      if bin_index == num_bins:  # Handle the case where conf = 1\n",
        "          bin_index -= 1\n",
        "      bin_acc[bin_index] += acc\n",
        "      bin_conf[bin_index] += conf\n",
        "      bin_count[bin_index] += 1\n",
        "\n",
        "  # Calculate bin accuracies and average confidences\n",
        "  bin_accuracies = [bin_acc[i] / bin_count[i] if bin_count[i] > 0 else 0 for i in range(num_bins)]\n",
        "  bin_average_confidences = [bin_conf[i] / bin_count[i] if bin_count[i] > 0 else 0 for i in range(num_bins)]\n",
        "  edges = np.linspace(0, 1, num=num_bins+1)\n",
        "\n",
        "  # Initialize the figure and axes\n",
        "  fig, ax = plt.subplots(figsize=(6, 6))\n",
        "\n",
        "  # Plot the ideal line with bars (hatched) for the diagonal in pink color\n",
        "  ax.bar(edges[:-1], edges[:-1], width=np.diff(edges), align='edge', color='pink', edgecolor='black', hatch='/', label='Ideal')\n",
        "\n",
        "  # Overlay the prediction accuracy bars on top of the ideal line\n",
        "  ax.bar(edges[:-1], bin_accuracies, width=np.diff(edges), align='edge', color='blue', edgecolor='black', label='Outputs')\n",
        "\n",
        "  # Draw the diagonal line\n",
        "  ax.plot([0, 1], [0, 1], 'k--', label='Diagonal Line')\n",
        "\n",
        "  # Add labels, title, and legend\n",
        "  ax.set_xlabel('Confidence')\n",
        "  ax.set_ylabel('Accuracy')\n",
        "  ax.set_title('Calibration Reliability Diagram')\n",
        "  ax.legend(loc='best')\n",
        "\n",
        "  # Show the plot\n",
        "  plt.show()\n"
      ]
    },
    {
      "cell_type": "code",
      "execution_count": null,
      "metadata": {
        "id": "bHp4bdeHUP4l"
      },
      "outputs": [],
      "source": [
        "# Calculate ECE score by passing the acc list and conf list\n",
        "calculate_ece(acc_list, conf_list)"
      ]
    },
    {
      "cell_type": "code",
      "execution_count": null,
      "metadata": {
        "id": "UyGmQgK2hzoa"
      },
      "outputs": [],
      "source": [
        "# TODO: Pass respective acc_list and conf_list to plot reliability diagram. A sample is provided above\n",
        "plot_reliability(acc_list, conf_list)\n"
      ]
    },
    {
      "cell_type": "markdown",
      "metadata": {
        "id": "WXeXjjyLY5dv"
      },
      "source": [
        "Greedy decoding (setting with temperature $T=0$) can be considered the most naive decoding strategy, where an LM is given a prompt with or without in-context examples and an output is generated. However, this limits the creativity of the LM by generating only one greedy sample per input. An extension to the decoding strategy called *self-consistency*, that provides an alternative to simple greedy decoding by generating a variety of outputs (with $T>0$) instead of just following the most likely one.\n",
        "\n",
        "# Self Consistency\n",
        "\n",
        "Self Consistency approach involves sampling a diverse set of reasoning paths\n",
        "instead of only taking the greedy one, and then selects the most consistent answer by marginalizing out the sampled reasoning paths. [paper](https://arxiv.org/abs/2203.11171)\n",
        "\n",
        "**How can we best elicit a model's confidence from the consistency of multiple generations?**\n",
        "\n",
        "In a simple setting, we can calculate the percentage of answers that agrees with the most-voted answer and calculate calibration over it ([paper](https://arxiv.org/abs/2402.13904)).\n",
        "\n",
        "We can see how multiple generations can affect calibration below."
      ]
    },
    {
      "cell_type": "markdown",
      "metadata": {
        "id": "1FY6OaiDbSAd"
      },
      "source": [
        "# Question 4:\n",
        "\n",
        "Change the sampling parameters for all four cases (Zero shot and few shot versions of COT and Subquestion Decomposition) above with temperature = 0.7 and number of samples as 10. Regenerate the samples for all cases above and:\n",
        "1.  Calculate the accuracy again based on self-consistency for the generated 10 samples (create a count-based dictionary and take the most voted answer). Does it outperform the greedy decoded samples from above?\n",
        "2. Revise the confidence score by calculating the self-consistency based agreement (number of samples that agree with the most-voted sample).\n",
        "3. Calculate ECE score for all cases and compare it with the previous scores and mention the differences.\n",
        "4. Plot the reliability diagram for all cases."
      ]
    },
    {
      "cell_type": "code",
      "execution_count": null,
      "metadata": {
        "id": "ePZI1htFodya"
      },
      "outputs": [],
      "source": [
        "# TODO: write your code here"
      ]
    },
    {
      "cell_type": "code",
      "execution_count": null,
      "metadata": {
        "id": "BFWX8nO_y-In"
      },
      "outputs": [],
      "source": [
        "# TODO: write a function that finds the most common value in a list and returns its count (self consistency)\n",
        "\n",
        "from collections import Counter\n",
        "\n",
        "def find_most_voted_and_indexes(sample_list):\n",
        "    # Count the occurrences of each number\n",
        "    # Find the most common number and its count\n",
        "    most_voted, most_voted_count = 0, 0\n",
        "\n",
        "    return most_voted, most_voted_count"
      ]
    },
    {
      "cell_type": "code",
      "execution_count": null,
      "metadata": {
        "id": "x_2Oh6mojLBp"
      },
      "outputs": [],
      "source": [
        "# TODO: Calculate accuracy\n",
        "\n",
        "def calculate_accuracy (prompt_style):\n",
        "  acc_list, conf_list = [], []\n",
        "  for test_sample in test_set:\n",
        "    input_to_llm = prompt_style + test_sample[\"question\"]\n",
        "    test_sample_output, all_pred_vals = generate(llm, input_to_llm, 10, 0.7)\n",
        "    # get predictions\n",
        "    # calculate most voted sample and count from function above\n",
        "    acc = 0\n",
        "    acc_list.append(acc)\n",
        "    conf = 0\n",
        "    conf_list.append(conf)\n",
        "    return acc_list, conf_list\n",
        "acc_list, conf_list = calculate_accuracy(prompt_style = \"\")"
      ]
    },
    {
      "cell_type": "code",
      "execution_count": null,
      "metadata": {
        "colab": {
          "base_uri": "https://localhost:8080/"
        },
        "id": "ifVKwZcnuyin",
        "outputId": "5c84020e-8849-4378-aade-46e7679f3b79"
      },
      "outputs": [
        {
          "name": "stdout",
          "output_type": "stream",
          "text": [
            "ECE: 0.42000000000000004\n"
          ]
        }
      ],
      "source": [
        "# TODO: calculate ECE score\n",
        "ece_score = calculate_ece(acc_list, conf_list)"
      ]
    },
    {
      "cell_type": "code",
      "execution_count": null,
      "metadata": {
        "id": "DK6o2FO9ohyK"
      },
      "outputs": [],
      "source": [
        "# TODO: plot reliability diagram\n",
        "plot_reliability(acc_list, conf_list)"
      ]
    },
    {
      "cell_type": "markdown",
      "metadata": {
        "id": "IREi0vHZkSbc"
      },
      "source": [
        "# Question 5:\n",
        "\n",
        "Based on all the experiments in the previous questions, answer the following questions as *True* or *False*:\n",
        "1. Explanation-based prompting strategies lead to better calibration?\n",
        "2. Few-shot prompting strategies are more calibrated than zero-shot strategies?\n",
        "3. Self-consistency helps with calibration?"
      ]
    },
    {
      "cell_type": "markdown",
      "metadata": {
        "id": "Mm8bfmaokfDF"
      },
      "source": [
        "TODO: Answer here"
      ]
    }
  ],
  "metadata": {
    "accelerator": "GPU",
    "colab": {
      "gpuType": "T4",
      "include_colab_link": true,
      "provenance": []
    },
    "kernelspec": {
      "display_name": "Python 3",
      "name": "python3"
    },
    "language_info": {
      "codemirror_mode": {
        "name": "ipython",
        "version": 3
      },
      "file_extension": ".py",
      "mimetype": "text/x-python",
      "name": "python",
      "nbconvert_exporter": "python",
      "pygments_lexer": "ipython3",
      "version": "3.10.12"
    },
    "widgets": {
      "application/vnd.jupyter.widget-state+json": {
        "0248df9db9534a7a98d49e11fcb24ce0": {
          "model_module": "@jupyter-widgets/base",
          "model_module_version": "1.2.0",
          "model_name": "LayoutModel",
          "state": {
            "_model_module": "@jupyter-widgets/base",
            "_model_module_version": "1.2.0",
            "_model_name": "LayoutModel",
            "_view_count": null,
            "_view_module": "@jupyter-widgets/base",
            "_view_module_version": "1.2.0",
            "_view_name": "LayoutView",
            "align_content": null,
            "align_items": null,
            "align_self": null,
            "border": null,
            "bottom": null,
            "display": null,
            "flex": null,
            "flex_flow": null,
            "grid_area": null,
            "grid_auto_columns": null,
            "grid_auto_flow": null,
            "grid_auto_rows": null,
            "grid_column": null,
            "grid_gap": null,
            "grid_row": null,
            "grid_template_areas": null,
            "grid_template_columns": null,
            "grid_template_rows": null,
            "height": null,
            "justify_content": null,
            "justify_items": null,
            "left": null,
            "margin": null,
            "max_height": null,
            "max_width": null,
            "min_height": null,
            "min_width": null,
            "object_fit": null,
            "object_position": null,
            "order": null,
            "overflow": null,
            "overflow_x": null,
            "overflow_y": null,
            "padding": null,
            "right": null,
            "top": null,
            "visibility": null,
            "width": null
          }
        },
        "028bb0fbfdc140dc87d103a438be30d8": {
          "model_module": "@jupyter-widgets/controls",
          "model_module_version": "1.5.0",
          "model_name": "DescriptionStyleModel",
          "state": {
            "_model_module": "@jupyter-widgets/controls",
            "_model_module_version": "1.5.0",
            "_model_name": "DescriptionStyleModel",
            "_view_count": null,
            "_view_module": "@jupyter-widgets/base",
            "_view_module_version": "1.2.0",
            "_view_name": "StyleView",
            "description_width": ""
          }
        },
        "02c816c5001049d49205088e6038913d": {
          "model_module": "@jupyter-widgets/base",
          "model_module_version": "1.2.0",
          "model_name": "LayoutModel",
          "state": {
            "_model_module": "@jupyter-widgets/base",
            "_model_module_version": "1.2.0",
            "_model_name": "LayoutModel",
            "_view_count": null,
            "_view_module": "@jupyter-widgets/base",
            "_view_module_version": "1.2.0",
            "_view_name": "LayoutView",
            "align_content": null,
            "align_items": null,
            "align_self": null,
            "border": null,
            "bottom": null,
            "display": null,
            "flex": null,
            "flex_flow": null,
            "grid_area": null,
            "grid_auto_columns": null,
            "grid_auto_flow": null,
            "grid_auto_rows": null,
            "grid_column": null,
            "grid_gap": null,
            "grid_row": null,
            "grid_template_areas": null,
            "grid_template_columns": null,
            "grid_template_rows": null,
            "height": null,
            "justify_content": null,
            "justify_items": null,
            "left": null,
            "margin": null,
            "max_height": null,
            "max_width": null,
            "min_height": null,
            "min_width": null,
            "object_fit": null,
            "object_position": null,
            "order": null,
            "overflow": null,
            "overflow_x": null,
            "overflow_y": null,
            "padding": null,
            "right": null,
            "top": null,
            "visibility": null,
            "width": null
          }
        },
        "0d0e11b9d72443d2bf9def227ed2ea63": {
          "model_module": "@jupyter-widgets/controls",
          "model_module_version": "1.5.0",
          "model_name": "HTMLModel",
          "state": {
            "_dom_classes": [],
            "_model_module": "@jupyter-widgets/controls",
            "_model_module_version": "1.5.0",
            "_model_name": "HTMLModel",
            "_view_count": null,
            "_view_module": "@jupyter-widgets/controls",
            "_view_module_version": "1.5.0",
            "_view_name": "HTMLView",
            "description": "",
            "description_tooltip": null,
            "layout": "IPY_MODEL_1f0a5e9e57b2466295b7cb1c7a26b0fe",
            "placeholder": "​",
            "style": "IPY_MODEL_a824806e99f4452eb70c34d3c9b6e611",
            "value": " 7.94k/7.94k [00:00&lt;00:00, 532kB/s]"
          }
        },
        "0e038056823240b9835e3d8bdec7ea1d": {
          "model_module": "@jupyter-widgets/base",
          "model_module_version": "1.2.0",
          "model_name": "LayoutModel",
          "state": {
            "_model_module": "@jupyter-widgets/base",
            "_model_module_version": "1.2.0",
            "_model_name": "LayoutModel",
            "_view_count": null,
            "_view_module": "@jupyter-widgets/base",
            "_view_module_version": "1.2.0",
            "_view_name": "LayoutView",
            "align_content": null,
            "align_items": null,
            "align_self": null,
            "border": null,
            "bottom": null,
            "display": null,
            "flex": null,
            "flex_flow": null,
            "grid_area": null,
            "grid_auto_columns": null,
            "grid_auto_flow": null,
            "grid_auto_rows": null,
            "grid_column": null,
            "grid_gap": null,
            "grid_row": null,
            "grid_template_areas": null,
            "grid_template_columns": null,
            "grid_template_rows": null,
            "height": null,
            "justify_content": null,
            "justify_items": null,
            "left": null,
            "margin": null,
            "max_height": null,
            "max_width": null,
            "min_height": null,
            "min_width": null,
            "object_fit": null,
            "object_position": null,
            "order": null,
            "overflow": null,
            "overflow_x": null,
            "overflow_y": null,
            "padding": null,
            "right": null,
            "top": null,
            "visibility": null,
            "width": null
          }
        },
        "126d1790bcea40478871169940597201": {
          "model_module": "@jupyter-widgets/base",
          "model_module_version": "1.2.0",
          "model_name": "LayoutModel",
          "state": {
            "_model_module": "@jupyter-widgets/base",
            "_model_module_version": "1.2.0",
            "_model_name": "LayoutModel",
            "_view_count": null,
            "_view_module": "@jupyter-widgets/base",
            "_view_module_version": "1.2.0",
            "_view_name": "LayoutView",
            "align_content": null,
            "align_items": null,
            "align_self": null,
            "border": null,
            "bottom": null,
            "display": null,
            "flex": null,
            "flex_flow": null,
            "grid_area": null,
            "grid_auto_columns": null,
            "grid_auto_flow": null,
            "grid_auto_rows": null,
            "grid_column": null,
            "grid_gap": null,
            "grid_row": null,
            "grid_template_areas": null,
            "grid_template_columns": null,
            "grid_template_rows": null,
            "height": null,
            "justify_content": null,
            "justify_items": null,
            "left": null,
            "margin": null,
            "max_height": null,
            "max_width": null,
            "min_height": null,
            "min_width": null,
            "object_fit": null,
            "object_position": null,
            "order": null,
            "overflow": null,
            "overflow_x": null,
            "overflow_y": null,
            "padding": null,
            "right": null,
            "top": null,
            "visibility": null,
            "width": null
          }
        },
        "181fdf8a346a490aa6eabbdb0907ef58": {
          "model_module": "@jupyter-widgets/controls",
          "model_module_version": "1.5.0",
          "model_name": "ProgressStyleModel",
          "state": {
            "_model_module": "@jupyter-widgets/controls",
            "_model_module_version": "1.5.0",
            "_model_name": "ProgressStyleModel",
            "_view_count": null,
            "_view_module": "@jupyter-widgets/base",
            "_view_module_version": "1.2.0",
            "_view_name": "StyleView",
            "bar_color": null,
            "description_width": ""
          }
        },
        "1f0a5e9e57b2466295b7cb1c7a26b0fe": {
          "model_module": "@jupyter-widgets/base",
          "model_module_version": "1.2.0",
          "model_name": "LayoutModel",
          "state": {
            "_model_module": "@jupyter-widgets/base",
            "_model_module_version": "1.2.0",
            "_model_name": "LayoutModel",
            "_view_count": null,
            "_view_module": "@jupyter-widgets/base",
            "_view_module_version": "1.2.0",
            "_view_name": "LayoutView",
            "align_content": null,
            "align_items": null,
            "align_self": null,
            "border": null,
            "bottom": null,
            "display": null,
            "flex": null,
            "flex_flow": null,
            "grid_area": null,
            "grid_auto_columns": null,
            "grid_auto_flow": null,
            "grid_auto_rows": null,
            "grid_column": null,
            "grid_gap": null,
            "grid_row": null,
            "grid_template_areas": null,
            "grid_template_columns": null,
            "grid_template_rows": null,
            "height": null,
            "justify_content": null,
            "justify_items": null,
            "left": null,
            "margin": null,
            "max_height": null,
            "max_width": null,
            "min_height": null,
            "min_width": null,
            "object_fit": null,
            "object_position": null,
            "order": null,
            "overflow": null,
            "overflow_x": null,
            "overflow_y": null,
            "padding": null,
            "right": null,
            "top": null,
            "visibility": null,
            "width": null
          }
        },
        "200486cf53214f7ea528a5e8718da8a3": {
          "model_module": "@jupyter-widgets/base",
          "model_module_version": "1.2.0",
          "model_name": "LayoutModel",
          "state": {
            "_model_module": "@jupyter-widgets/base",
            "_model_module_version": "1.2.0",
            "_model_name": "LayoutModel",
            "_view_count": null,
            "_view_module": "@jupyter-widgets/base",
            "_view_module_version": "1.2.0",
            "_view_name": "LayoutView",
            "align_content": null,
            "align_items": null,
            "align_self": null,
            "border": null,
            "bottom": null,
            "display": null,
            "flex": null,
            "flex_flow": null,
            "grid_area": null,
            "grid_auto_columns": null,
            "grid_auto_flow": null,
            "grid_auto_rows": null,
            "grid_column": null,
            "grid_gap": null,
            "grid_row": null,
            "grid_template_areas": null,
            "grid_template_columns": null,
            "grid_template_rows": null,
            "height": null,
            "justify_content": null,
            "justify_items": null,
            "left": null,
            "margin": null,
            "max_height": null,
            "max_width": null,
            "min_height": null,
            "min_width": null,
            "object_fit": null,
            "object_position": null,
            "order": null,
            "overflow": null,
            "overflow_x": null,
            "overflow_y": null,
            "padding": null,
            "right": null,
            "top": null,
            "visibility": null,
            "width": null
          }
        },
        "2288d8d0e58d438ea4e69a941469a20e": {
          "model_module": "@jupyter-widgets/controls",
          "model_module_version": "1.5.0",
          "model_name": "HTMLModel",
          "state": {
            "_dom_classes": [],
            "_model_module": "@jupyter-widgets/controls",
            "_model_module_version": "1.5.0",
            "_model_name": "HTMLModel",
            "_view_count": null,
            "_view_module": "@jupyter-widgets/controls",
            "_view_module_version": "1.5.0",
            "_view_name": "HTMLView",
            "description": "",
            "description_tooltip": null,
            "layout": "IPY_MODEL_ade627615fc745f6852649b91f06731d",
            "placeholder": "​",
            "style": "IPY_MODEL_6fe8e8e3e86f466a889320d0f081bcb0",
            "value": "Downloading data: 100%"
          }
        },
        "29eaa09b31e34fa19f90f1c578a7cd47": {
          "model_module": "@jupyter-widgets/base",
          "model_module_version": "1.2.0",
          "model_name": "LayoutModel",
          "state": {
            "_model_module": "@jupyter-widgets/base",
            "_model_module_version": "1.2.0",
            "_model_name": "LayoutModel",
            "_view_count": null,
            "_view_module": "@jupyter-widgets/base",
            "_view_module_version": "1.2.0",
            "_view_name": "LayoutView",
            "align_content": null,
            "align_items": null,
            "align_self": null,
            "border": null,
            "bottom": null,
            "display": null,
            "flex": null,
            "flex_flow": null,
            "grid_area": null,
            "grid_auto_columns": null,
            "grid_auto_flow": null,
            "grid_auto_rows": null,
            "grid_column": null,
            "grid_gap": null,
            "grid_row": null,
            "grid_template_areas": null,
            "grid_template_columns": null,
            "grid_template_rows": null,
            "height": null,
            "justify_content": null,
            "justify_items": null,
            "left": null,
            "margin": null,
            "max_height": null,
            "max_width": null,
            "min_height": null,
            "min_width": null,
            "object_fit": null,
            "object_position": null,
            "order": null,
            "overflow": null,
            "overflow_x": null,
            "overflow_y": null,
            "padding": null,
            "right": null,
            "top": null,
            "visibility": null,
            "width": null
          }
        },
        "2c4c1c69632547e58cdb679a56ea2ef2": {
          "model_module": "@jupyter-widgets/base",
          "model_module_version": "1.2.0",
          "model_name": "LayoutModel",
          "state": {
            "_model_module": "@jupyter-widgets/base",
            "_model_module_version": "1.2.0",
            "_model_name": "LayoutModel",
            "_view_count": null,
            "_view_module": "@jupyter-widgets/base",
            "_view_module_version": "1.2.0",
            "_view_name": "LayoutView",
            "align_content": null,
            "align_items": null,
            "align_self": null,
            "border": null,
            "bottom": null,
            "display": null,
            "flex": null,
            "flex_flow": null,
            "grid_area": null,
            "grid_auto_columns": null,
            "grid_auto_flow": null,
            "grid_auto_rows": null,
            "grid_column": null,
            "grid_gap": null,
            "grid_row": null,
            "grid_template_areas": null,
            "grid_template_columns": null,
            "grid_template_rows": null,
            "height": null,
            "justify_content": null,
            "justify_items": null,
            "left": null,
            "margin": null,
            "max_height": null,
            "max_width": null,
            "min_height": null,
            "min_width": null,
            "object_fit": null,
            "object_position": null,
            "order": null,
            "overflow": null,
            "overflow_x": null,
            "overflow_y": null,
            "padding": null,
            "right": null,
            "top": null,
            "visibility": null,
            "width": null
          }
        },
        "2c6be99ad92e41deba2545c41a5346c1": {
          "model_module": "@jupyter-widgets/controls",
          "model_module_version": "1.5.0",
          "model_name": "HBoxModel",
          "state": {
            "_dom_classes": [],
            "_model_module": "@jupyter-widgets/controls",
            "_model_module_version": "1.5.0",
            "_model_name": "HBoxModel",
            "_view_count": null,
            "_view_module": "@jupyter-widgets/controls",
            "_view_module_version": "1.5.0",
            "_view_name": "HBoxView",
            "box_style": "",
            "children": [
              "IPY_MODEL_62b9245851b141f79a66281ac9da797b",
              "IPY_MODEL_e2ff941fab2f4e369b2977c87636fbc1",
              "IPY_MODEL_f712424d53004d8b9af4f0b839bab24e"
            ],
            "layout": "IPY_MODEL_29eaa09b31e34fa19f90f1c578a7cd47"
          }
        },
        "4a259eec653f48288266799298319b9a": {
          "model_module": "@jupyter-widgets/controls",
          "model_module_version": "1.5.0",
          "model_name": "ProgressStyleModel",
          "state": {
            "_model_module": "@jupyter-widgets/controls",
            "_model_module_version": "1.5.0",
            "_model_name": "ProgressStyleModel",
            "_view_count": null,
            "_view_module": "@jupyter-widgets/base",
            "_view_module_version": "1.2.0",
            "_view_name": "StyleView",
            "bar_color": null,
            "description_width": ""
          }
        },
        "54d57e78ff8b463199c60f153941ec76": {
          "model_module": "@jupyter-widgets/controls",
          "model_module_version": "1.5.0",
          "model_name": "DescriptionStyleModel",
          "state": {
            "_model_module": "@jupyter-widgets/controls",
            "_model_module_version": "1.5.0",
            "_model_name": "DescriptionStyleModel",
            "_view_count": null,
            "_view_module": "@jupyter-widgets/base",
            "_view_module_version": "1.2.0",
            "_view_name": "StyleView",
            "description_width": ""
          }
        },
        "56ad38b691014c899b1227d6563be570": {
          "model_module": "@jupyter-widgets/controls",
          "model_module_version": "1.5.0",
          "model_name": "HBoxModel",
          "state": {
            "_dom_classes": [],
            "_model_module": "@jupyter-widgets/controls",
            "_model_module_version": "1.5.0",
            "_model_name": "HBoxModel",
            "_view_count": null,
            "_view_module": "@jupyter-widgets/controls",
            "_view_module_version": "1.5.0",
            "_view_name": "HBoxView",
            "box_style": "",
            "children": [
              "IPY_MODEL_bc2f3c24d0da489ca8652ecac12ab2b7",
              "IPY_MODEL_6ae4fda98c6b41fa9f73c3d223f32b3c",
              "IPY_MODEL_93b41ab10b1749daaab08d569ae37832"
            ],
            "layout": "IPY_MODEL_0248df9db9534a7a98d49e11fcb24ce0"
          }
        },
        "572a5aa78add43448dabd41c632bdb9d": {
          "model_module": "@jupyter-widgets/controls",
          "model_module_version": "1.5.0",
          "model_name": "HBoxModel",
          "state": {
            "_dom_classes": [],
            "_model_module": "@jupyter-widgets/controls",
            "_model_module_version": "1.5.0",
            "_model_name": "HBoxModel",
            "_view_count": null,
            "_view_module": "@jupyter-widgets/controls",
            "_view_module_version": "1.5.0",
            "_view_name": "HBoxView",
            "box_style": "",
            "children": [
              "IPY_MODEL_7f06e4940c5848c9abca165ebad783b1",
              "IPY_MODEL_a3f0b5b8b00448a68dd6a3082ad3853f",
              "IPY_MODEL_78ef66e03f114444b41996516e1ed965"
            ],
            "layout": "IPY_MODEL_634565d5d7ad42d1aeef4312adcd3cf0"
          }
        },
        "62b9245851b141f79a66281ac9da797b": {
          "model_module": "@jupyter-widgets/controls",
          "model_module_version": "1.5.0",
          "model_name": "HTMLModel",
          "state": {
            "_dom_classes": [],
            "_model_module": "@jupyter-widgets/controls",
            "_model_module_version": "1.5.0",
            "_model_name": "HTMLModel",
            "_view_count": null,
            "_view_module": "@jupyter-widgets/controls",
            "_view_module_version": "1.5.0",
            "_view_name": "HTMLView",
            "description": "",
            "description_tooltip": null,
            "layout": "IPY_MODEL_9422686d4ea340d2b68731e077785348",
            "placeholder": "​",
            "style": "IPY_MODEL_028bb0fbfdc140dc87d103a438be30d8",
            "value": "Generating test split: 100%"
          }
        },
        "634565d5d7ad42d1aeef4312adcd3cf0": {
          "model_module": "@jupyter-widgets/base",
          "model_module_version": "1.2.0",
          "model_name": "LayoutModel",
          "state": {
            "_model_module": "@jupyter-widgets/base",
            "_model_module_version": "1.2.0",
            "_model_name": "LayoutModel",
            "_view_count": null,
            "_view_module": "@jupyter-widgets/base",
            "_view_module_version": "1.2.0",
            "_view_name": "LayoutView",
            "align_content": null,
            "align_items": null,
            "align_self": null,
            "border": null,
            "bottom": null,
            "display": null,
            "flex": null,
            "flex_flow": null,
            "grid_area": null,
            "grid_auto_columns": null,
            "grid_auto_flow": null,
            "grid_auto_rows": null,
            "grid_column": null,
            "grid_gap": null,
            "grid_row": null,
            "grid_template_areas": null,
            "grid_template_columns": null,
            "grid_template_rows": null,
            "height": null,
            "justify_content": null,
            "justify_items": null,
            "left": null,
            "margin": null,
            "max_height": null,
            "max_width": null,
            "min_height": null,
            "min_width": null,
            "object_fit": null,
            "object_position": null,
            "order": null,
            "overflow": null,
            "overflow_x": null,
            "overflow_y": null,
            "padding": null,
            "right": null,
            "top": null,
            "visibility": null,
            "width": null
          }
        },
        "6ae4fda98c6b41fa9f73c3d223f32b3c": {
          "model_module": "@jupyter-widgets/controls",
          "model_module_version": "1.5.0",
          "model_name": "FloatProgressModel",
          "state": {
            "_dom_classes": [],
            "_model_module": "@jupyter-widgets/controls",
            "_model_module_version": "1.5.0",
            "_model_name": "FloatProgressModel",
            "_view_count": null,
            "_view_module": "@jupyter-widgets/controls",
            "_view_module_version": "1.5.0",
            "_view_name": "ProgressView",
            "bar_style": "success",
            "description": "",
            "description_tooltip": null,
            "layout": "IPY_MODEL_aa0edf7a372b475bbb2302f0b6571b75",
            "max": 7473,
            "min": 0,
            "orientation": "horizontal",
            "style": "IPY_MODEL_181fdf8a346a490aa6eabbdb0907ef58",
            "value": 7473
          }
        },
        "6fe8e8e3e86f466a889320d0f081bcb0": {
          "model_module": "@jupyter-widgets/controls",
          "model_module_version": "1.5.0",
          "model_name": "DescriptionStyleModel",
          "state": {
            "_model_module": "@jupyter-widgets/controls",
            "_model_module_version": "1.5.0",
            "_model_name": "DescriptionStyleModel",
            "_view_count": null,
            "_view_module": "@jupyter-widgets/base",
            "_view_module_version": "1.2.0",
            "_view_name": "StyleView",
            "description_width": ""
          }
        },
        "742dc98251b64833895aedfb0a75dc57": {
          "model_module": "@jupyter-widgets/controls",
          "model_module_version": "1.5.0",
          "model_name": "HBoxModel",
          "state": {
            "_dom_classes": [],
            "_model_module": "@jupyter-widgets/controls",
            "_model_module_version": "1.5.0",
            "_model_name": "HBoxModel",
            "_view_count": null,
            "_view_module": "@jupyter-widgets/controls",
            "_view_module_version": "1.5.0",
            "_view_name": "HBoxView",
            "box_style": "",
            "children": [
              "IPY_MODEL_2288d8d0e58d438ea4e69a941469a20e",
              "IPY_MODEL_c2f26a48ceb847fe8a2c5b0033d79c95",
              "IPY_MODEL_772fc183e47746c4b588f0db80dfbf2f"
            ],
            "layout": "IPY_MODEL_d630ea51a26941a99e6600719f3d425f"
          }
        },
        "772fc183e47746c4b588f0db80dfbf2f": {
          "model_module": "@jupyter-widgets/controls",
          "model_module_version": "1.5.0",
          "model_name": "HTMLModel",
          "state": {
            "_dom_classes": [],
            "_model_module": "@jupyter-widgets/controls",
            "_model_module_version": "1.5.0",
            "_model_name": "HTMLModel",
            "_view_count": null,
            "_view_module": "@jupyter-widgets/controls",
            "_view_module_version": "1.5.0",
            "_view_name": "HTMLView",
            "description": "",
            "description_tooltip": null,
            "layout": "IPY_MODEL_2c4c1c69632547e58cdb679a56ea2ef2",
            "placeholder": "​",
            "style": "IPY_MODEL_c0b2ae5d6a9f4a43b64039f2476ec9ca",
            "value": " 2.31M/2.31M [00:00&lt;00:00, 5.37MB/s]"
          }
        },
        "78ef66e03f114444b41996516e1ed965": {
          "model_module": "@jupyter-widgets/controls",
          "model_module_version": "1.5.0",
          "model_name": "HTMLModel",
          "state": {
            "_dom_classes": [],
            "_model_module": "@jupyter-widgets/controls",
            "_model_module_version": "1.5.0",
            "_model_name": "HTMLModel",
            "_view_count": null,
            "_view_module": "@jupyter-widgets/controls",
            "_view_module_version": "1.5.0",
            "_view_name": "HTMLView",
            "description": "",
            "description_tooltip": null,
            "layout": "IPY_MODEL_200486cf53214f7ea528a5e8718da8a3",
            "placeholder": "​",
            "style": "IPY_MODEL_d14e849a162441d4b617b6cfea8f22fb",
            "value": " 419k/419k [00:00&lt;00:00, 3.42MB/s]"
          }
        },
        "7f06e4940c5848c9abca165ebad783b1": {
          "model_module": "@jupyter-widgets/controls",
          "model_module_version": "1.5.0",
          "model_name": "HTMLModel",
          "state": {
            "_dom_classes": [],
            "_model_module": "@jupyter-widgets/controls",
            "_model_module_version": "1.5.0",
            "_model_name": "HTMLModel",
            "_view_count": null,
            "_view_module": "@jupyter-widgets/controls",
            "_view_module_version": "1.5.0",
            "_view_name": "HTMLView",
            "description": "",
            "description_tooltip": null,
            "layout": "IPY_MODEL_f820abda66f3408094e7c76d49f5af36",
            "placeholder": "​",
            "style": "IPY_MODEL_f495c8b95c1b4c2e966917fb73891916",
            "value": "Downloading data: 100%"
          }
        },
        "93b41ab10b1749daaab08d569ae37832": {
          "model_module": "@jupyter-widgets/controls",
          "model_module_version": "1.5.0",
          "model_name": "HTMLModel",
          "state": {
            "_dom_classes": [],
            "_model_module": "@jupyter-widgets/controls",
            "_model_module_version": "1.5.0",
            "_model_name": "HTMLModel",
            "_view_count": null,
            "_view_module": "@jupyter-widgets/controls",
            "_view_module_version": "1.5.0",
            "_view_name": "HTMLView",
            "description": "",
            "description_tooltip": null,
            "layout": "IPY_MODEL_f01676a335c04e47a589b15276d24912",
            "placeholder": "​",
            "style": "IPY_MODEL_ba9555f939c84ebdbfe46b2ce2e503b5",
            "value": " 7473/7473 [00:00&lt;00:00, 101075.55 examples/s]"
          }
        },
        "9422686d4ea340d2b68731e077785348": {
          "model_module": "@jupyter-widgets/base",
          "model_module_version": "1.2.0",
          "model_name": "LayoutModel",
          "state": {
            "_model_module": "@jupyter-widgets/base",
            "_model_module_version": "1.2.0",
            "_model_name": "LayoutModel",
            "_view_count": null,
            "_view_module": "@jupyter-widgets/base",
            "_view_module_version": "1.2.0",
            "_view_name": "LayoutView",
            "align_content": null,
            "align_items": null,
            "align_self": null,
            "border": null,
            "bottom": null,
            "display": null,
            "flex": null,
            "flex_flow": null,
            "grid_area": null,
            "grid_auto_columns": null,
            "grid_auto_flow": null,
            "grid_auto_rows": null,
            "grid_column": null,
            "grid_gap": null,
            "grid_row": null,
            "grid_template_areas": null,
            "grid_template_columns": null,
            "grid_template_rows": null,
            "height": null,
            "justify_content": null,
            "justify_items": null,
            "left": null,
            "margin": null,
            "max_height": null,
            "max_width": null,
            "min_height": null,
            "min_width": null,
            "object_fit": null,
            "object_position": null,
            "order": null,
            "overflow": null,
            "overflow_x": null,
            "overflow_y": null,
            "padding": null,
            "right": null,
            "top": null,
            "visibility": null,
            "width": null
          }
        },
        "945fc7b512a04a5c8384c325cc1dbe94": {
          "model_module": "@jupyter-widgets/controls",
          "model_module_version": "1.5.0",
          "model_name": "DescriptionStyleModel",
          "state": {
            "_model_module": "@jupyter-widgets/controls",
            "_model_module_version": "1.5.0",
            "_model_name": "DescriptionStyleModel",
            "_view_count": null,
            "_view_module": "@jupyter-widgets/base",
            "_view_module_version": "1.2.0",
            "_view_name": "StyleView",
            "description_width": ""
          }
        },
        "9e52cb5138534c9195bcc3e5b3a44b76": {
          "model_module": "@jupyter-widgets/controls",
          "model_module_version": "1.5.0",
          "model_name": "ProgressStyleModel",
          "state": {
            "_model_module": "@jupyter-widgets/controls",
            "_model_module_version": "1.5.0",
            "_model_name": "ProgressStyleModel",
            "_view_count": null,
            "_view_module": "@jupyter-widgets/base",
            "_view_module_version": "1.2.0",
            "_view_name": "StyleView",
            "bar_color": null,
            "description_width": ""
          }
        },
        "a2fa7fcda19f44729d1915e5cf218073": {
          "model_module": "@jupyter-widgets/base",
          "model_module_version": "1.2.0",
          "model_name": "LayoutModel",
          "state": {
            "_model_module": "@jupyter-widgets/base",
            "_model_module_version": "1.2.0",
            "_model_name": "LayoutModel",
            "_view_count": null,
            "_view_module": "@jupyter-widgets/base",
            "_view_module_version": "1.2.0",
            "_view_name": "LayoutView",
            "align_content": null,
            "align_items": null,
            "align_self": null,
            "border": null,
            "bottom": null,
            "display": null,
            "flex": null,
            "flex_flow": null,
            "grid_area": null,
            "grid_auto_columns": null,
            "grid_auto_flow": null,
            "grid_auto_rows": null,
            "grid_column": null,
            "grid_gap": null,
            "grid_row": null,
            "grid_template_areas": null,
            "grid_template_columns": null,
            "grid_template_rows": null,
            "height": null,
            "justify_content": null,
            "justify_items": null,
            "left": null,
            "margin": null,
            "max_height": null,
            "max_width": null,
            "min_height": null,
            "min_width": null,
            "object_fit": null,
            "object_position": null,
            "order": null,
            "overflow": null,
            "overflow_x": null,
            "overflow_y": null,
            "padding": null,
            "right": null,
            "top": null,
            "visibility": null,
            "width": null
          }
        },
        "a3f0b5b8b00448a68dd6a3082ad3853f": {
          "model_module": "@jupyter-widgets/controls",
          "model_module_version": "1.5.0",
          "model_name": "FloatProgressModel",
          "state": {
            "_dom_classes": [],
            "_model_module": "@jupyter-widgets/controls",
            "_model_module_version": "1.5.0",
            "_model_name": "FloatProgressModel",
            "_view_count": null,
            "_view_module": "@jupyter-widgets/controls",
            "_view_module_version": "1.5.0",
            "_view_name": "ProgressView",
            "bar_style": "success",
            "description": "",
            "description_tooltip": null,
            "layout": "IPY_MODEL_0e038056823240b9835e3d8bdec7ea1d",
            "max": 419088,
            "min": 0,
            "orientation": "horizontal",
            "style": "IPY_MODEL_9e52cb5138534c9195bcc3e5b3a44b76",
            "value": 419088
          }
        },
        "a4da2b93fb964890bd8c60b5589be2b4": {
          "model_module": "@jupyter-widgets/controls",
          "model_module_version": "1.5.0",
          "model_name": "HBoxModel",
          "state": {
            "_dom_classes": [],
            "_model_module": "@jupyter-widgets/controls",
            "_model_module_version": "1.5.0",
            "_model_name": "HBoxModel",
            "_view_count": null,
            "_view_module": "@jupyter-widgets/controls",
            "_view_module_version": "1.5.0",
            "_view_name": "HBoxView",
            "box_style": "",
            "children": [
              "IPY_MODEL_e5e3d39313ef428fa19f9aa8a156a77b",
              "IPY_MODEL_eb68c89733bc469b886374c0b2095bb6",
              "IPY_MODEL_0d0e11b9d72443d2bf9def227ed2ea63"
            ],
            "layout": "IPY_MODEL_a2fa7fcda19f44729d1915e5cf218073"
          }
        },
        "a824806e99f4452eb70c34d3c9b6e611": {
          "model_module": "@jupyter-widgets/controls",
          "model_module_version": "1.5.0",
          "model_name": "DescriptionStyleModel",
          "state": {
            "_model_module": "@jupyter-widgets/controls",
            "_model_module_version": "1.5.0",
            "_model_name": "DescriptionStyleModel",
            "_view_count": null,
            "_view_module": "@jupyter-widgets/base",
            "_view_module_version": "1.2.0",
            "_view_name": "StyleView",
            "description_width": ""
          }
        },
        "aa0edf7a372b475bbb2302f0b6571b75": {
          "model_module": "@jupyter-widgets/base",
          "model_module_version": "1.2.0",
          "model_name": "LayoutModel",
          "state": {
            "_model_module": "@jupyter-widgets/base",
            "_model_module_version": "1.2.0",
            "_model_name": "LayoutModel",
            "_view_count": null,
            "_view_module": "@jupyter-widgets/base",
            "_view_module_version": "1.2.0",
            "_view_name": "LayoutView",
            "align_content": null,
            "align_items": null,
            "align_self": null,
            "border": null,
            "bottom": null,
            "display": null,
            "flex": null,
            "flex_flow": null,
            "grid_area": null,
            "grid_auto_columns": null,
            "grid_auto_flow": null,
            "grid_auto_rows": null,
            "grid_column": null,
            "grid_gap": null,
            "grid_row": null,
            "grid_template_areas": null,
            "grid_template_columns": null,
            "grid_template_rows": null,
            "height": null,
            "justify_content": null,
            "justify_items": null,
            "left": null,
            "margin": null,
            "max_height": null,
            "max_width": null,
            "min_height": null,
            "min_width": null,
            "object_fit": null,
            "object_position": null,
            "order": null,
            "overflow": null,
            "overflow_x": null,
            "overflow_y": null,
            "padding": null,
            "right": null,
            "top": null,
            "visibility": null,
            "width": null
          }
        },
        "ade627615fc745f6852649b91f06731d": {
          "model_module": "@jupyter-widgets/base",
          "model_module_version": "1.2.0",
          "model_name": "LayoutModel",
          "state": {
            "_model_module": "@jupyter-widgets/base",
            "_model_module_version": "1.2.0",
            "_model_name": "LayoutModel",
            "_view_count": null,
            "_view_module": "@jupyter-widgets/base",
            "_view_module_version": "1.2.0",
            "_view_name": "LayoutView",
            "align_content": null,
            "align_items": null,
            "align_self": null,
            "border": null,
            "bottom": null,
            "display": null,
            "flex": null,
            "flex_flow": null,
            "grid_area": null,
            "grid_auto_columns": null,
            "grid_auto_flow": null,
            "grid_auto_rows": null,
            "grid_column": null,
            "grid_gap": null,
            "grid_row": null,
            "grid_template_areas": null,
            "grid_template_columns": null,
            "grid_template_rows": null,
            "height": null,
            "justify_content": null,
            "justify_items": null,
            "left": null,
            "margin": null,
            "max_height": null,
            "max_width": null,
            "min_height": null,
            "min_width": null,
            "object_fit": null,
            "object_position": null,
            "order": null,
            "overflow": null,
            "overflow_x": null,
            "overflow_y": null,
            "padding": null,
            "right": null,
            "top": null,
            "visibility": null,
            "width": null
          }
        },
        "ba9555f939c84ebdbfe46b2ce2e503b5": {
          "model_module": "@jupyter-widgets/controls",
          "model_module_version": "1.5.0",
          "model_name": "DescriptionStyleModel",
          "state": {
            "_model_module": "@jupyter-widgets/controls",
            "_model_module_version": "1.5.0",
            "_model_name": "DescriptionStyleModel",
            "_view_count": null,
            "_view_module": "@jupyter-widgets/base",
            "_view_module_version": "1.2.0",
            "_view_name": "StyleView",
            "description_width": ""
          }
        },
        "bc2f3c24d0da489ca8652ecac12ab2b7": {
          "model_module": "@jupyter-widgets/controls",
          "model_module_version": "1.5.0",
          "model_name": "HTMLModel",
          "state": {
            "_dom_classes": [],
            "_model_module": "@jupyter-widgets/controls",
            "_model_module_version": "1.5.0",
            "_model_name": "HTMLModel",
            "_view_count": null,
            "_view_module": "@jupyter-widgets/controls",
            "_view_module_version": "1.5.0",
            "_view_name": "HTMLView",
            "description": "",
            "description_tooltip": null,
            "layout": "IPY_MODEL_c1dea8db8b2e4b38ab0af8a8f8a98653",
            "placeholder": "​",
            "style": "IPY_MODEL_f345ad3e23564e91a5dbf3b048cb13d5",
            "value": "Generating train split: 100%"
          }
        },
        "c0b2ae5d6a9f4a43b64039f2476ec9ca": {
          "model_module": "@jupyter-widgets/controls",
          "model_module_version": "1.5.0",
          "model_name": "DescriptionStyleModel",
          "state": {
            "_model_module": "@jupyter-widgets/controls",
            "_model_module_version": "1.5.0",
            "_model_name": "DescriptionStyleModel",
            "_view_count": null,
            "_view_module": "@jupyter-widgets/base",
            "_view_module_version": "1.2.0",
            "_view_name": "StyleView",
            "description_width": ""
          }
        },
        "c1dea8db8b2e4b38ab0af8a8f8a98653": {
          "model_module": "@jupyter-widgets/base",
          "model_module_version": "1.2.0",
          "model_name": "LayoutModel",
          "state": {
            "_model_module": "@jupyter-widgets/base",
            "_model_module_version": "1.2.0",
            "_model_name": "LayoutModel",
            "_view_count": null,
            "_view_module": "@jupyter-widgets/base",
            "_view_module_version": "1.2.0",
            "_view_name": "LayoutView",
            "align_content": null,
            "align_items": null,
            "align_self": null,
            "border": null,
            "bottom": null,
            "display": null,
            "flex": null,
            "flex_flow": null,
            "grid_area": null,
            "grid_auto_columns": null,
            "grid_auto_flow": null,
            "grid_auto_rows": null,
            "grid_column": null,
            "grid_gap": null,
            "grid_row": null,
            "grid_template_areas": null,
            "grid_template_columns": null,
            "grid_template_rows": null,
            "height": null,
            "justify_content": null,
            "justify_items": null,
            "left": null,
            "margin": null,
            "max_height": null,
            "max_width": null,
            "min_height": null,
            "min_width": null,
            "object_fit": null,
            "object_position": null,
            "order": null,
            "overflow": null,
            "overflow_x": null,
            "overflow_y": null,
            "padding": null,
            "right": null,
            "top": null,
            "visibility": null,
            "width": null
          }
        },
        "c2f26a48ceb847fe8a2c5b0033d79c95": {
          "model_module": "@jupyter-widgets/controls",
          "model_module_version": "1.5.0",
          "model_name": "FloatProgressModel",
          "state": {
            "_dom_classes": [],
            "_model_module": "@jupyter-widgets/controls",
            "_model_module_version": "1.5.0",
            "_model_name": "FloatProgressModel",
            "_view_count": null,
            "_view_module": "@jupyter-widgets/controls",
            "_view_module_version": "1.5.0",
            "_view_name": "ProgressView",
            "bar_style": "success",
            "description": "",
            "description_tooltip": null,
            "layout": "IPY_MODEL_126d1790bcea40478871169940597201",
            "max": 2306545,
            "min": 0,
            "orientation": "horizontal",
            "style": "IPY_MODEL_dc62eb5beabb41bba0f34f431125eb05",
            "value": 2306545
          }
        },
        "d14e849a162441d4b617b6cfea8f22fb": {
          "model_module": "@jupyter-widgets/controls",
          "model_module_version": "1.5.0",
          "model_name": "DescriptionStyleModel",
          "state": {
            "_model_module": "@jupyter-widgets/controls",
            "_model_module_version": "1.5.0",
            "_model_name": "DescriptionStyleModel",
            "_view_count": null,
            "_view_module": "@jupyter-widgets/base",
            "_view_module_version": "1.2.0",
            "_view_name": "StyleView",
            "description_width": ""
          }
        },
        "d630ea51a26941a99e6600719f3d425f": {
          "model_module": "@jupyter-widgets/base",
          "model_module_version": "1.2.0",
          "model_name": "LayoutModel",
          "state": {
            "_model_module": "@jupyter-widgets/base",
            "_model_module_version": "1.2.0",
            "_model_name": "LayoutModel",
            "_view_count": null,
            "_view_module": "@jupyter-widgets/base",
            "_view_module_version": "1.2.0",
            "_view_name": "LayoutView",
            "align_content": null,
            "align_items": null,
            "align_self": null,
            "border": null,
            "bottom": null,
            "display": null,
            "flex": null,
            "flex_flow": null,
            "grid_area": null,
            "grid_auto_columns": null,
            "grid_auto_flow": null,
            "grid_auto_rows": null,
            "grid_column": null,
            "grid_gap": null,
            "grid_row": null,
            "grid_template_areas": null,
            "grid_template_columns": null,
            "grid_template_rows": null,
            "height": null,
            "justify_content": null,
            "justify_items": null,
            "left": null,
            "margin": null,
            "max_height": null,
            "max_width": null,
            "min_height": null,
            "min_width": null,
            "object_fit": null,
            "object_position": null,
            "order": null,
            "overflow": null,
            "overflow_x": null,
            "overflow_y": null,
            "padding": null,
            "right": null,
            "top": null,
            "visibility": null,
            "width": null
          }
        },
        "dc62eb5beabb41bba0f34f431125eb05": {
          "model_module": "@jupyter-widgets/controls",
          "model_module_version": "1.5.0",
          "model_name": "ProgressStyleModel",
          "state": {
            "_model_module": "@jupyter-widgets/controls",
            "_model_module_version": "1.5.0",
            "_model_name": "ProgressStyleModel",
            "_view_count": null,
            "_view_module": "@jupyter-widgets/base",
            "_view_module_version": "1.2.0",
            "_view_name": "StyleView",
            "bar_color": null,
            "description_width": ""
          }
        },
        "e13c992fb9944c6ea599d2002e1610ad": {
          "model_module": "@jupyter-widgets/base",
          "model_module_version": "1.2.0",
          "model_name": "LayoutModel",
          "state": {
            "_model_module": "@jupyter-widgets/base",
            "_model_module_version": "1.2.0",
            "_model_name": "LayoutModel",
            "_view_count": null,
            "_view_module": "@jupyter-widgets/base",
            "_view_module_version": "1.2.0",
            "_view_name": "LayoutView",
            "align_content": null,
            "align_items": null,
            "align_self": null,
            "border": null,
            "bottom": null,
            "display": null,
            "flex": null,
            "flex_flow": null,
            "grid_area": null,
            "grid_auto_columns": null,
            "grid_auto_flow": null,
            "grid_auto_rows": null,
            "grid_column": null,
            "grid_gap": null,
            "grid_row": null,
            "grid_template_areas": null,
            "grid_template_columns": null,
            "grid_template_rows": null,
            "height": null,
            "justify_content": null,
            "justify_items": null,
            "left": null,
            "margin": null,
            "max_height": null,
            "max_width": null,
            "min_height": null,
            "min_width": null,
            "object_fit": null,
            "object_position": null,
            "order": null,
            "overflow": null,
            "overflow_x": null,
            "overflow_y": null,
            "padding": null,
            "right": null,
            "top": null,
            "visibility": null,
            "width": null
          }
        },
        "e20b6f66359d46218a6e7b9c41c0f4e9": {
          "model_module": "@jupyter-widgets/base",
          "model_module_version": "1.2.0",
          "model_name": "LayoutModel",
          "state": {
            "_model_module": "@jupyter-widgets/base",
            "_model_module_version": "1.2.0",
            "_model_name": "LayoutModel",
            "_view_count": null,
            "_view_module": "@jupyter-widgets/base",
            "_view_module_version": "1.2.0",
            "_view_name": "LayoutView",
            "align_content": null,
            "align_items": null,
            "align_self": null,
            "border": null,
            "bottom": null,
            "display": null,
            "flex": null,
            "flex_flow": null,
            "grid_area": null,
            "grid_auto_columns": null,
            "grid_auto_flow": null,
            "grid_auto_rows": null,
            "grid_column": null,
            "grid_gap": null,
            "grid_row": null,
            "grid_template_areas": null,
            "grid_template_columns": null,
            "grid_template_rows": null,
            "height": null,
            "justify_content": null,
            "justify_items": null,
            "left": null,
            "margin": null,
            "max_height": null,
            "max_width": null,
            "min_height": null,
            "min_width": null,
            "object_fit": null,
            "object_position": null,
            "order": null,
            "overflow": null,
            "overflow_x": null,
            "overflow_y": null,
            "padding": null,
            "right": null,
            "top": null,
            "visibility": null,
            "width": null
          }
        },
        "e2ff941fab2f4e369b2977c87636fbc1": {
          "model_module": "@jupyter-widgets/controls",
          "model_module_version": "1.5.0",
          "model_name": "FloatProgressModel",
          "state": {
            "_dom_classes": [],
            "_model_module": "@jupyter-widgets/controls",
            "_model_module_version": "1.5.0",
            "_model_name": "FloatProgressModel",
            "_view_count": null,
            "_view_module": "@jupyter-widgets/controls",
            "_view_module_version": "1.5.0",
            "_view_name": "ProgressView",
            "bar_style": "success",
            "description": "",
            "description_tooltip": null,
            "layout": "IPY_MODEL_e20b6f66359d46218a6e7b9c41c0f4e9",
            "max": 1319,
            "min": 0,
            "orientation": "horizontal",
            "style": "IPY_MODEL_4a259eec653f48288266799298319b9a",
            "value": 1319
          }
        },
        "e5e3d39313ef428fa19f9aa8a156a77b": {
          "model_module": "@jupyter-widgets/controls",
          "model_module_version": "1.5.0",
          "model_name": "HTMLModel",
          "state": {
            "_dom_classes": [],
            "_model_module": "@jupyter-widgets/controls",
            "_model_module_version": "1.5.0",
            "_model_name": "HTMLModel",
            "_view_count": null,
            "_view_module": "@jupyter-widgets/controls",
            "_view_module_version": "1.5.0",
            "_view_name": "HTMLView",
            "description": "",
            "description_tooltip": null,
            "layout": "IPY_MODEL_02c816c5001049d49205088e6038913d",
            "placeholder": "​",
            "style": "IPY_MODEL_54d57e78ff8b463199c60f153941ec76",
            "value": "Downloading readme: 100%"
          }
        },
        "eb68c89733bc469b886374c0b2095bb6": {
          "model_module": "@jupyter-widgets/controls",
          "model_module_version": "1.5.0",
          "model_name": "FloatProgressModel",
          "state": {
            "_dom_classes": [],
            "_model_module": "@jupyter-widgets/controls",
            "_model_module_version": "1.5.0",
            "_model_name": "FloatProgressModel",
            "_view_count": null,
            "_view_module": "@jupyter-widgets/controls",
            "_view_module_version": "1.5.0",
            "_view_name": "ProgressView",
            "bar_style": "success",
            "description": "",
            "description_tooltip": null,
            "layout": "IPY_MODEL_f4119fbb2ce0418db954e8c4a0f9cf98",
            "max": 7940,
            "min": 0,
            "orientation": "horizontal",
            "style": "IPY_MODEL_f9bf4c0504294ba198f3a14fad39cde1",
            "value": 7940
          }
        },
        "f01676a335c04e47a589b15276d24912": {
          "model_module": "@jupyter-widgets/base",
          "model_module_version": "1.2.0",
          "model_name": "LayoutModel",
          "state": {
            "_model_module": "@jupyter-widgets/base",
            "_model_module_version": "1.2.0",
            "_model_name": "LayoutModel",
            "_view_count": null,
            "_view_module": "@jupyter-widgets/base",
            "_view_module_version": "1.2.0",
            "_view_name": "LayoutView",
            "align_content": null,
            "align_items": null,
            "align_self": null,
            "border": null,
            "bottom": null,
            "display": null,
            "flex": null,
            "flex_flow": null,
            "grid_area": null,
            "grid_auto_columns": null,
            "grid_auto_flow": null,
            "grid_auto_rows": null,
            "grid_column": null,
            "grid_gap": null,
            "grid_row": null,
            "grid_template_areas": null,
            "grid_template_columns": null,
            "grid_template_rows": null,
            "height": null,
            "justify_content": null,
            "justify_items": null,
            "left": null,
            "margin": null,
            "max_height": null,
            "max_width": null,
            "min_height": null,
            "min_width": null,
            "object_fit": null,
            "object_position": null,
            "order": null,
            "overflow": null,
            "overflow_x": null,
            "overflow_y": null,
            "padding": null,
            "right": null,
            "top": null,
            "visibility": null,
            "width": null
          }
        },
        "f345ad3e23564e91a5dbf3b048cb13d5": {
          "model_module": "@jupyter-widgets/controls",
          "model_module_version": "1.5.0",
          "model_name": "DescriptionStyleModel",
          "state": {
            "_model_module": "@jupyter-widgets/controls",
            "_model_module_version": "1.5.0",
            "_model_name": "DescriptionStyleModel",
            "_view_count": null,
            "_view_module": "@jupyter-widgets/base",
            "_view_module_version": "1.2.0",
            "_view_name": "StyleView",
            "description_width": ""
          }
        },
        "f4119fbb2ce0418db954e8c4a0f9cf98": {
          "model_module": "@jupyter-widgets/base",
          "model_module_version": "1.2.0",
          "model_name": "LayoutModel",
          "state": {
            "_model_module": "@jupyter-widgets/base",
            "_model_module_version": "1.2.0",
            "_model_name": "LayoutModel",
            "_view_count": null,
            "_view_module": "@jupyter-widgets/base",
            "_view_module_version": "1.2.0",
            "_view_name": "LayoutView",
            "align_content": null,
            "align_items": null,
            "align_self": null,
            "border": null,
            "bottom": null,
            "display": null,
            "flex": null,
            "flex_flow": null,
            "grid_area": null,
            "grid_auto_columns": null,
            "grid_auto_flow": null,
            "grid_auto_rows": null,
            "grid_column": null,
            "grid_gap": null,
            "grid_row": null,
            "grid_template_areas": null,
            "grid_template_columns": null,
            "grid_template_rows": null,
            "height": null,
            "justify_content": null,
            "justify_items": null,
            "left": null,
            "margin": null,
            "max_height": null,
            "max_width": null,
            "min_height": null,
            "min_width": null,
            "object_fit": null,
            "object_position": null,
            "order": null,
            "overflow": null,
            "overflow_x": null,
            "overflow_y": null,
            "padding": null,
            "right": null,
            "top": null,
            "visibility": null,
            "width": null
          }
        },
        "f495c8b95c1b4c2e966917fb73891916": {
          "model_module": "@jupyter-widgets/controls",
          "model_module_version": "1.5.0",
          "model_name": "DescriptionStyleModel",
          "state": {
            "_model_module": "@jupyter-widgets/controls",
            "_model_module_version": "1.5.0",
            "_model_name": "DescriptionStyleModel",
            "_view_count": null,
            "_view_module": "@jupyter-widgets/base",
            "_view_module_version": "1.2.0",
            "_view_name": "StyleView",
            "description_width": ""
          }
        },
        "f712424d53004d8b9af4f0b839bab24e": {
          "model_module": "@jupyter-widgets/controls",
          "model_module_version": "1.5.0",
          "model_name": "HTMLModel",
          "state": {
            "_dom_classes": [],
            "_model_module": "@jupyter-widgets/controls",
            "_model_module_version": "1.5.0",
            "_model_name": "HTMLModel",
            "_view_count": null,
            "_view_module": "@jupyter-widgets/controls",
            "_view_module_version": "1.5.0",
            "_view_name": "HTMLView",
            "description": "",
            "description_tooltip": null,
            "layout": "IPY_MODEL_e13c992fb9944c6ea599d2002e1610ad",
            "placeholder": "​",
            "style": "IPY_MODEL_945fc7b512a04a5c8384c325cc1dbe94",
            "value": " 1319/1319 [00:00&lt;00:00, 46949.84 examples/s]"
          }
        },
        "f820abda66f3408094e7c76d49f5af36": {
          "model_module": "@jupyter-widgets/base",
          "model_module_version": "1.2.0",
          "model_name": "LayoutModel",
          "state": {
            "_model_module": "@jupyter-widgets/base",
            "_model_module_version": "1.2.0",
            "_model_name": "LayoutModel",
            "_view_count": null,
            "_view_module": "@jupyter-widgets/base",
            "_view_module_version": "1.2.0",
            "_view_name": "LayoutView",
            "align_content": null,
            "align_items": null,
            "align_self": null,
            "border": null,
            "bottom": null,
            "display": null,
            "flex": null,
            "flex_flow": null,
            "grid_area": null,
            "grid_auto_columns": null,
            "grid_auto_flow": null,
            "grid_auto_rows": null,
            "grid_column": null,
            "grid_gap": null,
            "grid_row": null,
            "grid_template_areas": null,
            "grid_template_columns": null,
            "grid_template_rows": null,
            "height": null,
            "justify_content": null,
            "justify_items": null,
            "left": null,
            "margin": null,
            "max_height": null,
            "max_width": null,
            "min_height": null,
            "min_width": null,
            "object_fit": null,
            "object_position": null,
            "order": null,
            "overflow": null,
            "overflow_x": null,
            "overflow_y": null,
            "padding": null,
            "right": null,
            "top": null,
            "visibility": null,
            "width": null
          }
        },
        "f9bf4c0504294ba198f3a14fad39cde1": {
          "model_module": "@jupyter-widgets/controls",
          "model_module_version": "1.5.0",
          "model_name": "ProgressStyleModel",
          "state": {
            "_model_module": "@jupyter-widgets/controls",
            "_model_module_version": "1.5.0",
            "_model_name": "ProgressStyleModel",
            "_view_count": null,
            "_view_module": "@jupyter-widgets/base",
            "_view_module_version": "1.2.0",
            "_view_name": "StyleView",
            "bar_color": null,
            "description_width": ""
          }
        }
      }
    }
  },
  "nbformat": 4,
  "nbformat_minor": 0
}
