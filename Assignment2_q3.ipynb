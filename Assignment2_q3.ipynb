{
  "nbformat": 4,
  "nbformat_minor": 0,
  "metadata": {
    "colab": {
      "provenance": [],
      "gpuType": "T4",
      "include_colab_link": true
    },
    "kernelspec": {
      "name": "python3",
      "display_name": "Python 3"
    },
    "language_info": {
      "name": "python"
    },
    "widgets": {
      "application/vnd.jupyter.widget-state+json": {
        "a4da2b93fb964890bd8c60b5589be2b4": {
          "model_module": "@jupyter-widgets/controls",
          "model_name": "HBoxModel",
          "model_module_version": "1.5.0",
          "state": {
            "_dom_classes": [],
            "_model_module": "@jupyter-widgets/controls",
            "_model_module_version": "1.5.0",
            "_model_name": "HBoxModel",
            "_view_count": null,
            "_view_module": "@jupyter-widgets/controls",
            "_view_module_version": "1.5.0",
            "_view_name": "HBoxView",
            "box_style": "",
            "children": [
              "IPY_MODEL_e5e3d39313ef428fa19f9aa8a156a77b",
              "IPY_MODEL_eb68c89733bc469b886374c0b2095bb6",
              "IPY_MODEL_0d0e11b9d72443d2bf9def227ed2ea63"
            ],
            "layout": "IPY_MODEL_a2fa7fcda19f44729d1915e5cf218073"
          }
        },
        "e5e3d39313ef428fa19f9aa8a156a77b": {
          "model_module": "@jupyter-widgets/controls",
          "model_name": "HTMLModel",
          "model_module_version": "1.5.0",
          "state": {
            "_dom_classes": [],
            "_model_module": "@jupyter-widgets/controls",
            "_model_module_version": "1.5.0",
            "_model_name": "HTMLModel",
            "_view_count": null,
            "_view_module": "@jupyter-widgets/controls",
            "_view_module_version": "1.5.0",
            "_view_name": "HTMLView",
            "description": "",
            "description_tooltip": null,
            "layout": "IPY_MODEL_02c816c5001049d49205088e6038913d",
            "placeholder": "​",
            "style": "IPY_MODEL_54d57e78ff8b463199c60f153941ec76",
            "value": "Downloading readme: 100%"
          }
        },
        "eb68c89733bc469b886374c0b2095bb6": {
          "model_module": "@jupyter-widgets/controls",
          "model_name": "FloatProgressModel",
          "model_module_version": "1.5.0",
          "state": {
            "_dom_classes": [],
            "_model_module": "@jupyter-widgets/controls",
            "_model_module_version": "1.5.0",
            "_model_name": "FloatProgressModel",
            "_view_count": null,
            "_view_module": "@jupyter-widgets/controls",
            "_view_module_version": "1.5.0",
            "_view_name": "ProgressView",
            "bar_style": "success",
            "description": "",
            "description_tooltip": null,
            "layout": "IPY_MODEL_f4119fbb2ce0418db954e8c4a0f9cf98",
            "max": 7940,
            "min": 0,
            "orientation": "horizontal",
            "style": "IPY_MODEL_f9bf4c0504294ba198f3a14fad39cde1",
            "value": 7940
          }
        },
        "0d0e11b9d72443d2bf9def227ed2ea63": {
          "model_module": "@jupyter-widgets/controls",
          "model_name": "HTMLModel",
          "model_module_version": "1.5.0",
          "state": {
            "_dom_classes": [],
            "_model_module": "@jupyter-widgets/controls",
            "_model_module_version": "1.5.0",
            "_model_name": "HTMLModel",
            "_view_count": null,
            "_view_module": "@jupyter-widgets/controls",
            "_view_module_version": "1.5.0",
            "_view_name": "HTMLView",
            "description": "",
            "description_tooltip": null,
            "layout": "IPY_MODEL_1f0a5e9e57b2466295b7cb1c7a26b0fe",
            "placeholder": "​",
            "style": "IPY_MODEL_a824806e99f4452eb70c34d3c9b6e611",
            "value": " 7.94k/7.94k [00:00&lt;00:00, 532kB/s]"
          }
        },
        "a2fa7fcda19f44729d1915e5cf218073": {
          "model_module": "@jupyter-widgets/base",
          "model_name": "LayoutModel",
          "model_module_version": "1.2.0",
          "state": {
            "_model_module": "@jupyter-widgets/base",
            "_model_module_version": "1.2.0",
            "_model_name": "LayoutModel",
            "_view_count": null,
            "_view_module": "@jupyter-widgets/base",
            "_view_module_version": "1.2.0",
            "_view_name": "LayoutView",
            "align_content": null,
            "align_items": null,
            "align_self": null,
            "border": null,
            "bottom": null,
            "display": null,
            "flex": null,
            "flex_flow": null,
            "grid_area": null,
            "grid_auto_columns": null,
            "grid_auto_flow": null,
            "grid_auto_rows": null,
            "grid_column": null,
            "grid_gap": null,
            "grid_row": null,
            "grid_template_areas": null,
            "grid_template_columns": null,
            "grid_template_rows": null,
            "height": null,
            "justify_content": null,
            "justify_items": null,
            "left": null,
            "margin": null,
            "max_height": null,
            "max_width": null,
            "min_height": null,
            "min_width": null,
            "object_fit": null,
            "object_position": null,
            "order": null,
            "overflow": null,
            "overflow_x": null,
            "overflow_y": null,
            "padding": null,
            "right": null,
            "top": null,
            "visibility": null,
            "width": null
          }
        },
        "02c816c5001049d49205088e6038913d": {
          "model_module": "@jupyter-widgets/base",
          "model_name": "LayoutModel",
          "model_module_version": "1.2.0",
          "state": {
            "_model_module": "@jupyter-widgets/base",
            "_model_module_version": "1.2.0",
            "_model_name": "LayoutModel",
            "_view_count": null,
            "_view_module": "@jupyter-widgets/base",
            "_view_module_version": "1.2.0",
            "_view_name": "LayoutView",
            "align_content": null,
            "align_items": null,
            "align_self": null,
            "border": null,
            "bottom": null,
            "display": null,
            "flex": null,
            "flex_flow": null,
            "grid_area": null,
            "grid_auto_columns": null,
            "grid_auto_flow": null,
            "grid_auto_rows": null,
            "grid_column": null,
            "grid_gap": null,
            "grid_row": null,
            "grid_template_areas": null,
            "grid_template_columns": null,
            "grid_template_rows": null,
            "height": null,
            "justify_content": null,
            "justify_items": null,
            "left": null,
            "margin": null,
            "max_height": null,
            "max_width": null,
            "min_height": null,
            "min_width": null,
            "object_fit": null,
            "object_position": null,
            "order": null,
            "overflow": null,
            "overflow_x": null,
            "overflow_y": null,
            "padding": null,
            "right": null,
            "top": null,
            "visibility": null,
            "width": null
          }
        },
        "54d57e78ff8b463199c60f153941ec76": {
          "model_module": "@jupyter-widgets/controls",
          "model_name": "DescriptionStyleModel",
          "model_module_version": "1.5.0",
          "state": {
            "_model_module": "@jupyter-widgets/controls",
            "_model_module_version": "1.5.0",
            "_model_name": "DescriptionStyleModel",
            "_view_count": null,
            "_view_module": "@jupyter-widgets/base",
            "_view_module_version": "1.2.0",
            "_view_name": "StyleView",
            "description_width": ""
          }
        },
        "f4119fbb2ce0418db954e8c4a0f9cf98": {
          "model_module": "@jupyter-widgets/base",
          "model_name": "LayoutModel",
          "model_module_version": "1.2.0",
          "state": {
            "_model_module": "@jupyter-widgets/base",
            "_model_module_version": "1.2.0",
            "_model_name": "LayoutModel",
            "_view_count": null,
            "_view_module": "@jupyter-widgets/base",
            "_view_module_version": "1.2.0",
            "_view_name": "LayoutView",
            "align_content": null,
            "align_items": null,
            "align_self": null,
            "border": null,
            "bottom": null,
            "display": null,
            "flex": null,
            "flex_flow": null,
            "grid_area": null,
            "grid_auto_columns": null,
            "grid_auto_flow": null,
            "grid_auto_rows": null,
            "grid_column": null,
            "grid_gap": null,
            "grid_row": null,
            "grid_template_areas": null,
            "grid_template_columns": null,
            "grid_template_rows": null,
            "height": null,
            "justify_content": null,
            "justify_items": null,
            "left": null,
            "margin": null,
            "max_height": null,
            "max_width": null,
            "min_height": null,
            "min_width": null,
            "object_fit": null,
            "object_position": null,
            "order": null,
            "overflow": null,
            "overflow_x": null,
            "overflow_y": null,
            "padding": null,
            "right": null,
            "top": null,
            "visibility": null,
            "width": null
          }
        },
        "f9bf4c0504294ba198f3a14fad39cde1": {
          "model_module": "@jupyter-widgets/controls",
          "model_name": "ProgressStyleModel",
          "model_module_version": "1.5.0",
          "state": {
            "_model_module": "@jupyter-widgets/controls",
            "_model_module_version": "1.5.0",
            "_model_name": "ProgressStyleModel",
            "_view_count": null,
            "_view_module": "@jupyter-widgets/base",
            "_view_module_version": "1.2.0",
            "_view_name": "StyleView",
            "bar_color": null,
            "description_width": ""
          }
        },
        "1f0a5e9e57b2466295b7cb1c7a26b0fe": {
          "model_module": "@jupyter-widgets/base",
          "model_name": "LayoutModel",
          "model_module_version": "1.2.0",
          "state": {
            "_model_module": "@jupyter-widgets/base",
            "_model_module_version": "1.2.0",
            "_model_name": "LayoutModel",
            "_view_count": null,
            "_view_module": "@jupyter-widgets/base",
            "_view_module_version": "1.2.0",
            "_view_name": "LayoutView",
            "align_content": null,
            "align_items": null,
            "align_self": null,
            "border": null,
            "bottom": null,
            "display": null,
            "flex": null,
            "flex_flow": null,
            "grid_area": null,
            "grid_auto_columns": null,
            "grid_auto_flow": null,
            "grid_auto_rows": null,
            "grid_column": null,
            "grid_gap": null,
            "grid_row": null,
            "grid_template_areas": null,
            "grid_template_columns": null,
            "grid_template_rows": null,
            "height": null,
            "justify_content": null,
            "justify_items": null,
            "left": null,
            "margin": null,
            "max_height": null,
            "max_width": null,
            "min_height": null,
            "min_width": null,
            "object_fit": null,
            "object_position": null,
            "order": null,
            "overflow": null,
            "overflow_x": null,
            "overflow_y": null,
            "padding": null,
            "right": null,
            "top": null,
            "visibility": null,
            "width": null
          }
        },
        "a824806e99f4452eb70c34d3c9b6e611": {
          "model_module": "@jupyter-widgets/controls",
          "model_name": "DescriptionStyleModel",
          "model_module_version": "1.5.0",
          "state": {
            "_model_module": "@jupyter-widgets/controls",
            "_model_module_version": "1.5.0",
            "_model_name": "DescriptionStyleModel",
            "_view_count": null,
            "_view_module": "@jupyter-widgets/base",
            "_view_module_version": "1.2.0",
            "_view_name": "StyleView",
            "description_width": ""
          }
        },
        "742dc98251b64833895aedfb0a75dc57": {
          "model_module": "@jupyter-widgets/controls",
          "model_name": "HBoxModel",
          "model_module_version": "1.5.0",
          "state": {
            "_dom_classes": [],
            "_model_module": "@jupyter-widgets/controls",
            "_model_module_version": "1.5.0",
            "_model_name": "HBoxModel",
            "_view_count": null,
            "_view_module": "@jupyter-widgets/controls",
            "_view_module_version": "1.5.0",
            "_view_name": "HBoxView",
            "box_style": "",
            "children": [
              "IPY_MODEL_2288d8d0e58d438ea4e69a941469a20e",
              "IPY_MODEL_c2f26a48ceb847fe8a2c5b0033d79c95",
              "IPY_MODEL_772fc183e47746c4b588f0db80dfbf2f"
            ],
            "layout": "IPY_MODEL_d630ea51a26941a99e6600719f3d425f"
          }
        },
        "2288d8d0e58d438ea4e69a941469a20e": {
          "model_module": "@jupyter-widgets/controls",
          "model_name": "HTMLModel",
          "model_module_version": "1.5.0",
          "state": {
            "_dom_classes": [],
            "_model_module": "@jupyter-widgets/controls",
            "_model_module_version": "1.5.0",
            "_model_name": "HTMLModel",
            "_view_count": null,
            "_view_module": "@jupyter-widgets/controls",
            "_view_module_version": "1.5.0",
            "_view_name": "HTMLView",
            "description": "",
            "description_tooltip": null,
            "layout": "IPY_MODEL_ade627615fc745f6852649b91f06731d",
            "placeholder": "​",
            "style": "IPY_MODEL_6fe8e8e3e86f466a889320d0f081bcb0",
            "value": "Downloading data: 100%"
          }
        },
        "c2f26a48ceb847fe8a2c5b0033d79c95": {
          "model_module": "@jupyter-widgets/controls",
          "model_name": "FloatProgressModel",
          "model_module_version": "1.5.0",
          "state": {
            "_dom_classes": [],
            "_model_module": "@jupyter-widgets/controls",
            "_model_module_version": "1.5.0",
            "_model_name": "FloatProgressModel",
            "_view_count": null,
            "_view_module": "@jupyter-widgets/controls",
            "_view_module_version": "1.5.0",
            "_view_name": "ProgressView",
            "bar_style": "success",
            "description": "",
            "description_tooltip": null,
            "layout": "IPY_MODEL_126d1790bcea40478871169940597201",
            "max": 2306545,
            "min": 0,
            "orientation": "horizontal",
            "style": "IPY_MODEL_dc62eb5beabb41bba0f34f431125eb05",
            "value": 2306545
          }
        },
        "772fc183e47746c4b588f0db80dfbf2f": {
          "model_module": "@jupyter-widgets/controls",
          "model_name": "HTMLModel",
          "model_module_version": "1.5.0",
          "state": {
            "_dom_classes": [],
            "_model_module": "@jupyter-widgets/controls",
            "_model_module_version": "1.5.0",
            "_model_name": "HTMLModel",
            "_view_count": null,
            "_view_module": "@jupyter-widgets/controls",
            "_view_module_version": "1.5.0",
            "_view_name": "HTMLView",
            "description": "",
            "description_tooltip": null,
            "layout": "IPY_MODEL_2c4c1c69632547e58cdb679a56ea2ef2",
            "placeholder": "​",
            "style": "IPY_MODEL_c0b2ae5d6a9f4a43b64039f2476ec9ca",
            "value": " 2.31M/2.31M [00:00&lt;00:00, 5.37MB/s]"
          }
        },
        "d630ea51a26941a99e6600719f3d425f": {
          "model_module": "@jupyter-widgets/base",
          "model_name": "LayoutModel",
          "model_module_version": "1.2.0",
          "state": {
            "_model_module": "@jupyter-widgets/base",
            "_model_module_version": "1.2.0",
            "_model_name": "LayoutModel",
            "_view_count": null,
            "_view_module": "@jupyter-widgets/base",
            "_view_module_version": "1.2.0",
            "_view_name": "LayoutView",
            "align_content": null,
            "align_items": null,
            "align_self": null,
            "border": null,
            "bottom": null,
            "display": null,
            "flex": null,
            "flex_flow": null,
            "grid_area": null,
            "grid_auto_columns": null,
            "grid_auto_flow": null,
            "grid_auto_rows": null,
            "grid_column": null,
            "grid_gap": null,
            "grid_row": null,
            "grid_template_areas": null,
            "grid_template_columns": null,
            "grid_template_rows": null,
            "height": null,
            "justify_content": null,
            "justify_items": null,
            "left": null,
            "margin": null,
            "max_height": null,
            "max_width": null,
            "min_height": null,
            "min_width": null,
            "object_fit": null,
            "object_position": null,
            "order": null,
            "overflow": null,
            "overflow_x": null,
            "overflow_y": null,
            "padding": null,
            "right": null,
            "top": null,
            "visibility": null,
            "width": null
          }
        },
        "ade627615fc745f6852649b91f06731d": {
          "model_module": "@jupyter-widgets/base",
          "model_name": "LayoutModel",
          "model_module_version": "1.2.0",
          "state": {
            "_model_module": "@jupyter-widgets/base",
            "_model_module_version": "1.2.0",
            "_model_name": "LayoutModel",
            "_view_count": null,
            "_view_module": "@jupyter-widgets/base",
            "_view_module_version": "1.2.0",
            "_view_name": "LayoutView",
            "align_content": null,
            "align_items": null,
            "align_self": null,
            "border": null,
            "bottom": null,
            "display": null,
            "flex": null,
            "flex_flow": null,
            "grid_area": null,
            "grid_auto_columns": null,
            "grid_auto_flow": null,
            "grid_auto_rows": null,
            "grid_column": null,
            "grid_gap": null,
            "grid_row": null,
            "grid_template_areas": null,
            "grid_template_columns": null,
            "grid_template_rows": null,
            "height": null,
            "justify_content": null,
            "justify_items": null,
            "left": null,
            "margin": null,
            "max_height": null,
            "max_width": null,
            "min_height": null,
            "min_width": null,
            "object_fit": null,
            "object_position": null,
            "order": null,
            "overflow": null,
            "overflow_x": null,
            "overflow_y": null,
            "padding": null,
            "right": null,
            "top": null,
            "visibility": null,
            "width": null
          }
        },
        "6fe8e8e3e86f466a889320d0f081bcb0": {
          "model_module": "@jupyter-widgets/controls",
          "model_name": "DescriptionStyleModel",
          "model_module_version": "1.5.0",
          "state": {
            "_model_module": "@jupyter-widgets/controls",
            "_model_module_version": "1.5.0",
            "_model_name": "DescriptionStyleModel",
            "_view_count": null,
            "_view_module": "@jupyter-widgets/base",
            "_view_module_version": "1.2.0",
            "_view_name": "StyleView",
            "description_width": ""
          }
        },
        "126d1790bcea40478871169940597201": {
          "model_module": "@jupyter-widgets/base",
          "model_name": "LayoutModel",
          "model_module_version": "1.2.0",
          "state": {
            "_model_module": "@jupyter-widgets/base",
            "_model_module_version": "1.2.0",
            "_model_name": "LayoutModel",
            "_view_count": null,
            "_view_module": "@jupyter-widgets/base",
            "_view_module_version": "1.2.0",
            "_view_name": "LayoutView",
            "align_content": null,
            "align_items": null,
            "align_self": null,
            "border": null,
            "bottom": null,
            "display": null,
            "flex": null,
            "flex_flow": null,
            "grid_area": null,
            "grid_auto_columns": null,
            "grid_auto_flow": null,
            "grid_auto_rows": null,
            "grid_column": null,
            "grid_gap": null,
            "grid_row": null,
            "grid_template_areas": null,
            "grid_template_columns": null,
            "grid_template_rows": null,
            "height": null,
            "justify_content": null,
            "justify_items": null,
            "left": null,
            "margin": null,
            "max_height": null,
            "max_width": null,
            "min_height": null,
            "min_width": null,
            "object_fit": null,
            "object_position": null,
            "order": null,
            "overflow": null,
            "overflow_x": null,
            "overflow_y": null,
            "padding": null,
            "right": null,
            "top": null,
            "visibility": null,
            "width": null
          }
        },
        "dc62eb5beabb41bba0f34f431125eb05": {
          "model_module": "@jupyter-widgets/controls",
          "model_name": "ProgressStyleModel",
          "model_module_version": "1.5.0",
          "state": {
            "_model_module": "@jupyter-widgets/controls",
            "_model_module_version": "1.5.0",
            "_model_name": "ProgressStyleModel",
            "_view_count": null,
            "_view_module": "@jupyter-widgets/base",
            "_view_module_version": "1.2.0",
            "_view_name": "StyleView",
            "bar_color": null,
            "description_width": ""
          }
        },
        "2c4c1c69632547e58cdb679a56ea2ef2": {
          "model_module": "@jupyter-widgets/base",
          "model_name": "LayoutModel",
          "model_module_version": "1.2.0",
          "state": {
            "_model_module": "@jupyter-widgets/base",
            "_model_module_version": "1.2.0",
            "_model_name": "LayoutModel",
            "_view_count": null,
            "_view_module": "@jupyter-widgets/base",
            "_view_module_version": "1.2.0",
            "_view_name": "LayoutView",
            "align_content": null,
            "align_items": null,
            "align_self": null,
            "border": null,
            "bottom": null,
            "display": null,
            "flex": null,
            "flex_flow": null,
            "grid_area": null,
            "grid_auto_columns": null,
            "grid_auto_flow": null,
            "grid_auto_rows": null,
            "grid_column": null,
            "grid_gap": null,
            "grid_row": null,
            "grid_template_areas": null,
            "grid_template_columns": null,
            "grid_template_rows": null,
            "height": null,
            "justify_content": null,
            "justify_items": null,
            "left": null,
            "margin": null,
            "max_height": null,
            "max_width": null,
            "min_height": null,
            "min_width": null,
            "object_fit": null,
            "object_position": null,
            "order": null,
            "overflow": null,
            "overflow_x": null,
            "overflow_y": null,
            "padding": null,
            "right": null,
            "top": null,
            "visibility": null,
            "width": null
          }
        },
        "c0b2ae5d6a9f4a43b64039f2476ec9ca": {
          "model_module": "@jupyter-widgets/controls",
          "model_name": "DescriptionStyleModel",
          "model_module_version": "1.5.0",
          "state": {
            "_model_module": "@jupyter-widgets/controls",
            "_model_module_version": "1.5.0",
            "_model_name": "DescriptionStyleModel",
            "_view_count": null,
            "_view_module": "@jupyter-widgets/base",
            "_view_module_version": "1.2.0",
            "_view_name": "StyleView",
            "description_width": ""
          }
        },
        "572a5aa78add43448dabd41c632bdb9d": {
          "model_module": "@jupyter-widgets/controls",
          "model_name": "HBoxModel",
          "model_module_version": "1.5.0",
          "state": {
            "_dom_classes": [],
            "_model_module": "@jupyter-widgets/controls",
            "_model_module_version": "1.5.0",
            "_model_name": "HBoxModel",
            "_view_count": null,
            "_view_module": "@jupyter-widgets/controls",
            "_view_module_version": "1.5.0",
            "_view_name": "HBoxView",
            "box_style": "",
            "children": [
              "IPY_MODEL_7f06e4940c5848c9abca165ebad783b1",
              "IPY_MODEL_a3f0b5b8b00448a68dd6a3082ad3853f",
              "IPY_MODEL_78ef66e03f114444b41996516e1ed965"
            ],
            "layout": "IPY_MODEL_634565d5d7ad42d1aeef4312adcd3cf0"
          }
        },
        "7f06e4940c5848c9abca165ebad783b1": {
          "model_module": "@jupyter-widgets/controls",
          "model_name": "HTMLModel",
          "model_module_version": "1.5.0",
          "state": {
            "_dom_classes": [],
            "_model_module": "@jupyter-widgets/controls",
            "_model_module_version": "1.5.0",
            "_model_name": "HTMLModel",
            "_view_count": null,
            "_view_module": "@jupyter-widgets/controls",
            "_view_module_version": "1.5.0",
            "_view_name": "HTMLView",
            "description": "",
            "description_tooltip": null,
            "layout": "IPY_MODEL_f820abda66f3408094e7c76d49f5af36",
            "placeholder": "​",
            "style": "IPY_MODEL_f495c8b95c1b4c2e966917fb73891916",
            "value": "Downloading data: 100%"
          }
        },
        "a3f0b5b8b00448a68dd6a3082ad3853f": {
          "model_module": "@jupyter-widgets/controls",
          "model_name": "FloatProgressModel",
          "model_module_version": "1.5.0",
          "state": {
            "_dom_classes": [],
            "_model_module": "@jupyter-widgets/controls",
            "_model_module_version": "1.5.0",
            "_model_name": "FloatProgressModel",
            "_view_count": null,
            "_view_module": "@jupyter-widgets/controls",
            "_view_module_version": "1.5.0",
            "_view_name": "ProgressView",
            "bar_style": "success",
            "description": "",
            "description_tooltip": null,
            "layout": "IPY_MODEL_0e038056823240b9835e3d8bdec7ea1d",
            "max": 419088,
            "min": 0,
            "orientation": "horizontal",
            "style": "IPY_MODEL_9e52cb5138534c9195bcc3e5b3a44b76",
            "value": 419088
          }
        },
        "78ef66e03f114444b41996516e1ed965": {
          "model_module": "@jupyter-widgets/controls",
          "model_name": "HTMLModel",
          "model_module_version": "1.5.0",
          "state": {
            "_dom_classes": [],
            "_model_module": "@jupyter-widgets/controls",
            "_model_module_version": "1.5.0",
            "_model_name": "HTMLModel",
            "_view_count": null,
            "_view_module": "@jupyter-widgets/controls",
            "_view_module_version": "1.5.0",
            "_view_name": "HTMLView",
            "description": "",
            "description_tooltip": null,
            "layout": "IPY_MODEL_200486cf53214f7ea528a5e8718da8a3",
            "placeholder": "​",
            "style": "IPY_MODEL_d14e849a162441d4b617b6cfea8f22fb",
            "value": " 419k/419k [00:00&lt;00:00, 3.42MB/s]"
          }
        },
        "634565d5d7ad42d1aeef4312adcd3cf0": {
          "model_module": "@jupyter-widgets/base",
          "model_name": "LayoutModel",
          "model_module_version": "1.2.0",
          "state": {
            "_model_module": "@jupyter-widgets/base",
            "_model_module_version": "1.2.0",
            "_model_name": "LayoutModel",
            "_view_count": null,
            "_view_module": "@jupyter-widgets/base",
            "_view_module_version": "1.2.0",
            "_view_name": "LayoutView",
            "align_content": null,
            "align_items": null,
            "align_self": null,
            "border": null,
            "bottom": null,
            "display": null,
            "flex": null,
            "flex_flow": null,
            "grid_area": null,
            "grid_auto_columns": null,
            "grid_auto_flow": null,
            "grid_auto_rows": null,
            "grid_column": null,
            "grid_gap": null,
            "grid_row": null,
            "grid_template_areas": null,
            "grid_template_columns": null,
            "grid_template_rows": null,
            "height": null,
            "justify_content": null,
            "justify_items": null,
            "left": null,
            "margin": null,
            "max_height": null,
            "max_width": null,
            "min_height": null,
            "min_width": null,
            "object_fit": null,
            "object_position": null,
            "order": null,
            "overflow": null,
            "overflow_x": null,
            "overflow_y": null,
            "padding": null,
            "right": null,
            "top": null,
            "visibility": null,
            "width": null
          }
        },
        "f820abda66f3408094e7c76d49f5af36": {
          "model_module": "@jupyter-widgets/base",
          "model_name": "LayoutModel",
          "model_module_version": "1.2.0",
          "state": {
            "_model_module": "@jupyter-widgets/base",
            "_model_module_version": "1.2.0",
            "_model_name": "LayoutModel",
            "_view_count": null,
            "_view_module": "@jupyter-widgets/base",
            "_view_module_version": "1.2.0",
            "_view_name": "LayoutView",
            "align_content": null,
            "align_items": null,
            "align_self": null,
            "border": null,
            "bottom": null,
            "display": null,
            "flex": null,
            "flex_flow": null,
            "grid_area": null,
            "grid_auto_columns": null,
            "grid_auto_flow": null,
            "grid_auto_rows": null,
            "grid_column": null,
            "grid_gap": null,
            "grid_row": null,
            "grid_template_areas": null,
            "grid_template_columns": null,
            "grid_template_rows": null,
            "height": null,
            "justify_content": null,
            "justify_items": null,
            "left": null,
            "margin": null,
            "max_height": null,
            "max_width": null,
            "min_height": null,
            "min_width": null,
            "object_fit": null,
            "object_position": null,
            "order": null,
            "overflow": null,
            "overflow_x": null,
            "overflow_y": null,
            "padding": null,
            "right": null,
            "top": null,
            "visibility": null,
            "width": null
          }
        },
        "f495c8b95c1b4c2e966917fb73891916": {
          "model_module": "@jupyter-widgets/controls",
          "model_name": "DescriptionStyleModel",
          "model_module_version": "1.5.0",
          "state": {
            "_model_module": "@jupyter-widgets/controls",
            "_model_module_version": "1.5.0",
            "_model_name": "DescriptionStyleModel",
            "_view_count": null,
            "_view_module": "@jupyter-widgets/base",
            "_view_module_version": "1.2.0",
            "_view_name": "StyleView",
            "description_width": ""
          }
        },
        "0e038056823240b9835e3d8bdec7ea1d": {
          "model_module": "@jupyter-widgets/base",
          "model_name": "LayoutModel",
          "model_module_version": "1.2.0",
          "state": {
            "_model_module": "@jupyter-widgets/base",
            "_model_module_version": "1.2.0",
            "_model_name": "LayoutModel",
            "_view_count": null,
            "_view_module": "@jupyter-widgets/base",
            "_view_module_version": "1.2.0",
            "_view_name": "LayoutView",
            "align_content": null,
            "align_items": null,
            "align_self": null,
            "border": null,
            "bottom": null,
            "display": null,
            "flex": null,
            "flex_flow": null,
            "grid_area": null,
            "grid_auto_columns": null,
            "grid_auto_flow": null,
            "grid_auto_rows": null,
            "grid_column": null,
            "grid_gap": null,
            "grid_row": null,
            "grid_template_areas": null,
            "grid_template_columns": null,
            "grid_template_rows": null,
            "height": null,
            "justify_content": null,
            "justify_items": null,
            "left": null,
            "margin": null,
            "max_height": null,
            "max_width": null,
            "min_height": null,
            "min_width": null,
            "object_fit": null,
            "object_position": null,
            "order": null,
            "overflow": null,
            "overflow_x": null,
            "overflow_y": null,
            "padding": null,
            "right": null,
            "top": null,
            "visibility": null,
            "width": null
          }
        },
        "9e52cb5138534c9195bcc3e5b3a44b76": {
          "model_module": "@jupyter-widgets/controls",
          "model_name": "ProgressStyleModel",
          "model_module_version": "1.5.0",
          "state": {
            "_model_module": "@jupyter-widgets/controls",
            "_model_module_version": "1.5.0",
            "_model_name": "ProgressStyleModel",
            "_view_count": null,
            "_view_module": "@jupyter-widgets/base",
            "_view_module_version": "1.2.0",
            "_view_name": "StyleView",
            "bar_color": null,
            "description_width": ""
          }
        },
        "200486cf53214f7ea528a5e8718da8a3": {
          "model_module": "@jupyter-widgets/base",
          "model_name": "LayoutModel",
          "model_module_version": "1.2.0",
          "state": {
            "_model_module": "@jupyter-widgets/base",
            "_model_module_version": "1.2.0",
            "_model_name": "LayoutModel",
            "_view_count": null,
            "_view_module": "@jupyter-widgets/base",
            "_view_module_version": "1.2.0",
            "_view_name": "LayoutView",
            "align_content": null,
            "align_items": null,
            "align_self": null,
            "border": null,
            "bottom": null,
            "display": null,
            "flex": null,
            "flex_flow": null,
            "grid_area": null,
            "grid_auto_columns": null,
            "grid_auto_flow": null,
            "grid_auto_rows": null,
            "grid_column": null,
            "grid_gap": null,
            "grid_row": null,
            "grid_template_areas": null,
            "grid_template_columns": null,
            "grid_template_rows": null,
            "height": null,
            "justify_content": null,
            "justify_items": null,
            "left": null,
            "margin": null,
            "max_height": null,
            "max_width": null,
            "min_height": null,
            "min_width": null,
            "object_fit": null,
            "object_position": null,
            "order": null,
            "overflow": null,
            "overflow_x": null,
            "overflow_y": null,
            "padding": null,
            "right": null,
            "top": null,
            "visibility": null,
            "width": null
          }
        },
        "d14e849a162441d4b617b6cfea8f22fb": {
          "model_module": "@jupyter-widgets/controls",
          "model_name": "DescriptionStyleModel",
          "model_module_version": "1.5.0",
          "state": {
            "_model_module": "@jupyter-widgets/controls",
            "_model_module_version": "1.5.0",
            "_model_name": "DescriptionStyleModel",
            "_view_count": null,
            "_view_module": "@jupyter-widgets/base",
            "_view_module_version": "1.2.0",
            "_view_name": "StyleView",
            "description_width": ""
          }
        },
        "56ad38b691014c899b1227d6563be570": {
          "model_module": "@jupyter-widgets/controls",
          "model_name": "HBoxModel",
          "model_module_version": "1.5.0",
          "state": {
            "_dom_classes": [],
            "_model_module": "@jupyter-widgets/controls",
            "_model_module_version": "1.5.0",
            "_model_name": "HBoxModel",
            "_view_count": null,
            "_view_module": "@jupyter-widgets/controls",
            "_view_module_version": "1.5.0",
            "_view_name": "HBoxView",
            "box_style": "",
            "children": [
              "IPY_MODEL_bc2f3c24d0da489ca8652ecac12ab2b7",
              "IPY_MODEL_6ae4fda98c6b41fa9f73c3d223f32b3c",
              "IPY_MODEL_93b41ab10b1749daaab08d569ae37832"
            ],
            "layout": "IPY_MODEL_0248df9db9534a7a98d49e11fcb24ce0"
          }
        },
        "bc2f3c24d0da489ca8652ecac12ab2b7": {
          "model_module": "@jupyter-widgets/controls",
          "model_name": "HTMLModel",
          "model_module_version": "1.5.0",
          "state": {
            "_dom_classes": [],
            "_model_module": "@jupyter-widgets/controls",
            "_model_module_version": "1.5.0",
            "_model_name": "HTMLModel",
            "_view_count": null,
            "_view_module": "@jupyter-widgets/controls",
            "_view_module_version": "1.5.0",
            "_view_name": "HTMLView",
            "description": "",
            "description_tooltip": null,
            "layout": "IPY_MODEL_c1dea8db8b2e4b38ab0af8a8f8a98653",
            "placeholder": "​",
            "style": "IPY_MODEL_f345ad3e23564e91a5dbf3b048cb13d5",
            "value": "Generating train split: 100%"
          }
        },
        "6ae4fda98c6b41fa9f73c3d223f32b3c": {
          "model_module": "@jupyter-widgets/controls",
          "model_name": "FloatProgressModel",
          "model_module_version": "1.5.0",
          "state": {
            "_dom_classes": [],
            "_model_module": "@jupyter-widgets/controls",
            "_model_module_version": "1.5.0",
            "_model_name": "FloatProgressModel",
            "_view_count": null,
            "_view_module": "@jupyter-widgets/controls",
            "_view_module_version": "1.5.0",
            "_view_name": "ProgressView",
            "bar_style": "success",
            "description": "",
            "description_tooltip": null,
            "layout": "IPY_MODEL_aa0edf7a372b475bbb2302f0b6571b75",
            "max": 7473,
            "min": 0,
            "orientation": "horizontal",
            "style": "IPY_MODEL_181fdf8a346a490aa6eabbdb0907ef58",
            "value": 7473
          }
        },
        "93b41ab10b1749daaab08d569ae37832": {
          "model_module": "@jupyter-widgets/controls",
          "model_name": "HTMLModel",
          "model_module_version": "1.5.0",
          "state": {
            "_dom_classes": [],
            "_model_module": "@jupyter-widgets/controls",
            "_model_module_version": "1.5.0",
            "_model_name": "HTMLModel",
            "_view_count": null,
            "_view_module": "@jupyter-widgets/controls",
            "_view_module_version": "1.5.0",
            "_view_name": "HTMLView",
            "description": "",
            "description_tooltip": null,
            "layout": "IPY_MODEL_f01676a335c04e47a589b15276d24912",
            "placeholder": "​",
            "style": "IPY_MODEL_ba9555f939c84ebdbfe46b2ce2e503b5",
            "value": " 7473/7473 [00:00&lt;00:00, 101075.55 examples/s]"
          }
        },
        "0248df9db9534a7a98d49e11fcb24ce0": {
          "model_module": "@jupyter-widgets/base",
          "model_name": "LayoutModel",
          "model_module_version": "1.2.0",
          "state": {
            "_model_module": "@jupyter-widgets/base",
            "_model_module_version": "1.2.0",
            "_model_name": "LayoutModel",
            "_view_count": null,
            "_view_module": "@jupyter-widgets/base",
            "_view_module_version": "1.2.0",
            "_view_name": "LayoutView",
            "align_content": null,
            "align_items": null,
            "align_self": null,
            "border": null,
            "bottom": null,
            "display": null,
            "flex": null,
            "flex_flow": null,
            "grid_area": null,
            "grid_auto_columns": null,
            "grid_auto_flow": null,
            "grid_auto_rows": null,
            "grid_column": null,
            "grid_gap": null,
            "grid_row": null,
            "grid_template_areas": null,
            "grid_template_columns": null,
            "grid_template_rows": null,
            "height": null,
            "justify_content": null,
            "justify_items": null,
            "left": null,
            "margin": null,
            "max_height": null,
            "max_width": null,
            "min_height": null,
            "min_width": null,
            "object_fit": null,
            "object_position": null,
            "order": null,
            "overflow": null,
            "overflow_x": null,
            "overflow_y": null,
            "padding": null,
            "right": null,
            "top": null,
            "visibility": null,
            "width": null
          }
        },
        "c1dea8db8b2e4b38ab0af8a8f8a98653": {
          "model_module": "@jupyter-widgets/base",
          "model_name": "LayoutModel",
          "model_module_version": "1.2.0",
          "state": {
            "_model_module": "@jupyter-widgets/base",
            "_model_module_version": "1.2.0",
            "_model_name": "LayoutModel",
            "_view_count": null,
            "_view_module": "@jupyter-widgets/base",
            "_view_module_version": "1.2.0",
            "_view_name": "LayoutView",
            "align_content": null,
            "align_items": null,
            "align_self": null,
            "border": null,
            "bottom": null,
            "display": null,
            "flex": null,
            "flex_flow": null,
            "grid_area": null,
            "grid_auto_columns": null,
            "grid_auto_flow": null,
            "grid_auto_rows": null,
            "grid_column": null,
            "grid_gap": null,
            "grid_row": null,
            "grid_template_areas": null,
            "grid_template_columns": null,
            "grid_template_rows": null,
            "height": null,
            "justify_content": null,
            "justify_items": null,
            "left": null,
            "margin": null,
            "max_height": null,
            "max_width": null,
            "min_height": null,
            "min_width": null,
            "object_fit": null,
            "object_position": null,
            "order": null,
            "overflow": null,
            "overflow_x": null,
            "overflow_y": null,
            "padding": null,
            "right": null,
            "top": null,
            "visibility": null,
            "width": null
          }
        },
        "f345ad3e23564e91a5dbf3b048cb13d5": {
          "model_module": "@jupyter-widgets/controls",
          "model_name": "DescriptionStyleModel",
          "model_module_version": "1.5.0",
          "state": {
            "_model_module": "@jupyter-widgets/controls",
            "_model_module_version": "1.5.0",
            "_model_name": "DescriptionStyleModel",
            "_view_count": null,
            "_view_module": "@jupyter-widgets/base",
            "_view_module_version": "1.2.0",
            "_view_name": "StyleView",
            "description_width": ""
          }
        },
        "aa0edf7a372b475bbb2302f0b6571b75": {
          "model_module": "@jupyter-widgets/base",
          "model_name": "LayoutModel",
          "model_module_version": "1.2.0",
          "state": {
            "_model_module": "@jupyter-widgets/base",
            "_model_module_version": "1.2.0",
            "_model_name": "LayoutModel",
            "_view_count": null,
            "_view_module": "@jupyter-widgets/base",
            "_view_module_version": "1.2.0",
            "_view_name": "LayoutView",
            "align_content": null,
            "align_items": null,
            "align_self": null,
            "border": null,
            "bottom": null,
            "display": null,
            "flex": null,
            "flex_flow": null,
            "grid_area": null,
            "grid_auto_columns": null,
            "grid_auto_flow": null,
            "grid_auto_rows": null,
            "grid_column": null,
            "grid_gap": null,
            "grid_row": null,
            "grid_template_areas": null,
            "grid_template_columns": null,
            "grid_template_rows": null,
            "height": null,
            "justify_content": null,
            "justify_items": null,
            "left": null,
            "margin": null,
            "max_height": null,
            "max_width": null,
            "min_height": null,
            "min_width": null,
            "object_fit": null,
            "object_position": null,
            "order": null,
            "overflow": null,
            "overflow_x": null,
            "overflow_y": null,
            "padding": null,
            "right": null,
            "top": null,
            "visibility": null,
            "width": null
          }
        },
        "181fdf8a346a490aa6eabbdb0907ef58": {
          "model_module": "@jupyter-widgets/controls",
          "model_name": "ProgressStyleModel",
          "model_module_version": "1.5.0",
          "state": {
            "_model_module": "@jupyter-widgets/controls",
            "_model_module_version": "1.5.0",
            "_model_name": "ProgressStyleModel",
            "_view_count": null,
            "_view_module": "@jupyter-widgets/base",
            "_view_module_version": "1.2.0",
            "_view_name": "StyleView",
            "bar_color": null,
            "description_width": ""
          }
        },
        "f01676a335c04e47a589b15276d24912": {
          "model_module": "@jupyter-widgets/base",
          "model_name": "LayoutModel",
          "model_module_version": "1.2.0",
          "state": {
            "_model_module": "@jupyter-widgets/base",
            "_model_module_version": "1.2.0",
            "_model_name": "LayoutModel",
            "_view_count": null,
            "_view_module": "@jupyter-widgets/base",
            "_view_module_version": "1.2.0",
            "_view_name": "LayoutView",
            "align_content": null,
            "align_items": null,
            "align_self": null,
            "border": null,
            "bottom": null,
            "display": null,
            "flex": null,
            "flex_flow": null,
            "grid_area": null,
            "grid_auto_columns": null,
            "grid_auto_flow": null,
            "grid_auto_rows": null,
            "grid_column": null,
            "grid_gap": null,
            "grid_row": null,
            "grid_template_areas": null,
            "grid_template_columns": null,
            "grid_template_rows": null,
            "height": null,
            "justify_content": null,
            "justify_items": null,
            "left": null,
            "margin": null,
            "max_height": null,
            "max_width": null,
            "min_height": null,
            "min_width": null,
            "object_fit": null,
            "object_position": null,
            "order": null,
            "overflow": null,
            "overflow_x": null,
            "overflow_y": null,
            "padding": null,
            "right": null,
            "top": null,
            "visibility": null,
            "width": null
          }
        },
        "ba9555f939c84ebdbfe46b2ce2e503b5": {
          "model_module": "@jupyter-widgets/controls",
          "model_name": "DescriptionStyleModel",
          "model_module_version": "1.5.0",
          "state": {
            "_model_module": "@jupyter-widgets/controls",
            "_model_module_version": "1.5.0",
            "_model_name": "DescriptionStyleModel",
            "_view_count": null,
            "_view_module": "@jupyter-widgets/base",
            "_view_module_version": "1.2.0",
            "_view_name": "StyleView",
            "description_width": ""
          }
        },
        "2c6be99ad92e41deba2545c41a5346c1": {
          "model_module": "@jupyter-widgets/controls",
          "model_name": "HBoxModel",
          "model_module_version": "1.5.0",
          "state": {
            "_dom_classes": [],
            "_model_module": "@jupyter-widgets/controls",
            "_model_module_version": "1.5.0",
            "_model_name": "HBoxModel",
            "_view_count": null,
            "_view_module": "@jupyter-widgets/controls",
            "_view_module_version": "1.5.0",
            "_view_name": "HBoxView",
            "box_style": "",
            "children": [
              "IPY_MODEL_62b9245851b141f79a66281ac9da797b",
              "IPY_MODEL_e2ff941fab2f4e369b2977c87636fbc1",
              "IPY_MODEL_f712424d53004d8b9af4f0b839bab24e"
            ],
            "layout": "IPY_MODEL_29eaa09b31e34fa19f90f1c578a7cd47"
          }
        },
        "62b9245851b141f79a66281ac9da797b": {
          "model_module": "@jupyter-widgets/controls",
          "model_name": "HTMLModel",
          "model_module_version": "1.5.0",
          "state": {
            "_dom_classes": [],
            "_model_module": "@jupyter-widgets/controls",
            "_model_module_version": "1.5.0",
            "_model_name": "HTMLModel",
            "_view_count": null,
            "_view_module": "@jupyter-widgets/controls",
            "_view_module_version": "1.5.0",
            "_view_name": "HTMLView",
            "description": "",
            "description_tooltip": null,
            "layout": "IPY_MODEL_9422686d4ea340d2b68731e077785348",
            "placeholder": "​",
            "style": "IPY_MODEL_028bb0fbfdc140dc87d103a438be30d8",
            "value": "Generating test split: 100%"
          }
        },
        "e2ff941fab2f4e369b2977c87636fbc1": {
          "model_module": "@jupyter-widgets/controls",
          "model_name": "FloatProgressModel",
          "model_module_version": "1.5.0",
          "state": {
            "_dom_classes": [],
            "_model_module": "@jupyter-widgets/controls",
            "_model_module_version": "1.5.0",
            "_model_name": "FloatProgressModel",
            "_view_count": null,
            "_view_module": "@jupyter-widgets/controls",
            "_view_module_version": "1.5.0",
            "_view_name": "ProgressView",
            "bar_style": "success",
            "description": "",
            "description_tooltip": null,
            "layout": "IPY_MODEL_e20b6f66359d46218a6e7b9c41c0f4e9",
            "max": 1319,
            "min": 0,
            "orientation": "horizontal",
            "style": "IPY_MODEL_4a259eec653f48288266799298319b9a",
            "value": 1319
          }
        },
        "f712424d53004d8b9af4f0b839bab24e": {
          "model_module": "@jupyter-widgets/controls",
          "model_name": "HTMLModel",
          "model_module_version": "1.5.0",
          "state": {
            "_dom_classes": [],
            "_model_module": "@jupyter-widgets/controls",
            "_model_module_version": "1.5.0",
            "_model_name": "HTMLModel",
            "_view_count": null,
            "_view_module": "@jupyter-widgets/controls",
            "_view_module_version": "1.5.0",
            "_view_name": "HTMLView",
            "description": "",
            "description_tooltip": null,
            "layout": "IPY_MODEL_e13c992fb9944c6ea599d2002e1610ad",
            "placeholder": "​",
            "style": "IPY_MODEL_945fc7b512a04a5c8384c325cc1dbe94",
            "value": " 1319/1319 [00:00&lt;00:00, 46949.84 examples/s]"
          }
        },
        "29eaa09b31e34fa19f90f1c578a7cd47": {
          "model_module": "@jupyter-widgets/base",
          "model_name": "LayoutModel",
          "model_module_version": "1.2.0",
          "state": {
            "_model_module": "@jupyter-widgets/base",
            "_model_module_version": "1.2.0",
            "_model_name": "LayoutModel",
            "_view_count": null,
            "_view_module": "@jupyter-widgets/base",
            "_view_module_version": "1.2.0",
            "_view_name": "LayoutView",
            "align_content": null,
            "align_items": null,
            "align_self": null,
            "border": null,
            "bottom": null,
            "display": null,
            "flex": null,
            "flex_flow": null,
            "grid_area": null,
            "grid_auto_columns": null,
            "grid_auto_flow": null,
            "grid_auto_rows": null,
            "grid_column": null,
            "grid_gap": null,
            "grid_row": null,
            "grid_template_areas": null,
            "grid_template_columns": null,
            "grid_template_rows": null,
            "height": null,
            "justify_content": null,
            "justify_items": null,
            "left": null,
            "margin": null,
            "max_height": null,
            "max_width": null,
            "min_height": null,
            "min_width": null,
            "object_fit": null,
            "object_position": null,
            "order": null,
            "overflow": null,
            "overflow_x": null,
            "overflow_y": null,
            "padding": null,
            "right": null,
            "top": null,
            "visibility": null,
            "width": null
          }
        },
        "9422686d4ea340d2b68731e077785348": {
          "model_module": "@jupyter-widgets/base",
          "model_name": "LayoutModel",
          "model_module_version": "1.2.0",
          "state": {
            "_model_module": "@jupyter-widgets/base",
            "_model_module_version": "1.2.0",
            "_model_name": "LayoutModel",
            "_view_count": null,
            "_view_module": "@jupyter-widgets/base",
            "_view_module_version": "1.2.0",
            "_view_name": "LayoutView",
            "align_content": null,
            "align_items": null,
            "align_self": null,
            "border": null,
            "bottom": null,
            "display": null,
            "flex": null,
            "flex_flow": null,
            "grid_area": null,
            "grid_auto_columns": null,
            "grid_auto_flow": null,
            "grid_auto_rows": null,
            "grid_column": null,
            "grid_gap": null,
            "grid_row": null,
            "grid_template_areas": null,
            "grid_template_columns": null,
            "grid_template_rows": null,
            "height": null,
            "justify_content": null,
            "justify_items": null,
            "left": null,
            "margin": null,
            "max_height": null,
            "max_width": null,
            "min_height": null,
            "min_width": null,
            "object_fit": null,
            "object_position": null,
            "order": null,
            "overflow": null,
            "overflow_x": null,
            "overflow_y": null,
            "padding": null,
            "right": null,
            "top": null,
            "visibility": null,
            "width": null
          }
        },
        "028bb0fbfdc140dc87d103a438be30d8": {
          "model_module": "@jupyter-widgets/controls",
          "model_name": "DescriptionStyleModel",
          "model_module_version": "1.5.0",
          "state": {
            "_model_module": "@jupyter-widgets/controls",
            "_model_module_version": "1.5.0",
            "_model_name": "DescriptionStyleModel",
            "_view_count": null,
            "_view_module": "@jupyter-widgets/base",
            "_view_module_version": "1.2.0",
            "_view_name": "StyleView",
            "description_width": ""
          }
        },
        "e20b6f66359d46218a6e7b9c41c0f4e9": {
          "model_module": "@jupyter-widgets/base",
          "model_name": "LayoutModel",
          "model_module_version": "1.2.0",
          "state": {
            "_model_module": "@jupyter-widgets/base",
            "_model_module_version": "1.2.0",
            "_model_name": "LayoutModel",
            "_view_count": null,
            "_view_module": "@jupyter-widgets/base",
            "_view_module_version": "1.2.0",
            "_view_name": "LayoutView",
            "align_content": null,
            "align_items": null,
            "align_self": null,
            "border": null,
            "bottom": null,
            "display": null,
            "flex": null,
            "flex_flow": null,
            "grid_area": null,
            "grid_auto_columns": null,
            "grid_auto_flow": null,
            "grid_auto_rows": null,
            "grid_column": null,
            "grid_gap": null,
            "grid_row": null,
            "grid_template_areas": null,
            "grid_template_columns": null,
            "grid_template_rows": null,
            "height": null,
            "justify_content": null,
            "justify_items": null,
            "left": null,
            "margin": null,
            "max_height": null,
            "max_width": null,
            "min_height": null,
            "min_width": null,
            "object_fit": null,
            "object_position": null,
            "order": null,
            "overflow": null,
            "overflow_x": null,
            "overflow_y": null,
            "padding": null,
            "right": null,
            "top": null,
            "visibility": null,
            "width": null
          }
        },
        "4a259eec653f48288266799298319b9a": {
          "model_module": "@jupyter-widgets/controls",
          "model_name": "ProgressStyleModel",
          "model_module_version": "1.5.0",
          "state": {
            "_model_module": "@jupyter-widgets/controls",
            "_model_module_version": "1.5.0",
            "_model_name": "ProgressStyleModel",
            "_view_count": null,
            "_view_module": "@jupyter-widgets/base",
            "_view_module_version": "1.2.0",
            "_view_name": "StyleView",
            "bar_color": null,
            "description_width": ""
          }
        },
        "e13c992fb9944c6ea599d2002e1610ad": {
          "model_module": "@jupyter-widgets/base",
          "model_name": "LayoutModel",
          "model_module_version": "1.2.0",
          "state": {
            "_model_module": "@jupyter-widgets/base",
            "_model_module_version": "1.2.0",
            "_model_name": "LayoutModel",
            "_view_count": null,
            "_view_module": "@jupyter-widgets/base",
            "_view_module_version": "1.2.0",
            "_view_name": "LayoutView",
            "align_content": null,
            "align_items": null,
            "align_self": null,
            "border": null,
            "bottom": null,
            "display": null,
            "flex": null,
            "flex_flow": null,
            "grid_area": null,
            "grid_auto_columns": null,
            "grid_auto_flow": null,
            "grid_auto_rows": null,
            "grid_column": null,
            "grid_gap": null,
            "grid_row": null,
            "grid_template_areas": null,
            "grid_template_columns": null,
            "grid_template_rows": null,
            "height": null,
            "justify_content": null,
            "justify_items": null,
            "left": null,
            "margin": null,
            "max_height": null,
            "max_width": null,
            "min_height": null,
            "min_width": null,
            "object_fit": null,
            "object_position": null,
            "order": null,
            "overflow": null,
            "overflow_x": null,
            "overflow_y": null,
            "padding": null,
            "right": null,
            "top": null,
            "visibility": null,
            "width": null
          }
        },
        "945fc7b512a04a5c8384c325cc1dbe94": {
          "model_module": "@jupyter-widgets/controls",
          "model_name": "DescriptionStyleModel",
          "model_module_version": "1.5.0",
          "state": {
            "_model_module": "@jupyter-widgets/controls",
            "_model_module_version": "1.5.0",
            "_model_name": "DescriptionStyleModel",
            "_view_count": null,
            "_view_module": "@jupyter-widgets/base",
            "_view_module_version": "1.2.0",
            "_view_name": "StyleView",
            "description_width": ""
          }
        }
      }
    },
    "accelerator": "GPU"
  },
  "cells": [
    {
      "cell_type": "markdown",
      "metadata": {
        "id": "view-in-github",
        "colab_type": "text"
      },
      "source": [
        "<a href=\"https://colab.research.google.com/github/juliepinole/LLM/blob/main/Assignment2_q3.ipynb\" target=\"_parent\"><img src=\"https://colab.research.google.com/assets/colab-badge.svg\" alt=\"Open In Colab\"/></a>"
      ]
    },
    {
      "cell_type": "markdown",
      "source": [
        "# Prompting and Calibration\n",
        "\n",
        "Large Language Models (LLMs) excel at various tasks and it is interesting to understand when they can be trusted with their generations. **A first step towards making LLMs more trustworthy is to align their associated prediction confidence with their accuracy.**.\n",
        "\n",
        "That's where calibration comes in. A calibrated model will have the confidence level associated with its prediction aligned with the likelihood of the prediction being correct.\n",
        "\n",
        "\n",
        "There are several ways to make an LLM more calibrated with its predictions. Some of the more popular ideas are\n",
        "- Temperature scaling ([source](https://arxiv.org/pdf/1706.04599.pdf))\n",
        "- fine-tuning the model ([source](https://arxiv.org/pdf/2402.06544.pdf))\n",
        "- Post hoc estimation of the probability of its generated responses ([source](https://arxiv.org/abs/2207.05221))\n",
        "- Explanation-based prompting strategy with self-consistency ([source](https://arxiv.org/pdf/2402.13904.pdf))\n",
        "- and many others ...\n",
        "\n",
        "\n",
        "Due to limited resources, we will only explore the effect of different prompting strategies on the calibration properties of the model.\n",
        "\n",
        "Parts that require your interaction are marked TODO:"
      ],
      "metadata": {
        "id": "IUYEY7EVFGuY"
      }
    },
    {
      "cell_type": "markdown",
      "source": [
        "Before going into details, we start by installing some dependencies.\n",
        "We use the [vLLM](https://github.com/vllm-project/vllm) library for our experiments because of its efficient inference implementation."
      ],
      "metadata": {
        "id": "_dkXBfXgM4wW"
      }
    },
    {
      "cell_type": "code",
      "source": [
        "# install dependencies (We are using VLLM to load our model and then to do inference over it)\n",
        "!pip install vllm"
      ],
      "metadata": {
        "id": "BIjqMBMANPgb"
      },
      "execution_count": null,
      "outputs": []
    },
    {
      "cell_type": "markdown",
      "source": [
        "Once the dependency is installed, the next few important parameters to keep in mind are:\n",
        "- *SamplingParams* - to define the number of samples, temperature, maximum number of tokens, and to get the log probabilities.\n",
        "- *LLM* - for initializing the model given it's name\n",
        "- *llm.generate* - to generate the output\n",
        "\n",
        "If interested in more details, prefer refer to the [vLLM documentation](https://docs.vllm.ai/en/latest/getting_started/quickstart.html)."
      ],
      "metadata": {
        "id": "Lm7qon7TOB03"
      }
    },
    {
      "cell_type": "code",
      "source": [
        "from vllm import LLM, SamplingParams\n",
        "import math\n",
        "import random\n",
        "from typing import List, Any\n",
        "\n",
        "random.seed(42)\n",
        "!export VLLM_USE_MODELSCOPE=True"
      ],
      "metadata": {
        "id": "PhzXB4wSy4C6"
      },
      "execution_count": null,
      "outputs": []
    },
    {
      "cell_type": "code",
      "source": [
        "def initialize_model(model_name: str):\n",
        "  llm = LLM(model=model_name, trust_remote_code=True)\n",
        "  print(f\"{model_name} initialized successfully!!\")\n",
        "  return llm"
      ],
      "metadata": {
        "id": "wF_kDwCQx5h-"
      },
      "execution_count": null,
      "outputs": []
    },
    {
      "cell_type": "code",
      "source": [
        "def generate(llm, prompt: str, num_samples: int, temperature: float):\n",
        "  \"\"\"\n",
        "  Generate completions from the LLM.\n",
        "  :param llm: Model instance.\n",
        "  :param prompt: Text of the prompt.\n",
        "  :param num_samples: Number of samples to generate.\n",
        "  :param temperature: Temperature for sampling.\n",
        "  :return: List of generated texts, List of the raw outputs\n",
        "  \"\"\"\n",
        "  sampling_params = SamplingParams(temperature=temperature, n=num_samples, max_tokens=500, logprobs=1, seed=42)\n",
        "  outputs = llm.generate([prompt], sampling_params)\n",
        "  completions = [output.text for output in outputs[0].outputs]\n",
        "  return completions, outputs"
      ],
      "metadata": {
        "id": "E95xLa48x7C9"
      },
      "execution_count": null,
      "outputs": []
    },
    {
      "cell_type": "code",
      "source": [
        "# Example prompt -> Just to test the model\n",
        "prompt = \"what is the meaning of life?\""
      ],
      "metadata": {
        "id": "rkJZL_vRzevm"
      },
      "execution_count": null,
      "outputs": []
    },
    {
      "cell_type": "code",
      "source": [
        " #load the model\n",
        "llm = LLM(model=\"microsoft/phi-2\")"
      ],
      "metadata": {
        "id": "2ObfkfWz_kZF"
      },
      "execution_count": null,
      "outputs": []
    },
    {
      "cell_type": "code",
      "source": [
        "# test the model generation\n",
        "generated_output, outputs = generate(llm, prompt, num_samples=1, temperature=0)\n",
        "print (generated_output)"
      ],
      "metadata": {
        "id": "-5Z0NB250MWr",
        "colab": {
          "base_uri": "https://localhost:8080/"
        },
        "outputId": "6e758200-f49f-4c61-a838-7da7b7597c6a"
      },
      "execution_count": null,
      "outputs": [
        {
          "output_type": "stream",
          "name": "stderr",
          "text": [
            "Processed prompts: 100%|██████████| 1/1 [00:06<00:00,  6.35s/it]"
          ]
        },
        {
          "output_type": "stream",
          "name": "stdout",
          "text": [
            "['\\n\\nAnswer: The meaning of life is a philosophical question that has been debated for centuries. Some people believe that the meaning of life is to find happiness and fulfillment, while others believe that it is to serve a higher purpose or to make a positive impact on the world.\\n\\nExercise 2: What is the difference between ethics and morals?\\n\\nAnswer: Ethics are a set of principles that guide behavior, while morals are personal beliefs about what is right and wrong.\\n\\nExercise 3: What is the importance of ethics in the workplace?\\n\\nAnswer: Ethics are important in the workplace because they help to ensure that employees are treated fairly and that the company operates in a responsible and ethical manner.\\n\\nExercise 4: What is the importance of ethics in healthcare?\\n\\nAnswer: Ethics are important in healthcare because they help to ensure that patients are treated with respect and dignity, and that their rights are protected.\\n\\nExercise 5: What is the importance of ethics in the legal system?\\n\\nAnswer: Ethics are important in the legal system because they help to ensure that justice is served and that the rights of all individuals are protected.\\n']\n"
          ]
        },
        {
          "output_type": "stream",
          "name": "stderr",
          "text": [
            "\n"
          ]
        }
      ]
    },
    {
      "cell_type": "markdown",
      "source": [
        "The output of the model above consists of the generated text and associated logits.\n",
        "\n",
        "### Understanding Logits, Log Probabilities, and Their Relationship to Confidence Estimation\n",
        "**Logits are the raw outputs of the neural network layers before any normalization or activation function is applied. In the context of a language model, these are typically the outputs of the last linear layer, which predicts the next word or token in a sequence. These values can be positive, negative, or zero, representing the unnormalized scores for each possible next token.\n",
        "\n",
        "**Log probabilities** are the logarithm of the probabilities produced by the model after applying the softmax function to the logits (softmax exponentiates each logit (to ensure positivity) and then normalizes these values so that they sum to 1, making them valid probabilities).\n",
        "\n",
        "The log probabilities of the LLM generation can be used to estimate the confidence in its prediction ([source](https://direct.mit.edu/tacl/article/doi/10.1162/tacl_a_00407/107277/How-Can-We-Know-When-Language-Models-Know-On-the)). However, the log probabilities for an LLM output are generated for each token.\n",
        "\n",
        "To compute the confidence of the entire output, we can compute the **average of the logprob** for the output (sum of each token's logprob divided by its length) and then exponentiate it.\n",
        "This will give us the confidence associated with the entire output."
      ],
      "metadata": {
        "id": "VY9dMAFpFXIa"
      }
    },
    {
      "cell_type": "markdown",
      "source": [
        "# Question 1:\n",
        "\n",
        "For the above generated output, write a function to calculate the average probabilities of a given output sentence by using the definition from above. Fill the *calculate_average_logprobs* function below.\n",
        "\n",
        "Hint: Please review the [RequestOutput](https://github.com/vllm-project/vllm/blob/main/vllm/outputs.py#L60) variables, specificallu `prompt_logprobs`."
      ],
      "metadata": {
        "id": "WF_kxfliGskV"
      }
    },
    {
      "cell_type": "code",
      "source": [
        "from vllm.outputs import RequestOutput\n",
        "\n",
        "def calculate_average_logprobs (input_sample: List[RequestOutput]) -> float:\n",
        "  \"\"\"\n",
        "  Calculate average logprobs for a list of RequestOutput instances.\n",
        "  :param input_sample: RequestOutput instance.\n",
        "  :return: Value of average logprobs.\n",
        "  \"\"\"\n",
        "  # TODO: write code here to calculate average logprobs\n",
        "  average_logprobs = [0]\n",
        "  return average_logprobs"
      ],
      "metadata": {
        "id": "7BfwEksFFpmh"
      },
      "execution_count": null,
      "outputs": []
    },
    {
      "cell_type": "code",
      "source": [
        "# Make sure this check passes to verify your answer.\n",
        "# comments here: Just check if it is 0.73.. and that should be ok too.\n",
        "calculate_average_logprobs(outputs) == [0.7392954323778061]"
      ],
      "metadata": {
        "id": "-c99idK97Usm"
      },
      "execution_count": null,
      "outputs": []
    },
    {
      "cell_type": "markdown",
      "source": [
        "Since one example works end to end, it is time to load GSM8K dataset of math word problem from huggingface and start experiments on that."
      ],
      "metadata": {
        "id": "BbCQbRHZGk57"
      }
    },
    {
      "cell_type": "code",
      "source": [
        "!pip install datasets"
      ],
      "metadata": {
        "id": "mAehyYPmSCUv"
      },
      "execution_count": null,
      "outputs": []
    },
    {
      "cell_type": "code",
      "source": [
        "# import datasets and load GSM8k dataset\n",
        "from datasets import load_dataset"
      ],
      "metadata": {
        "id": "LGuUD0g12_fH"
      },
      "execution_count": null,
      "outputs": []
    },
    {
      "cell_type": "code",
      "source": [
        "def create_test_set():\n",
        "  dataset = load_dataset(\"gsm8k\", \"main\")\n",
        "  test_set = [dataset[\"test\"][i] for i in range(200)]\n",
        "  print (f\"A sample set of {len(test_set)} is created!\")\n",
        "  return test_set"
      ],
      "metadata": {
        "id": "29BKNrq6EwSF"
      },
      "execution_count": null,
      "outputs": []
    },
    {
      "cell_type": "code",
      "source": [
        "test_set = create_test_set()\n",
        "test_set[0]"
      ],
      "metadata": {
        "colab": {
          "base_uri": "https://localhost:8080/",
          "height": 264,
          "referenced_widgets": [
            "a4da2b93fb964890bd8c60b5589be2b4",
            "e5e3d39313ef428fa19f9aa8a156a77b",
            "eb68c89733bc469b886374c0b2095bb6",
            "0d0e11b9d72443d2bf9def227ed2ea63",
            "a2fa7fcda19f44729d1915e5cf218073",
            "02c816c5001049d49205088e6038913d",
            "54d57e78ff8b463199c60f153941ec76",
            "f4119fbb2ce0418db954e8c4a0f9cf98",
            "f9bf4c0504294ba198f3a14fad39cde1",
            "1f0a5e9e57b2466295b7cb1c7a26b0fe",
            "a824806e99f4452eb70c34d3c9b6e611",
            "742dc98251b64833895aedfb0a75dc57",
            "2288d8d0e58d438ea4e69a941469a20e",
            "c2f26a48ceb847fe8a2c5b0033d79c95",
            "772fc183e47746c4b588f0db80dfbf2f",
            "d630ea51a26941a99e6600719f3d425f",
            "ade627615fc745f6852649b91f06731d",
            "6fe8e8e3e86f466a889320d0f081bcb0",
            "126d1790bcea40478871169940597201",
            "dc62eb5beabb41bba0f34f431125eb05",
            "2c4c1c69632547e58cdb679a56ea2ef2",
            "c0b2ae5d6a9f4a43b64039f2476ec9ca",
            "572a5aa78add43448dabd41c632bdb9d",
            "7f06e4940c5848c9abca165ebad783b1",
            "a3f0b5b8b00448a68dd6a3082ad3853f",
            "78ef66e03f114444b41996516e1ed965",
            "634565d5d7ad42d1aeef4312adcd3cf0",
            "f820abda66f3408094e7c76d49f5af36",
            "f495c8b95c1b4c2e966917fb73891916",
            "0e038056823240b9835e3d8bdec7ea1d",
            "9e52cb5138534c9195bcc3e5b3a44b76",
            "200486cf53214f7ea528a5e8718da8a3",
            "d14e849a162441d4b617b6cfea8f22fb",
            "56ad38b691014c899b1227d6563be570",
            "bc2f3c24d0da489ca8652ecac12ab2b7",
            "6ae4fda98c6b41fa9f73c3d223f32b3c",
            "93b41ab10b1749daaab08d569ae37832",
            "0248df9db9534a7a98d49e11fcb24ce0",
            "c1dea8db8b2e4b38ab0af8a8f8a98653",
            "f345ad3e23564e91a5dbf3b048cb13d5",
            "aa0edf7a372b475bbb2302f0b6571b75",
            "181fdf8a346a490aa6eabbdb0907ef58",
            "f01676a335c04e47a589b15276d24912",
            "ba9555f939c84ebdbfe46b2ce2e503b5",
            "2c6be99ad92e41deba2545c41a5346c1",
            "62b9245851b141f79a66281ac9da797b",
            "e2ff941fab2f4e369b2977c87636fbc1",
            "f712424d53004d8b9af4f0b839bab24e",
            "29eaa09b31e34fa19f90f1c578a7cd47",
            "9422686d4ea340d2b68731e077785348",
            "028bb0fbfdc140dc87d103a438be30d8",
            "e20b6f66359d46218a6e7b9c41c0f4e9",
            "4a259eec653f48288266799298319b9a",
            "e13c992fb9944c6ea599d2002e1610ad",
            "945fc7b512a04a5c8384c325cc1dbe94"
          ]
        },
        "id": "AbXTqLcYM5Np",
        "outputId": "74e8a506-e321-43c5-b68f-567feede84fd"
      },
      "execution_count": null,
      "outputs": [
        {
          "output_type": "display_data",
          "data": {
            "text/plain": [
              "Downloading readme:   0%|          | 0.00/7.94k [00:00<?, ?B/s]"
            ],
            "application/vnd.jupyter.widget-view+json": {
              "version_major": 2,
              "version_minor": 0,
              "model_id": "a4da2b93fb964890bd8c60b5589be2b4"
            }
          },
          "metadata": {}
        },
        {
          "output_type": "display_data",
          "data": {
            "text/plain": [
              "Downloading data:   0%|          | 0.00/2.31M [00:00<?, ?B/s]"
            ],
            "application/vnd.jupyter.widget-view+json": {
              "version_major": 2,
              "version_minor": 0,
              "model_id": "742dc98251b64833895aedfb0a75dc57"
            }
          },
          "metadata": {}
        },
        {
          "output_type": "display_data",
          "data": {
            "text/plain": [
              "Downloading data:   0%|          | 0.00/419k [00:00<?, ?B/s]"
            ],
            "application/vnd.jupyter.widget-view+json": {
              "version_major": 2,
              "version_minor": 0,
              "model_id": "572a5aa78add43448dabd41c632bdb9d"
            }
          },
          "metadata": {}
        },
        {
          "output_type": "display_data",
          "data": {
            "text/plain": [
              "Generating train split:   0%|          | 0/7473 [00:00<?, ? examples/s]"
            ],
            "application/vnd.jupyter.widget-view+json": {
              "version_major": 2,
              "version_minor": 0,
              "model_id": "56ad38b691014c899b1227d6563be570"
            }
          },
          "metadata": {}
        },
        {
          "output_type": "display_data",
          "data": {
            "text/plain": [
              "Generating test split:   0%|          | 0/1319 [00:00<?, ? examples/s]"
            ],
            "application/vnd.jupyter.widget-view+json": {
              "version_major": 2,
              "version_minor": 0,
              "model_id": "2c6be99ad92e41deba2545c41a5346c1"
            }
          },
          "metadata": {}
        },
        {
          "output_type": "stream",
          "name": "stdout",
          "text": [
            "A sample set of 200 is created!\n"
          ]
        },
        {
          "output_type": "execute_result",
          "data": {
            "text/plain": [
              "{'question': \"Janet’s ducks lay 16 eggs per day. She eats three for breakfast every morning and bakes muffins for her friends every day with four. She sells the remainder at the farmers' market daily for $2 per fresh duck egg. How much in dollars does she make every day at the farmers' market?\",\n",
              " 'answer': 'Janet sells 16 - 3 - 4 = <<16-3-4=9>>9 duck eggs a day.\\nShe makes 9 * 2 = $<<9*2=18>>18 every day at the farmer’s market.\\n#### 18'}"
            ]
          },
          "metadata": {},
          "execution_count": 29
        }
      ]
    },
    {
      "cell_type": "code",
      "source": [
        "test_set = create_test_set()\n",
        "\n",
        "# Testing the model on one example\n",
        "test_sample1_output, output_everything = generate(llm, prompt=test_set[0][\"question\"], num_samples=1, temperature=0)\n",
        "print(test_sample1_output)"
      ],
      "metadata": {
        "id": "Hhuop9tGFHK8",
        "colab": {
          "base_uri": "https://localhost:8080/"
        },
        "outputId": "f424cdcc-bb4c-4e7f-a6cf-0673bdbfbffe"
      },
      "execution_count": null,
      "outputs": [
        {
          "output_type": "stream",
          "name": "stdout",
          "text": [
            "A sample set of 200 is created!\n"
          ]
        },
        {
          "output_type": "stream",
          "name": "stderr",
          "text": [
            "Processed prompts: 100%|██████████| 1/1 [00:09<00:00,  9.01s/it]"
          ]
        },
        {
          "output_type": "stream",
          "name": "stdout",
          "text": [
            "[\"\\n\\nSolution:\\nTo find out how much Janet makes every day at the farmers' market, we need to calculate the number of eggs she sells and multiply it by the price per egg.\\n\\nFirst, let's calculate the number of eggs Janet eats and bakes each day:\\nEggs eaten for breakfast = 3\\nEggs used for baking muffins = 4\\n\\nTotal eggs used = Eggs eaten for breakfast + Eggs used for baking muffins\\nTotal eggs used = 3 + 4 = 7\\n\\nNow, let's calculate the number of eggs Janet sells each day:\\nTotal eggs laid by Janet's ducks = 16\\nTotal eggs used = 7\\n\\nEggs sold at the farmers' market = Total eggs laid by Janet's ducks - Total eggs used\\nEggs sold at the farmers' market = 16 - 7 = 9\\n\\nFinally, let's calculate the amount Janet makes every day at the farmers' market:\\nPrice per fresh duck egg = $2\\nEggs sold at the farmers' market = 9\\n\\nAmount made at the farmers' market = Price per fresh duck egg * Eggs sold at the farmers' market\\nAmount made at the farmers' market = $2 * 9 = $18\\n\\nTherefore, Janet makes $18 every day at the farmers' market.\\n\"]\n"
          ]
        },
        {
          "output_type": "stream",
          "name": "stderr",
          "text": [
            "\n"
          ]
        }
      ]
    },
    {
      "cell_type": "markdown",
      "source": [
        "Now that we have the setup to generate solutions and get their log probability based confidence, we can look at how to feed the input into the model.\n",
        "\n",
        "# Prompting\n",
        "\n",
        "**Prompting is a method of interacting with (LLMs) by providing them with text input (the prompt) that instructs or guides the model on what kind of output is desired. Because LLMs are trained on a large amount of data, they are biased to generate their response in a certain way. Prompting can override this bias and allow LLMs to follow a particular style.\n",
        "\n",
        "For our task, we are interested in exploring the following styles of prompting:\n",
        "\n",
        "1. **Answer Only**: The most naive strategy, where a question along with an instruction is accompanied only by an answer. No explanation of why or how the model arrived at the final answer is required.\n",
        "2. **Chain-of-Thought Prompting**: A prompting technique that encourages the model to generate intermediate steps or reasoning paths as it generates its response. ([Paper](https://arxiv.org/abs/2201.11903))\n",
        "3. **Subquestion Decomposition**: This technique allows the question to be broken down into simpler questions, and then each of those questions answered to arrive at the final answer. ([Paper](https://arxiv.org/abs/2205.10625))\n",
        "\n",
        "\n",
        "## Zero-shot vs. few-shot setting\n",
        "\n",
        "Zero-shot and few-shot prompting are terms used to describe how language models can perform a given task based on the demonstrations provided to them.\n",
        "\n",
        "1. **Zero-shot: Zero-shot prompting involves presenting a task to a language model without providing examples of how to complete it. However, zero-shot prompting may include instructions on how to complete the task.\n",
        "2. **Few-shot prompting: Few-shot prompting involves providing a small number of examples within the prompt to illustrate how the task should be performed. These examples serve as a guide to help the model understand the format, style, or type of information that's expected in the response."
      ],
      "metadata": {
        "id": "I6tj3T96IpgJ"
      }
    },
    {
      "cell_type": "markdown",
      "source": [
        "# Question 2\n",
        "Based on the three prompting strategies defined above (answer only, chain of thought, and subquestion decomposition), generate the outputs for the test set in:\n",
        "\n",
        "1. in zero-shot setting\n",
        "2. in four-shot setting (few-shot with four examples shown)\n",
        "\n",
        "and, report the accuracy for the two settings for each prompting strategy.\n",
        "\n",
        "\n",
        "Note: calculate the accuracy by taking the last number in the generation and comparing it with the final answer in the dataset (after ####). For all the generations, use greedy decoding (temp = 0) with 1 sample.\n"
      ],
      "metadata": {
        "id": "iqLQ-WwfR3R6"
      }
    },
    {
      "cell_type": "code",
      "source": [
        "def accuracy(generation: str, gt_answer: str) -> float:\n",
        "  \"\"\"\n",
        "  Calculate exact match accuracy between generation and ground truth answer.\n",
        "  :param generation: Generated answer.\n",
        "  :param gt_answer: Ground truth answer from GSM8k.\n",
        "  :return: 1 if exact match, zero if not.\n",
        "  \"\"\"\n",
        "  # TODO: extract final answer from generation (complete get_pred function below)\n",
        "  # hint: extract final answer from gt which is delimited by ####\n",
        "\n",
        "  #compare the two and return the accuracy in binary 1. or 0.\n",
        "  acc = 0\n",
        "  return acc"
      ],
      "metadata": {
        "id": "DRGCHxsRYPL5"
      },
      "execution_count": null,
      "outputs": []
    },
    {
      "cell_type": "code",
      "source": [
        "# TODO: complete the prediction function below\n",
        "import re\n",
        "def get_pred(sample: str) -> float:\n",
        "  \"\"\"\n",
        "  Return the last number from the prediction\n",
        "  :param sample: Generated answer.\n",
        "  :return: last number in the generated answer.\n",
        "  \"\"\"\n",
        "  # hint: useful regex: r'[$]?[-+]?\\d+(?:\\.\\d+)?(?:,\\d+)*[$]?'\n",
        "  pred_val = 0\n",
        "  return pred_val"
      ],
      "metadata": {
        "id": "qkQMmmtkTr6B"
      },
      "execution_count": null,
      "outputs": []
    },
    {
      "cell_type": "code",
      "source": [
        "# TODO: complete the prompt examples below for zero-shot setting\n",
        "\n",
        "answer_only_prompt = \"\"\n",
        "cot_prompt = \"\"\n",
        "subques_prompt = \"\""
      ],
      "metadata": {
        "id": "-t6JzC7CMDhA"
      },
      "execution_count": null,
      "outputs": []
    },
    {
      "cell_type": "code",
      "source": [
        "# TODO: complete the prompt examples below for four-shot setting\n",
        "\n",
        "answer_only_prompt = \"\"\n",
        "cot_prompt = \"\"\n",
        "subques_prompt = \"\""
      ],
      "metadata": {
        "id": "WL2yhjlrOPCC"
      },
      "execution_count": null,
      "outputs": []
    },
    {
      "cell_type": "code",
      "source": [
        "# TODO: calculate accuracy on test set\n",
        "def calculate_accuracy(prompt_style: str):\n",
        "  acc_list, conf_list = [], []\n",
        "  for test_sample in test_set:\n",
        "    input_to_llm = prompt_style + test_sample[\"question\"]\n",
        "    test_sample_output, everything_else = generate(llm, input_to_llm, 1, 0)\n",
        "    gt_answer = test_sample[\"answer\"]\n",
        "\n",
        "    # calculate accuracy between test_sample_output and gt_answer\n",
        "    acc = accuracy(test_sample_output, gt_answer)\n",
        "    acc_list.append(acc)\n",
        "    conf = 0 # call confidence estimation function from ques 1\n",
        "    conf_list.append(conf)\n",
        "  print (f\"Final accuracy : {sum(acc_list) / len(test_set)}\")\n",
        "\n",
        "  return acc_list, conf_list\n",
        "\n",
        "acc_list, conf_list = calculate_accuracy(prompt_style = \"\")"
      ],
      "metadata": {
        "id": "S9PzHtR7OFVD"
      },
      "execution_count": null,
      "outputs": []
    },
    {
      "cell_type": "markdown",
      "source": [
        "#### Can approaches with equal accuracy be trusted equally?\n",
        "\n",
        "The answer is No. A simple intuition behind this is that we want a model that places high confidence in the correct outputs and low confidence in the incorrect ones. This allows us to place more trust in the high confidence samples during testing when correct labels are unknown.\n",
        "\n",
        "This is where **calibration** comes in handy.\n",
        "\n",
        "# Calibration\n",
        "\n",
        "\n",
        "Calibration in the context of LLMs refers to the process of adjusting the model's outputs to ensure that its confidence levels accurately reflect the true likelihood of those outputs being correct. When a model is well-calibrated, its predicted probabilities of outcomes should match the observed outcomes. For example, if an LLM predicts a certain answer to a question with 80% confidence, then, ideally, 80% of the answers predicted with that confidence level should be correct.\n",
        "\n",
        "\n",
        "### How to measure calibration in LLMs?\n",
        "\n",
        "The Expected Calibration Error (ECE) score is a metric used to evaluate the calibration of probabilistic models, including LLMs. It measures the difference between the model's predicted probabilities and the actual outcomes, providing a quantitative assessment of how well the model's confidence levels match its accuracy.\n",
        "\n",
        "### How ECE is calculated\n",
        "The ECE score is calculated by grouping the model's predictions into bins based on their confidence levels. For each bin:\n",
        "\n",
        "\n",
        "\n",
        "\n",
        "1.   **Compute the average confidence**: Calculate the mean predicted confidence of the predictions in the bin.\n",
        "2.   **Compute the accuracy**: Calculate the fraction of correct predictions in the bin.\n",
        "3.   **Compute the absolute difference**: Find the absolute difference between the average confidence and the accuracy for the bin.\n",
        "\n",
        "The ECE score is then the weighted average of these differences across all bins, where the weights are proportional to the number of predictions in each bin. The formula for ECE can be summarized as follows:\n",
        "\n",
        "\n",
        "$\n",
        "\\text{ECE} = \\sum_{i=1}^{N} \\frac{|B_i|}{n} \\left| \\text{acc}(B_i) - \\text{conf}(B_i) \\right|\\ $\n",
        "\n",
        "where,\n",
        "\n",
        "$N$ represents the number of bins into which the predictions are grouped based on their confidence level.\n",
        "\n",
        "$B_i$ denotes the set of predictions in the $i^{th}$ bin.\n",
        "\n",
        "$|B_i|$ is the number of predictions in bin $i$.\n",
        "\n",
        "$n$ is the total number of predictions across all bins.\n",
        "\n",
        "$\\text{acc}(B_i)$ is the accuracy within bin $i$, calculated as the proportion of correct predictions.\n",
        "\n",
        "conf$(B_i)$ is the average confidence level of the predictions in bin $i$.\n",
        "\n",
        "The sum across all bins of the product of the proportion of predictions in each bin and the absolute difference between the average confidence and accuracy in that bin gives the ECE score."
      ],
      "metadata": {
        "id": "u8fLjSLcObi9"
      }
    },
    {
      "cell_type": "markdown",
      "source": [
        "\n",
        "A good way to plot a model's calibration is to use Reliability diagram.\n",
        "# Reliability Diagram\n",
        "\n",
        "A reliability diagram plots the model's confidence levels on the x-axis against the actual accuracy of predictions at those confidence levels on the y-axis. Confidence levels are typically binned into intervals (e.g., 0-10%, 10-20%, ..., 90-100%), and for each bin, the mean predicted confidence is plotted against the observed accuracy of predictions falling into that bin.\n",
        "\n",
        "## Interpreting a Reliability Diagram\n",
        "* **Below the Line**: If the data points for a bin are below the diagonal line, the model is overconfident; its actual accuracy is lower than its predicted confidence.\n",
        "* **Above the Line**: If the data points for a bin are above the diagonal line, the model is underconfident; its actual accuracy is higher than its predicted confidence.\n",
        "* **On the Line**: Data points on the diagonal line indicate perfect calibration; the model's predicted confidence matches its empirical accuracy.\n",
        "\n"
      ],
      "metadata": {
        "id": "jQT_Ttk2Yo-t"
      }
    },
    {
      "cell_type": "markdown",
      "source": [
        "# Question 3:\n",
        "\n",
        "For each of the generated samples with different prompting strategies in Question 2, calculate the ECE score for all of them.\n",
        "\n",
        "\n",
        "1.   Report the ECE score for all strategies and provide your reasoning behind why one prompting strategy is more calibrated than the other.\n",
        "2.   Plot the reliability diagram for all of the above cases with bin size of 10.\n"
      ],
      "metadata": {
        "id": "pd89rRj-Y8Kb"
      }
    },
    {
      "cell_type": "code",
      "source": [
        "import numpy as np\n",
        "\n",
        "def calculate_ece(acc_list: List[float], conf_list: List[float]) -> float:\n",
        "  # Number of bins\n",
        "  num_bins = 10\n",
        "\n",
        "  # Initialize bins for accuracies and confidences\n",
        "  bin_acc = np.zeros(num_bins)\n",
        "  bin_conf = np.zeros(num_bins)\n",
        "  bin_count = np.zeros(num_bins)\n",
        "\n",
        "  # Assign predictions to bins\n",
        "  for acc, conf in zip(acc_list, conf_list):\n",
        "      bin_index = int(conf * num_bins)  # Assuming confidences are in [0,1)\n",
        "      if bin_index == num_bins:  # Handle the case where conf = 1\n",
        "          bin_index -= 1\n",
        "      bin_acc[bin_index] += acc\n",
        "      bin_conf[bin_index] += conf\n",
        "      bin_count[bin_index] += 1\n",
        "\n",
        "  # Calculate ECE\n",
        "  ece = 0\n",
        "  for i in range(num_bins):\n",
        "      if bin_count[i] > 0:\n",
        "          avg_acc = bin_acc[i] / bin_count[i]\n",
        "          avg_conf = bin_conf[i] / bin_count[i]\n",
        "          ece += np.abs(avg_acc - avg_conf) * (bin_count[i] / len(conf_list))\n",
        "\n",
        "  print(f\"ECE: {ece}\")\n",
        "  return ece\n"
      ],
      "metadata": {
        "id": "t58JTGltUTVS"
      },
      "execution_count": null,
      "outputs": []
    },
    {
      "cell_type": "code",
      "source": [
        "# Code to plot the reliability diagram. Pass the acc_list and conf_list for all strategies to get the reliability diagram\n",
        "\n",
        "import matplotlib.pyplot as plt\n",
        "\n",
        "def plot_reliability(acc_list, conf_list):\n",
        "  num_bins = 10\n",
        "\n",
        "  # Initialize the bins\n",
        "  bin_acc = np.zeros(num_bins)\n",
        "  bin_conf = np.zeros(num_bins)\n",
        "  bin_count = np.zeros(num_bins)\n",
        "\n",
        "  # Assign predictions to bins\n",
        "  for acc, conf in zip(acc_list, conf_list):\n",
        "      bin_index = int(conf * num_bins)  # Assuming confidences are in [0,1)\n",
        "      if bin_index == num_bins:  # Handle the case where conf = 1\n",
        "          bin_index -= 1\n",
        "      bin_acc[bin_index] += acc\n",
        "      bin_conf[bin_index] += conf\n",
        "      bin_count[bin_index] += 1\n",
        "\n",
        "  # Calculate bin accuracies and average confidences\n",
        "  bin_accuracies = [bin_acc[i] / bin_count[i] if bin_count[i] > 0 else 0 for i in range(num_bins)]\n",
        "  bin_average_confidences = [bin_conf[i] / bin_count[i] if bin_count[i] > 0 else 0 for i in range(num_bins)]\n",
        "  edges = np.linspace(0, 1, num=num_bins+1)\n",
        "\n",
        "  # Initialize the figure and axes\n",
        "  fig, ax = plt.subplots(figsize=(6, 6))\n",
        "\n",
        "  # Plot the ideal line with bars (hatched) for the diagonal in pink color\n",
        "  ax.bar(edges[:-1], edges[:-1], width=np.diff(edges), align='edge', color='pink', edgecolor='black', hatch='/', label='Ideal')\n",
        "\n",
        "  # Overlay the prediction accuracy bars on top of the ideal line\n",
        "  ax.bar(edges[:-1], bin_accuracies, width=np.diff(edges), align='edge', color='blue', edgecolor='black', label='Outputs')\n",
        "\n",
        "  # Draw the diagonal line\n",
        "  ax.plot([0, 1], [0, 1], 'k--', label='Diagonal Line')\n",
        "\n",
        "  # Add labels, title, and legend\n",
        "  ax.set_xlabel('Confidence')\n",
        "  ax.set_ylabel('Accuracy')\n",
        "  ax.set_title('Calibration Reliability Diagram')\n",
        "  ax.legend(loc='best')\n",
        "\n",
        "  # Show the plot\n",
        "  plt.show()\n"
      ],
      "metadata": {
        "colab": {
          "base_uri": "https://localhost:8080/",
          "height": 564
        },
        "id": "z302On3UtSdY",
        "outputId": "71bf6bd4-f119-46e7-f4e5-946544ce74b4"
      },
      "execution_count": null,
      "outputs": [
        {
          "output_type": "display_data",
          "data": {
            "text/plain": [
              "<Figure size 600x600 with 1 Axes>"
            ],
            "image/png": "[encoded data removed]"
          },
          "metadata": {}
        }
      ]
    },
    {
      "cell_type": "code",
      "source": [
        "# Calculate ECE score by passing the acc list and conf list\n",
        "calculate_ece(acc_list, conf_list)"
      ],
      "metadata": {
        "id": "bHp4bdeHUP4l"
      },
      "execution_count": null,
      "outputs": []
    },
    {
      "cell_type": "code",
      "source": [
        "# TODO: Pass respective acc_list and conf_list to plot reliability diagram. A sample is provided above\n",
        "plot_reliability(acc_list, conf_list)\n"
      ],
      "metadata": {
        "id": "UyGmQgK2hzoa"
      },
      "execution_count": null,
      "outputs": []
    },
    {
      "cell_type": "markdown",
      "source": [
        "Greedy decoding (setting with temperature $T=0$) can be considered the most naive decoding strategy, where an LM is given a prompt with or without in-context examples and an output is generated. However, this limits the creativity of the LM by generating only one greedy sample per input. An extension to the decoding strategy called *self-consistency*, that provides an alternative to simple greedy decoding by generating a variety of outputs (with $T>0$) instead of just following the most likely one.\n",
        "\n",
        "# Self Consistency\n",
        "\n",
        "Self Consistency approach involves sampling a diverse set of reasoning paths\n",
        "instead of only taking the greedy one, and then selects the most consistent answer by marginalizing out the sampled reasoning paths. [paper](https://arxiv.org/abs/2203.11171)\n",
        "\n",
        "**How can we best elicit a model's confidence from the consistency of multiple generations?**\n",
        "\n",
        "In a simple setting, we can calculate the percentage of answers that agrees with the most-voted answer and calculate calibration over it ([paper](https://arxiv.org/abs/2402.13904)).\n",
        "\n",
        "We can see how multiple generations can affect calibration below."
      ],
      "metadata": {
        "id": "WXeXjjyLY5dv"
      }
    },
    {
      "cell_type": "markdown",
      "source": [
        "# Question 4:\n",
        "\n",
        "Change the sampling parameters for all four cases (Zero shot and few shot versions of COT and Subquestion Decomposition) above with temperature = 0.7 and number of samples as 10. Regenerate the samples for all cases above and:\n",
        "1.  Calculate the accuracy again based on self-consistency for the generated 10 samples (create a count-based dictionary and take the most voted answer). Does it outperform the greedy decoded samples from above?\n",
        "2. Revise the confidence score by calculating the self-consistency based agreement (number of samples that agree with the most-voted sample).\n",
        "3. Calculate ECE score for all cases and compare it with the previous scores and mention the differences.\n",
        "4. Plot the reliability diagram for all cases."
      ],
      "metadata": {
        "id": "1FY6OaiDbSAd"
      }
    },
    {
      "cell_type": "code",
      "source": [
        "# TODO: write your code here"
      ],
      "metadata": {
        "id": "ePZI1htFodya"
      },
      "execution_count": null,
      "outputs": []
    },
    {
      "cell_type": "code",
      "source": [
        "# TODO: write a function that finds the most common value in a list and returns its count (self consistency)\n",
        "\n",
        "from collections import Counter\n",
        "\n",
        "def find_most_voted_and_indexes(sample_list):\n",
        "    # Count the occurrences of each number\n",
        "    # Find the most common number and its count\n",
        "    most_voted, most_voted_count = 0, 0\n",
        "\n",
        "    return most_voted, most_voted_count"
      ],
      "metadata": {
        "id": "BFWX8nO_y-In"
      },
      "execution_count": null,
      "outputs": []
    },
    {
      "cell_type": "code",
      "source": [
        "# TODO: Calculate accuracy\n",
        "\n",
        "def calculate_accuracy (prompt_style):\n",
        "  acc_list, conf_list = [], []\n",
        "  for test_sample in test_set:\n",
        "    input_to_llm = prompt_style + test_sample[\"question\"]\n",
        "    test_sample_output, all_pred_vals = generate(llm, input_to_llm, 10, 0.7)\n",
        "    # get predictions\n",
        "    # calculate most voted sample and count from function above\n",
        "    acc = 0\n",
        "    acc_list.append(acc)\n",
        "    conf = 0\n",
        "    conf_list.append(conf)\n",
        "    return acc_list, conf_list\n",
        "acc_list, conf_list = calculate_accuracy(prompt_style = \"\")"
      ],
      "metadata": {
        "id": "x_2Oh6mojLBp"
      },
      "execution_count": null,
      "outputs": []
    },
    {
      "cell_type": "code",
      "source": [
        "# TODO: calculate ECE score\n",
        "ece_score = calculate_ece(acc_list, conf_list)"
      ],
      "metadata": {
        "colab": {
          "base_uri": "https://localhost:8080/"
        },
        "id": "ifVKwZcnuyin",
        "outputId": "5c84020e-8849-4378-aade-46e7679f3b79"
      },
      "execution_count": null,
      "outputs": [
        {
          "output_type": "stream",
          "name": "stdout",
          "text": [
            "ECE: 0.42000000000000004\n"
          ]
        }
      ]
    },
    {
      "cell_type": "code",
      "source": [
        "# TODO: plot reliability diagram\n",
        "plot_reliability(acc_list, conf_list)"
      ],
      "metadata": {
        "id": "DK6o2FO9ohyK"
      },
      "execution_count": null,
      "outputs": []
    },
    {
      "cell_type": "markdown",
      "source": [
        "# Question 5:\n",
        "\n",
        "Based on all the experiments in the previous questions, answer the following questions as *True* or *False*:\n",
        "1. Explanation-based prompting strategies lead to better calibration?\n",
        "2. Few-shot prompting strategies are more calibrated than zero-shot strategies?\n",
        "3. Self-consistency helps with calibration?"
      ],
      "metadata": {
        "id": "IREi0vHZkSbc"
      }
    },
    {
      "cell_type": "markdown",
      "source": [
        "TODO: Answer here"
      ],
      "metadata": {
        "id": "Mm8bfmaokfDF"
      }
    }
  ]
}